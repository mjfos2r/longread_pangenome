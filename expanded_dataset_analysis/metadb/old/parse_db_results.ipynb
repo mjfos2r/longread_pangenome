{
 "cells": [
  {
   "cell_type": "code",
   "execution_count": 23,
   "metadata": {},
   "outputs": [],
   "source": [
    "#!/usr/bin/env python3\n",
    "import pandas\n",
    "import pickle\n",
    "from Bio.Seq import Seq\n",
    "from Bio.SeqRecord import SeqRecord\n",
    "from Bio import SeqIO\n",
    "import re"
   ]
  },
  {
   "cell_type": "code",
   "execution_count": 36,
   "metadata": {},
   "outputs": [],
   "source": [
    "def sanitize_filename(filename, replacement='_'):\n",
    "    \"\"\"\n",
    "    Sanitize a string to make it safe for use as a filename.\n",
    "\n",
    "    Parameters:\n",
    "    - filename: str, the original filename\n",
    "    - replacement: str, the character to replace unsafe characters with (default: '_')\n",
    "\n",
    "    Returns:\n",
    "    - str, the sanitized filename\n",
    "    \"\"\"\n",
    "    # Replace unsafe characters with the replacement character\n",
    "    sanitized = re.sub(r'[\\/\\\\\\?\\%\\*\\:\\|\\\"<>\\s]', replacement, filename)\n",
    "    # Truncate the filename to a reasonable length: 200 chars should suffice.\n",
    "    sanitized = sanitized[:200]\n",
    "    # Remove leading and trailing replacement characters\n",
    "    sanitized = sanitized.strip(replacement)\n",
    "    return sanitized\n",
    "\n",
    "# Function to create SeqRecord objects\n",
    "def create_seq_record(row):\n",
    "    return SeqRecord(\n",
    "        Seq(row['sequence']),\n",
    "        id=row['locus_tag'],  # Use 'locus_tag' or another unique identifier\n",
    "        name=row['gene'],\n",
    "        description=f\"{row['product']} {row['assembly']}\",\n",
    "        annotations={\n",
    "            'protein_id': row['protein_id'],\n",
    "            'replicon': row['replicon'],\n",
    "            'replicon_name': row['replicon_name'],\n",
    "            'start': row['start'],\n",
    "            'end': row['end'],\n",
    "            'strand': row['strand'],\n",
    "            'assembly': row['assembly'],\n",
    "            'translation': row['translation'],\n",
    "            'inference': row['inference'],\n",
    "            'transl_table': row['transl_table'],\n",
    "            'db_xrefs': row['db_xrefs']\n",
    "        }\n",
    "    )"
   ]
  },
  {
   "cell_type": "code",
   "execution_count": 25,
   "metadata": {},
   "outputs": [],
   "source": [
    "pickle_df = '/Users/mf019/bioinformatics/longread_pangenome/notebooks/metadb/clustered_proteins_db_results_v1.pkl'\n",
    "\n",
    "with open(pickle_df, 'rb') as jar:\n",
    "    df_dict = pickle.load(jar)"
   ]
  },
  {
   "cell_type": "code",
   "execution_count": 38,
   "metadata": {},
   "outputs": [],
   "source": [
    "multifasta_out = 'group_multifasta'\n",
    "\n",
    "for group in df_dict.keys():\n",
    "    temp_df = pandas.DataFrame(df_dict[group])\n",
    "    group_records = [create_seq_record(row) for index, row in temp_df.iterrows()]\n",
    "    sanitized_group = sanitize_filename(group, '_')\n",
    "    file_out = f'{multifasta_out}/{sanitized_group}.multi.fna'\n",
    "    with open(file_out, 'w') as out:\n",
    "        SeqIO.write(group_records, out, \"fasta\")\n"
   ]
  },
  {
   "cell_type": "code",
   "execution_count": 46,
   "metadata": {},
   "outputs": [
    {
     "name": "stdout",
     "output_type": "stream",
     "text": [
      "                       lp36  lp28-3  lp21  lp38  lp28-1  chromosome  lp17  \\\n",
      "Lipoprotein            59.0    11.0   2.0   1.0     1.0         0.0   0.0   \n",
      "Putative antigen, P35  48.0     7.0   1.0   1.0     1.0         0.0   0.0   \n",
      "lptF                    0.0     0.0   0.0   0.0     0.0        49.0   0.0   \n",
      "group_3281              0.0     0.0   0.0   0.0     0.0        49.0   0.0   \n",
      "htpG                    0.0     0.0   0.0   0.0     0.0        49.0   0.0   \n",
      "...                     ...     ...   ...   ...     ...         ...   ...   \n",
      "group_2276              0.0     0.0   0.0   0.0     0.0         0.0   0.0   \n",
      "group_704               0.0     1.0   0.0   0.0     0.0         0.0   0.0   \n",
      "group_1306              1.0     0.0   0.0   0.0     0.0         0.0   0.0   \n",
      "group_1689              0.0     0.0   0.0   0.0     0.0         0.0   0.0   \n",
      "group_1218              0.0     0.0   0.0   0.0     0.0         1.0   0.0   \n",
      "\n",
      "                       cp26  cp32-7  cp32-10  ...  lp28-9  lp56  cp9  cp9-3  \\\n",
      "Lipoprotein             0.0     0.0      0.0  ...     0.0   0.0  0.0    0.0   \n",
      "Putative antigen, P35   0.0     0.0      0.0  ...     0.0   0.0  0.0    0.0   \n",
      "lptF                    0.0     0.0      0.0  ...     0.0   0.0  0.0    0.0   \n",
      "group_3281              0.0     0.0      0.0  ...     0.0   0.0  0.0    0.0   \n",
      "htpG                    0.0     0.0      0.0  ...     0.0   0.0  0.0    0.0   \n",
      "...                     ...     ...      ...  ...     ...   ...  ...    ...   \n",
      "group_2276              0.0     0.0      0.0  ...     0.0   0.0  0.0    0.0   \n",
      "group_704               0.0     0.0      0.0  ...     0.0   0.0  0.0    0.0   \n",
      "group_1306              0.0     0.0      0.0  ...     0.0   0.0  0.0    0.0   \n",
      "group_1689              0.0     0.0      0.0  ...     1.0   0.0  0.0    0.0   \n",
      "group_1218              0.0     0.0      0.0  ...     0.0   0.0  0.0    0.0   \n",
      "\n",
      "                       lp28-6  lp5  lp21-cp9  lp28-11  cp32-9-4  cp32-2  \n",
      "Lipoprotein               0.0  0.0       0.0      0.0       0.0     0.0  \n",
      "Putative antigen, P35     0.0  0.0       0.0      0.0       0.0     0.0  \n",
      "lptF                      0.0  0.0       0.0      0.0       0.0     0.0  \n",
      "group_3281                0.0  0.0       0.0      0.0       0.0     0.0  \n",
      "htpG                      0.0  0.0       0.0      0.0       0.0     0.0  \n",
      "...                       ...  ...       ...      ...       ...     ...  \n",
      "group_2276                0.0  0.0       0.0      0.0       0.0     0.0  \n",
      "group_704                 0.0  0.0       0.0      0.0       0.0     0.0  \n",
      "group_1306                0.0  0.0       0.0      0.0       0.0     0.0  \n",
      "group_1689                0.0  0.0       0.0      0.0       0.0     0.0  \n",
      "group_1218                0.0  0.0       0.0      0.0       0.0     0.0  \n",
      "\n",
      "[3921 rows x 37 columns]\n"
     ]
    }
   ],
   "source": [
    "rows = []\n",
    "for gene in df_dict.keys():\n",
    "    counts = df_dict[gene]['replicon_name'].value_counts()\n",
    "    new_row = counts.to_dict()\n",
    "    rows.append(new_row)\n",
    "group2plasmid_df = pandas.DataFrame(rows, index=df_dict.keys()).fillna(0)\n",
    "print(group2plasmid_df)\n",
    "group2plasmid_df.to_csv('group2plasmid_df_v1.csv')\n"
   ]
  }
 ],
 "metadata": {
  "kernelspec": {
   "display_name": "Python 3",
   "language": "python",
   "name": "python3"
  },
  "language_info": {
   "codemirror_mode": {
    "name": "ipython",
    "version": 3
   },
   "file_extension": ".py",
   "mimetype": "text/x-python",
   "name": "python",
   "nbconvert_exporter": "python",
   "pygments_lexer": "ipython3",
   "version": "3.11.7"
  }
 },
 "nbformat": 4,
 "nbformat_minor": 2
}
