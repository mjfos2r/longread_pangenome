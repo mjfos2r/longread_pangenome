{
 "cells": [
  {
   "cell_type": "markdown",
   "id": "d019cfc7-b146-4172-8a06-7a97de03b162",
   "metadata": {},
   "source": [
    "### Table of replicon annotations"
   ]
  },
  {
   "cell_type": "code",
   "execution_count": 1,
   "id": "308453bc-6db8-4ff7-8051-336089891a6d",
   "metadata": {},
   "outputs": [],
   "source": [
    "import os\n",
    "import pandas as pd"
   ]
  },
  {
   "cell_type": "code",
   "execution_count": 2,
   "id": "f55ce7f0-4840-4804-8161-43e98d0abff3",
   "metadata": {},
   "outputs": [],
   "source": [
    "# Read in data\n",
    "pf32_calls_dir = '/home/mf019/longread_pangenome/expanded_dataset_analysis/output/genotyping/replicons/calls_v10/pf32/tables/'\n",
    "wp_calls_dir = '/home/mf019/longread_pangenome/expanded_dataset_analysis/output/genotyping/replicons/calls_v10/wp/tables/'\n",
    "# Each isolate has its own file\n",
    "pf32_tables = os.listdir(pf32_calls_dir)\n",
    "wp_tables = os.listdir(wp_calls_dir)\n",
    "\n",
    "# Combine data from all isolates into one df\n",
    "pf32_calls = pd.DataFrame()\n",
    "for table in pf32_tables:\n",
    "    pf32_calls = pd.concat([pf32_calls,\n",
    "                            pd.read_csv(pf32_calls_dir+table, sep='\\t')\n",
    "                           ])\n",
    "\n",
    "# Combine data from all isolates into one df\n",
    "wp_calls = pd.DataFrame()\n",
    "for table in wp_tables:\n",
    "    wp_calls = pd.concat([wp_calls,\n",
    "                          pd.read_csv(wp_calls_dir+table, sep='\\t')\n",
    "                          ])"
   ]
  },
  {
   "cell_type": "code",
   "execution_count": 3,
   "id": "4d0a5191-287d-44f0-9cf2-1da4620e9964",
   "metadata": {},
   "outputs": [
    {
     "name": "stderr",
     "output_type": "stream",
     "text": [
      "/tmp/ipykernel_46095/3261905538.py:7: SettingWithCopyWarning: \n",
      "A value is trying to be set on a copy of a slice from a DataFrame.\n",
      "Try using .loc[row_indexer,col_indexer] = value instead\n",
      "\n",
      "See the caveats in the documentation: https://pandas.pydata.org/pandas-docs/stable/user_guide/indexing.html#returning-a-view-versus-a-copy\n",
      "  best_pf32_calls['call_method'] = 'pf32'\n",
      "/tmp/ipykernel_46095/3261905538.py:8: SettingWithCopyWarning: \n",
      "A value is trying to be set on a copy of a slice from a DataFrame.\n",
      "Try using .loc[row_indexer,col_indexer] = value instead\n",
      "\n",
      "See the caveats in the documentation: https://pandas.pydata.org/pandas-docs/stable/user_guide/indexing.html#returning-a-view-versus-a-copy\n",
      "  best_pf32_calls['call_method_priority_rank'] = 0\n"
     ]
    }
   ],
   "source": [
    "# Sort by percent identity and percent coverage, then keep only the plasmid name with the highest percent identity & coverage\n",
    "prioritized_pf32_calls = pf32_calls.sort_values(\n",
    "                                                by=['assembly_id', 'contig_id', 'overall_percent_identity', 'query_coverage_percent'], \n",
    "                                                ascending=[True, True, False, False]\n",
    "                                  ).reset_index(drop=True)\n",
    "best_pf32_calls = prioritized_pf32_calls.drop_duplicates(subset=['assembly_id', 'contig_id'], keep='first')\n",
    "best_pf32_calls['call_method'] = 'pf32'\n",
    "best_pf32_calls['call_method_priority_rank'] = 0"
   ]
  },
  {
   "cell_type": "code",
   "execution_count": 4,
   "id": "8058641a-457e-431a-aa67-f2abd307f304",
   "metadata": {},
   "outputs": [
    {
     "name": "stderr",
     "output_type": "stream",
     "text": [
      "/tmp/ipykernel_46095/3182862933.py:7: SettingWithCopyWarning: \n",
      "A value is trying to be set on a copy of a slice from a DataFrame.\n",
      "Try using .loc[row_indexer,col_indexer] = value instead\n",
      "\n",
      "See the caveats in the documentation: https://pandas.pydata.org/pandas-docs/stable/user_guide/indexing.html#returning-a-view-versus-a-copy\n",
      "  best_wp_calls['call_method'] = 'wp'\n",
      "/tmp/ipykernel_46095/3182862933.py:8: SettingWithCopyWarning: \n",
      "A value is trying to be set on a copy of a slice from a DataFrame.\n",
      "Try using .loc[row_indexer,col_indexer] = value instead\n",
      "\n",
      "See the caveats in the documentation: https://pandas.pydata.org/pandas-docs/stable/user_guide/indexing.html#returning-a-view-versus-a-copy\n",
      "  best_wp_calls['call_method_priority_rank'] = 1\n"
     ]
    }
   ],
   "source": [
    "# Sort by percent identity and percent coverage, then keep only the plasmid name with the highest percent identity & coverage\n",
    "prioritized_wp_calls = wp_calls.sort_values(\n",
    "                                            by=['assembly_id', 'contig_id', 'overall_percent_identity', 'query_coverage_percent'], \n",
    "                                            ascending=[True, True, False, False]\n",
    "                              ).reset_index(drop=True)\n",
    "best_wp_calls = prioritized_wp_calls.drop_duplicates(subset=['assembly_id', 'contig_id'], keep='first')\n",
    "best_wp_calls['call_method'] = 'wp'\n",
    "best_wp_calls['call_method_priority_rank'] = 1"
   ]
  },
  {
   "cell_type": "code",
   "execution_count": 10,
   "id": "ca72871d-cbd2-4bd9-87b5-275e7347c703",
   "metadata": {},
   "outputs": [],
   "source": [
    "# Create best calls \n",
    "best_calls = pd.concat([best_pf32_calls, best_wp_calls]).sort_values(\n",
    "                                                                     by=['assembly_id', 'contig_id', 'call_method_priority_rank'],\n",
    "                                                                     ascending=[True, True, True]\n",
    "                                                       ).reset_index(drop=True)\n",
    "best_calls = best_calls.drop_duplicates(subset=['assembly_id', 'contig_id'], keep='first')\n",
    "best_calls = best_calls.drop(columns='call_method_priority_rank').reset_index(drop=True)\n",
    "best_calls.to_csv('dataset_v5_best_replicon_hits.csv', index=False)"
   ]
  },
  {
   "cell_type": "code",
   "execution_count": 6,
   "id": "30b3aff7-b8b4-49ea-a280-476184195a11",
   "metadata": {},
   "outputs": [],
   "source": [
    "# If contig is longer than 100kb, call it chromosome \n",
    "idxs = best_calls['contig_len']>100000\n",
    "best_calls.loc[idxs, 'plasmid_name'] = 'chromosome'"
   ]
  },
  {
   "cell_type": "code",
   "execution_count": 8,
   "id": "c652229b-9faa-4475-accc-f2c6e76d7841",
   "metadata": {},
   "outputs": [],
   "source": [
    "# If contig is less than 1kbp, drop annotation\n",
    "idxs = best_calls['contig_len']<250\n",
    "best_calls_1000 = best_calls.loc[~idxs, :]"
   ]
  },
  {
   "cell_type": "code",
   "execution_count": 9,
   "id": "1ca87a59-81ab-4348-865f-be0d3ce751df",
   "metadata": {},
   "outputs": [],
   "source": [
    "# Write\n",
    "best_calls_1000.to_csv('dataset_v5_replicon_annotations_250bp.csv', index=False)"
   ]
  },
  {
   "cell_type": "code",
   "execution_count": 15,
   "id": "b048bf44-b394-468b-bfd2-74ef0aa7f050",
   "metadata": {},
   "outputs": [
    {
     "data": {
      "text/html": [
       "<div>\n",
       "<style scoped>\n",
       "    .dataframe tbody tr th:only-of-type {\n",
       "        vertical-align: middle;\n",
       "    }\n",
       "\n",
       "    .dataframe tbody tr th {\n",
       "        vertical-align: top;\n",
       "    }\n",
       "\n",
       "    .dataframe thead th {\n",
       "        text-align: right;\n",
       "    }\n",
       "</style>\n",
       "<table border=\"1\" class=\"dataframe\">\n",
       "  <thead>\n",
       "    <tr style=\"text-align: right;\">\n",
       "      <th></th>\n",
       "      <th>assembly_id</th>\n",
       "      <th>contig_id</th>\n",
       "      <th>contig_len</th>\n",
       "      <th>plasmid_id</th>\n",
       "      <th>plasmid_name</th>\n",
       "      <th>strain</th>\n",
       "      <th>query_length</th>\n",
       "      <th>ref_length</th>\n",
       "      <th>overall_percent_identity</th>\n",
       "      <th>query_covered_length</th>\n",
       "      <th>ref_covered_length</th>\n",
       "      <th>covered_intervals</th>\n",
       "      <th>query_intervals</th>\n",
       "      <th>subject_hit_coords</th>\n",
       "      <th>query_coverage_percent</th>\n",
       "    </tr>\n",
       "  </thead>\n",
       "  <tbody>\n",
       "    <tr>\n",
       "      <th>300</th>\n",
       "      <td>ESI26H</td>\n",
       "      <td>contig_13 [gcode=11] [topology=linear]</td>\n",
       "      <td>3042</td>\n",
       "      <td>gb|CP124099.1|</td>\n",
       "      <td>lp54</td>\n",
       "      <td>NE_5261</td>\n",
       "      <td>3042</td>\n",
       "      <td>53730</td>\n",
       "      <td>100.000000</td>\n",
       "      <td>3040</td>\n",
       "      <td>1520</td>\n",
       "      <td>[(1, 1521)]</td>\n",
       "      <td>[(1522, 3042), (1, 1521)]</td>\n",
       "      <td>[(1, 1521), (1521, 1)]</td>\n",
       "      <td>99.934254</td>\n",
       "    </tr>\n",
       "    <tr>\n",
       "      <th>301</th>\n",
       "      <td>ESI26H</td>\n",
       "      <td>contig_13 [gcode=11] [topology=linear]</td>\n",
       "      <td>3042</td>\n",
       "      <td>gb|CP124095.1|</td>\n",
       "      <td>lp54</td>\n",
       "      <td>NE_5267</td>\n",
       "      <td>3042</td>\n",
       "      <td>53730</td>\n",
       "      <td>99.934254</td>\n",
       "      <td>3040</td>\n",
       "      <td>1519</td>\n",
       "      <td>[(1, 1520)]</td>\n",
       "      <td>[(1522, 3042), (1, 1521)]</td>\n",
       "      <td>[(1, 1520), (1520, 1)]</td>\n",
       "      <td>99.934254</td>\n",
       "    </tr>\n",
       "    <tr>\n",
       "      <th>302</th>\n",
       "      <td>ESI26H</td>\n",
       "      <td>contig_13 [gcode=11] [topology=linear]</td>\n",
       "      <td>3042</td>\n",
       "      <td>gb|CP124103.1|</td>\n",
       "      <td>lp54</td>\n",
       "      <td>NE_5248</td>\n",
       "      <td>3042</td>\n",
       "      <td>53675</td>\n",
       "      <td>99.868508</td>\n",
       "      <td>3040</td>\n",
       "      <td>1519</td>\n",
       "      <td>[(1, 1520)]</td>\n",
       "      <td>[(1522, 3042), (1, 1521)]</td>\n",
       "      <td>[(1, 1520), (1520, 1)]</td>\n",
       "      <td>99.934254</td>\n",
       "    </tr>\n",
       "    <tr>\n",
       "      <th>303</th>\n",
       "      <td>ESI26H</td>\n",
       "      <td>contig_13 [gcode=11] [topology=linear]</td>\n",
       "      <td>3042</td>\n",
       "      <td>gb|AE000790.2|</td>\n",
       "      <td>lp54</td>\n",
       "      <td>B31</td>\n",
       "      <td>3042</td>\n",
       "      <td>53657</td>\n",
       "      <td>99.802502</td>\n",
       "      <td>3036</td>\n",
       "      <td>1518</td>\n",
       "      <td>[(1, 1519)]</td>\n",
       "      <td>[(1524, 3042), (1, 1519)]</td>\n",
       "      <td>[(1, 1519), (1519, 1)]</td>\n",
       "      <td>99.802761</td>\n",
       "    </tr>\n",
       "    <tr>\n",
       "      <th>304</th>\n",
       "      <td>ESI26H</td>\n",
       "      <td>contig_13 [gcode=11] [topology=linear]</td>\n",
       "      <td>3042</td>\n",
       "      <td>gb|CP031397.1|</td>\n",
       "      <td>lp54</td>\n",
       "      <td>MM1</td>\n",
       "      <td>3042</td>\n",
       "      <td>53798</td>\n",
       "      <td>99.518652</td>\n",
       "      <td>3318</td>\n",
       "      <td>1661</td>\n",
       "      <td>[(1, 1662)]</td>\n",
       "      <td>[(1, 1660), (1383, 3042)]</td>\n",
       "      <td>[(1, 1662), (1662, 1)]</td>\n",
       "      <td>109.072978</td>\n",
       "    </tr>\n",
       "  </tbody>\n",
       "</table>\n",
       "</div>"
      ],
      "text/plain": [
       "    assembly_id                               contig_id  contig_len  \\\n",
       "300      ESI26H  contig_13 [gcode=11] [topology=linear]        3042   \n",
       "301      ESI26H  contig_13 [gcode=11] [topology=linear]        3042   \n",
       "302      ESI26H  contig_13 [gcode=11] [topology=linear]        3042   \n",
       "303      ESI26H  contig_13 [gcode=11] [topology=linear]        3042   \n",
       "304      ESI26H  contig_13 [gcode=11] [topology=linear]        3042   \n",
       "\n",
       "         plasmid_id plasmid_name   strain  query_length  ref_length  \\\n",
       "300  gb|CP124099.1|         lp54  NE_5261          3042       53730   \n",
       "301  gb|CP124095.1|         lp54  NE_5267          3042       53730   \n",
       "302  gb|CP124103.1|         lp54  NE_5248          3042       53675   \n",
       "303  gb|AE000790.2|         lp54      B31          3042       53657   \n",
       "304  gb|CP031397.1|         lp54      MM1          3042       53798   \n",
       "\n",
       "     overall_percent_identity  query_covered_length  ref_covered_length  \\\n",
       "300                100.000000                  3040                1520   \n",
       "301                 99.934254                  3040                1519   \n",
       "302                 99.868508                  3040                1519   \n",
       "303                 99.802502                  3036                1518   \n",
       "304                 99.518652                  3318                1661   \n",
       "\n",
       "    covered_intervals            query_intervals      subject_hit_coords  \\\n",
       "300       [(1, 1521)]  [(1522, 3042), (1, 1521)]  [(1, 1521), (1521, 1)]   \n",
       "301       [(1, 1520)]  [(1522, 3042), (1, 1521)]  [(1, 1520), (1520, 1)]   \n",
       "302       [(1, 1520)]  [(1522, 3042), (1, 1521)]  [(1, 1520), (1520, 1)]   \n",
       "303       [(1, 1519)]  [(1524, 3042), (1, 1519)]  [(1, 1519), (1519, 1)]   \n",
       "304       [(1, 1662)]  [(1, 1660), (1383, 3042)]  [(1, 1662), (1662, 1)]   \n",
       "\n",
       "     query_coverage_percent  \n",
       "300               99.934254  \n",
       "301               99.934254  \n",
       "302               99.934254  \n",
       "303               99.802761  \n",
       "304              109.072978  "
      ]
     },
     "execution_count": 15,
     "metadata": {},
     "output_type": "execute_result"
    }
   ],
   "source": [
    "prioritized_wp_calls[(prioritized_wp_calls['assembly_id']=='ESI26H') & (prioritized_wp_calls['plasmid_name']=='lp54')]"
   ]
  },
  {
   "cell_type": "code",
   "execution_count": 16,
   "id": "65ba2f6a-b13a-4400-8793-27cff6595bce",
   "metadata": {},
   "outputs": [
    {
     "data": {
      "text/html": [
       "<div>\n",
       "<style scoped>\n",
       "    .dataframe tbody tr th:only-of-type {\n",
       "        vertical-align: middle;\n",
       "    }\n",
       "\n",
       "    .dataframe tbody tr th {\n",
       "        vertical-align: top;\n",
       "    }\n",
       "\n",
       "    .dataframe thead th {\n",
       "        text-align: right;\n",
       "    }\n",
       "</style>\n",
       "<table border=\"1\" class=\"dataframe\">\n",
       "  <thead>\n",
       "    <tr style=\"text-align: right;\">\n",
       "      <th></th>\n",
       "      <th>assembly_id</th>\n",
       "      <th>contig_id</th>\n",
       "      <th>contig_len</th>\n",
       "      <th>plasmid_id</th>\n",
       "      <th>plasmid_name</th>\n",
       "      <th>strain</th>\n",
       "      <th>query_length</th>\n",
       "      <th>ref_length</th>\n",
       "      <th>overall_percent_identity</th>\n",
       "      <th>query_covered_length</th>\n",
       "      <th>ref_covered_length</th>\n",
       "      <th>covered_intervals</th>\n",
       "      <th>query_intervals</th>\n",
       "      <th>subject_hit_coords</th>\n",
       "      <th>query_coverage_percent</th>\n",
       "    </tr>\n",
       "  </thead>\n",
       "  <tbody>\n",
       "  </tbody>\n",
       "</table>\n",
       "</div>"
      ],
      "text/plain": [
       "Empty DataFrame\n",
       "Columns: [assembly_id, contig_id, contig_len, plasmid_id, plasmid_name, strain, query_length, ref_length, overall_percent_identity, query_covered_length, ref_covered_length, covered_intervals, query_intervals, subject_hit_coords, query_coverage_percent]\n",
       "Index: []"
      ]
     },
     "execution_count": 16,
     "metadata": {},
     "output_type": "execute_result"
    }
   ],
   "source": [
    "prioritized_pf32_calls[(prioritized_pf32_calls['assembly_id']=='ESI26H') & (prioritized_pf32_calls['plasmid_name']=='lp54')]"
   ]
  },
  {
   "cell_type": "code",
   "execution_count": null,
   "id": "f0e694f9-c318-49d9-80e0-0988ab9d1b2a",
   "metadata": {},
   "outputs": [],
   "source": []
  }
 ],
 "metadata": {
  "kernelspec": {
   "display_name": "Python 3 (ipykernel)",
   "language": "python",
   "name": "python3"
  },
  "language_info": {
   "codemirror_mode": {
    "name": "ipython",
    "version": 3
   },
   "file_extension": ".py",
   "mimetype": "text/x-python",
   "name": "python",
   "nbconvert_exporter": "python",
   "pygments_lexer": "ipython3",
   "version": "3.11.9"
  }
 },
 "nbformat": 4,
 "nbformat_minor": 5
}
