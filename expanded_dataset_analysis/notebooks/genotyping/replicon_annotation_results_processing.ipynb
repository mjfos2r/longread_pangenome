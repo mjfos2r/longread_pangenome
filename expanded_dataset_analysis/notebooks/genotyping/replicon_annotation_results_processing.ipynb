{
 "cells": [
  {
   "cell_type": "markdown",
   "id": "d019cfc7-b146-4172-8a06-7a97de03b162",
   "metadata": {},
   "source": [
    "### Table of replicon annotations"
   ]
  },
  {
   "cell_type": "code",
   "execution_count": 1,
   "id": "308453bc-6db8-4ff7-8051-336089891a6d",
   "metadata": {},
   "outputs": [],
   "source": [
    "import os\n",
    "import pandas as pd"
   ]
  },
  {
   "cell_type": "code",
   "execution_count": 2,
   "id": "f55ce7f0-4840-4804-8161-43e98d0abff3",
   "metadata": {},
   "outputs": [],
   "source": [
    "# Read in data\n",
    "pf32_calls_dir = '/home/mf019/longread_pangenome/expanded_dataset_analysis/genotyping/replicons/20241211.1222/pf32/tables/'\n",
    "wp_calls_dir = '/home/mf019/longread_pangenome/expanded_dataset_analysis/genotyping/replicons/20241211.1222/wp/tables/'\n",
    "# Each isolate has its own file\n",
    "pf32_tables = os.listdir(pf32_calls_dir)\n",
    "wp_tables = os.listdir(wp_calls_dir)\n",
    "\n",
    "# Combine data from all isolates into one df\n",
    "pf32_calls = pd.DataFrame()\n",
    "for table in pf32_tables:\n",
    "    pf32_calls = pd.concat([pf32_calls,\n",
    "                            pd.read_csv(pf32_calls_dir+table, sep='\\t')\n",
    "                           ])\n",
    "\n",
    "# Combine data from all isolates into one df\n",
    "wp_calls = pd.DataFrame()\n",
    "for table in wp_tables:\n",
    "    wp_calls = pd.concat([wp_calls,\n",
    "                          pd.read_csv(wp_calls_dir+table, sep='\\t')\n",
    "                          ])"
   ]
  },
  {
   "cell_type": "code",
   "execution_count": 3,
   "id": "4d0a5191-287d-44f0-9cf2-1da4620e9964",
   "metadata": {},
   "outputs": [
    {
     "name": "stderr",
     "output_type": "stream",
     "text": [
      "/tmp/ipykernel_25228/3261905538.py:7: SettingWithCopyWarning: \n",
      "A value is trying to be set on a copy of a slice from a DataFrame.\n",
      "Try using .loc[row_indexer,col_indexer] = value instead\n",
      "\n",
      "See the caveats in the documentation: https://pandas.pydata.org/pandas-docs/stable/user_guide/indexing.html#returning-a-view-versus-a-copy\n",
      "  best_pf32_calls['call_method'] = 'pf32'\n",
      "/tmp/ipykernel_25228/3261905538.py:8: SettingWithCopyWarning: \n",
      "A value is trying to be set on a copy of a slice from a DataFrame.\n",
      "Try using .loc[row_indexer,col_indexer] = value instead\n",
      "\n",
      "See the caveats in the documentation: https://pandas.pydata.org/pandas-docs/stable/user_guide/indexing.html#returning-a-view-versus-a-copy\n",
      "  best_pf32_calls['call_method_priority_rank'] = 0\n"
     ]
    }
   ],
   "source": [
    "# Sort by percent identity and percent coverage, then keep only the plasmid name with the highest percent identity & coverage\n",
    "prioritized_pf32_calls = pf32_calls.sort_values(\n",
    "                                                by=['assembly_id', 'contig_id', 'overall_percent_identity', 'query_coverage_percent'], \n",
    "                                                ascending=[True, True, False, False]\n",
    "                                  ).reset_index(drop=True)\n",
    "best_pf32_calls = prioritized_pf32_calls.drop_duplicates(subset=['assembly_id', 'contig_id'], keep='first')\n",
    "best_pf32_calls['call_method'] = 'pf32'\n",
    "best_pf32_calls['call_method_priority_rank'] = 0"
   ]
  },
  {
   "cell_type": "code",
   "execution_count": 4,
   "id": "8058641a-457e-431a-aa67-f2abd307f304",
   "metadata": {},
   "outputs": [
    {
     "name": "stderr",
     "output_type": "stream",
     "text": [
      "/tmp/ipykernel_25228/3182862933.py:7: SettingWithCopyWarning: \n",
      "A value is trying to be set on a copy of a slice from a DataFrame.\n",
      "Try using .loc[row_indexer,col_indexer] = value instead\n",
      "\n",
      "See the caveats in the documentation: https://pandas.pydata.org/pandas-docs/stable/user_guide/indexing.html#returning-a-view-versus-a-copy\n",
      "  best_wp_calls['call_method'] = 'wp'\n",
      "/tmp/ipykernel_25228/3182862933.py:8: SettingWithCopyWarning: \n",
      "A value is trying to be set on a copy of a slice from a DataFrame.\n",
      "Try using .loc[row_indexer,col_indexer] = value instead\n",
      "\n",
      "See the caveats in the documentation: https://pandas.pydata.org/pandas-docs/stable/user_guide/indexing.html#returning-a-view-versus-a-copy\n",
      "  best_wp_calls['call_method_priority_rank'] = 1\n"
     ]
    }
   ],
   "source": [
    "# Sort by percent identity and percent coverage, then keep only the plasmid name with the highest percent identity & coverage\n",
    "prioritized_wp_calls = wp_calls.sort_values(\n",
    "                                            by=['assembly_id', 'contig_id', 'overall_percent_identity', 'query_coverage_percent'], \n",
    "                                            ascending=[True, True, False, False]\n",
    "                              ).reset_index(drop=True)\n",
    "best_wp_calls = prioritized_wp_calls.drop_duplicates(subset=['assembly_id', 'contig_id'], keep='first')\n",
    "best_wp_calls['call_method'] = 'wp'\n",
    "best_wp_calls['call_method_priority_rank'] = 1"
   ]
  },
  {
   "cell_type": "code",
   "execution_count": 17,
   "id": "ca72871d-cbd2-4bd9-87b5-275e7347c703",
   "metadata": {},
   "outputs": [],
   "source": [
    "# Create best calls \n",
    "best_calls = pd.concat([best_pf32_calls, best_wp_calls]).sort_values(\n",
    "                                                                     by=['assembly_id', 'contig_id', 'call_method_priority_rank'],\n",
    "                                                                     ascending=[True, True, True]\n",
    "                                                       ).reset_index(drop=True)\n",
    "best_calls = best_calls.drop_duplicates(subset=['assembly_id', 'contig_id'], keep='first')\n",
    "best_calls = best_calls.drop(columns='call_method_priority_rank').reset_index(drop=True)\n",
    "best_calls.to_csv('replicon_annotations.csv', index=False)"
   ]
  },
  {
   "cell_type": "code",
   "execution_count": 22,
   "id": "c652229b-9faa-4475-accc-f2c6e76d7841",
   "metadata": {},
   "outputs": [],
   "source": [
    "# If contig is less than 1kbp, drop annotation\n",
    "idxs = best_calls['contig_len']<1000\n",
    "best_calls_1000 = best_calls.loc[~idxs, :]\n",
    "best_calls_1000.to_csv('replicon_annotations_1000bp.csv', index=False)"
   ]
  }
 ],
 "metadata": {
  "kernelspec": {
   "display_name": "Python 3 (ipykernel)",
   "language": "python",
   "name": "python3"
  },
  "language_info": {
   "codemirror_mode": {
    "name": "ipython",
    "version": 3
   },
   "file_extension": ".py",
   "mimetype": "text/x-python",
   "name": "python",
   "nbconvert_exporter": "python",
   "pygments_lexer": "ipython3",
   "version": "3.11.10"
  }
 },
 "nbformat": 4,
 "nbformat_minor": 5
}
