{
 "cells": [
  {
   "cell_type": "code",
   "execution_count": 1,
   "id": "668703e5-7ae7-402e-9ae2-4f614e687031",
   "metadata": {},
   "outputs": [],
   "source": [
    "import os\n",
    "import numpy\n",
    "import pandas\n",
    "import pathlib\n",
    "from intervaltree import Interval, IntervalTree\n",
    "from Bio import SeqIO\n",
    "import pickle\n",
    "import statistics as stats\n",
    "import logging\n",
    "from datetime import datetime"
   ]
  },
  {
   "cell_type": "code",
   "execution_count": 2,
   "id": "600bd555-b9c5-4392-8872-75c0c0e25777",
   "metadata": {},
   "outputs": [],
   "source": [
    "matrix_path = pathlib.Path(\"/home/mf019/longread_pangenome/expanded_dataset_analysis/output/alignments/ava/v4/nucl_v5.coords.tab\")\n",
    "multifasta = pathlib.Path(\"/home/mf019/longread_pangenome/expanded_dataset_analysis/assemblies/all_contigs_v5_fixed.fna\")"
   ]
  },
  {
   "cell_type": "code",
   "execution_count": 3,
   "id": "9efa7757-266b-4aa1-98ec-ed07f6182109",
   "metadata": {},
   "outputs": [],
   "source": [
    "lengths = {}\n",
    "for record in SeqIO.parse(multifasta, \"fasta\"):\n",
    "    lengths[record.id] = len(record.seq)"
   ]
  },
  {
   "cell_type": "code",
   "execution_count": 4,
   "id": "021ac84a-bc99-4cb8-b843-99f48719f564",
   "metadata": {},
   "outputs": [],
   "source": [
    "# \"When run with the -B option, output format will consist of 21 tab-delimited columns. These are as follows: \n",
    "# [1] query sequence ID \n",
    "# [2] date of alignment \n",
    "# [3] length of query sequence \n",
    "# [4] alignment type \n",
    "# [5] reference file \n",
    "# [6] reference sequence ID \n",
    "# [7] start of alignment in the query \n",
    "# [8] end of alignment in the query \n",
    "# [9] start of alignment in the reference \n",
    "# [10] end of alignment in the reference \n",
    "# [11] percent identity \n",
    "# [12] percent similarity \n",
    "# [13] length of alignment in the query \n",
    "# [14] 0 for compatibility \n",
    "# [15] 0 for compatibility \n",
    "# [16] NULL for compatibility \n",
    "# [17] 0 for compatibility \n",
    "# [18] strand of the query \n",
    "# [19] length of the reference sequence \n",
    "# [20] 0 for compatibility \n",
    "# [21] and 0 for compatibility.\"\n",
    "\n",
    "header = [ \n",
    "    \"query_ID\", \"aln_date\", \"query_len\", \"aln_type\",\n",
    "    \"ref_file\",\"ref_ID\",\"aln_start_query\",\"aln_end_query\",\n",
    "    \"aln_start_ref\",\"aln_end_ref\",\"percent_identity\",\"percent_similarity\",\n",
    "    \"aln_len_query\",\"0_compatibility_1\",\"0_compatibility_2\",\"NULL_compatibility\",\n",
    "    \"0_compatibility_3\", \"strand_query\", \"reference_len\", \"0_compatibility_4\",\n",
    "    \"0_compatibility_5\",\n",
    "]"
   ]
  },
  {
   "cell_type": "code",
   "execution_count": 5,
   "id": "d099b4ea-079e-466d-8451-17d5fe22d34e",
   "metadata": {},
   "outputs": [],
   "source": [
    "aln_df = pandas.read_csv(matrix_path, sep='\\t', names=header)\n",
    "alns_slim_df = aln_df[[\n",
    "    \"query_ID\", \"query_len\", \"ref_ID\", \"reference_len\", \n",
    "    \"aln_start_query\", \"aln_end_query\", \n",
    "    \"aln_start_ref\", \"aln_end_ref\",\n",
    "    \"percent_identity\", \"percent_similarity\",\n",
    "    \"aln_len_query\", \"strand_query\"]]"
   ]
  },
  {
   "cell_type": "code",
   "execution_count": 6,
   "id": "ab5ab135-a7cc-4ec1-a9dd-8d0ec6e4690c",
   "metadata": {},
   "outputs": [
    {
     "name": "stderr",
     "output_type": "stream",
     "text": [
      "/tmp/ipykernel_10949/3187840248.py:3: SettingWithCopyWarning: \n",
      "A value is trying to be set on a copy of a slice from a DataFrame.\n",
      "Try using .loc[row_indexer,col_indexer] = value instead\n",
      "\n",
      "See the caveats in the documentation: https://pandas.pydata.org/pandas-docs/stable/user_guide/indexing.html#returning-a-view-versus-a-copy\n",
      "  alns_slim_df['pair'] = alns_slim_df.apply(lambda x: tuple(sorted([x['query_ID'], x['ref_ID']])), axis=1)\n"
     ]
    }
   ],
   "source": [
    "#.groupby('query_ID')\n",
    "#alns_slim_df.apply(lambda x: tuple(sorted([x['ref_contig'], x['query_contig'])), axis=1)\n",
    "alns_slim_df['pair'] = alns_slim_df.apply(lambda x: tuple(sorted([x['query_ID'], x['ref_ID']])), axis=1)"
   ]
  },
  {
   "cell_type": "code",
   "execution_count": 7,
   "id": "9f2cdc3c-9155-4b59-a7d1-339f0e015b1b",
   "metadata": {},
   "outputs": [],
   "source": [
    "test_df = alns_slim_df[alns_slim_df['pair'].isin([('B331P__contig_1', 'B331P__contig_1'),('B331P__contig_1', 'B418P__contig_1'), ('B331P__contig_1', 'B500P__contig_1'), ('B331P__contig_1', 'B331P__contig_14')])]"
   ]
  },
  {
   "cell_type": "code",
   "execution_count": 8,
   "id": "7521dfb0-4bde-4c40-8a43-e31dc4242944",
   "metadata": {},
   "outputs": [],
   "source": [
    "def normalize_intervals(intervals):\n",
    "   \"\"\"Ensure intervals are normalized with 1-based coordinates\"\"\"\n",
    "   return [(min(start, end), max(start, end)) for start, end in intervals]\n",
    "\n",
    "def get_overlap_length(iv1, iv2):\n",
    "   \"\"\"Calculate overlap between two intervals considering 1-based coordinates\"\"\"\n",
    "   start = max(iv1[0], iv2[0])\n",
    "   end = min(iv1[1], iv2[1])\n",
    "   return max(0, end - start + 1)  # +1 for inclusive ends\n",
    "\n",
    "def collapse_intervals(intervals):\n",
    "   \"\"\"Collapse overlapping intervals into non-overlapping regions\"\"\"\n",
    "   normalized = normalize_intervals(intervals)\n",
    "   tree = IntervalTree(Interval(start, end + 1) for start, end in normalized)\n",
    "   tree.merge_overlaps()\n",
    "   return [(iv.begin, iv.end - 1) for iv in sorted(tree)]\n",
    "    \n",
    "def calculate_total_weighted_overlap(aln_pair_string, query_intervals, ref_intervals, percent_identities, logger):\n",
    "   \"\"\"Calculate total overlap between two sets of intervals.\"\"\"\n",
    "   logger.info(aln_pair_string)\n",
    "   # First normalize and create original data\n",
    "   original = [(min(start, end), max(start, end), identity) \n",
    "               for (start, end), identity in zip(query_intervals, percent_identities)]\n",
    "   \n",
    "   # Then collapse to get unique regions\n",
    "   collapsed_query_intervals = collapse_intervals(query_intervals)\n",
    "   collapsed_reference_intervals = collapse_intervals(ref_intervals)\n",
    "\n",
    "   # Log the intervals being processed\n",
    "   logger.info(\"Processing original intervals:\")\n",
    "   for s, e, i in original:\n",
    "       logger.debug(f\"Original: {s}-{e} ({i}%)\")\n",
    "   \n",
    "   logger.info(\"Collapsed intervals:\")\n",
    "   for s, e in collapsed_query_intervals:\n",
    "       logger.debug(f\"Collapsed: {s}-{e}\")\n",
    "\n",
    "   # Check for perfect self alignment\n",
    "   max_len = max(e-s+1 for s,e,_ in original)\n",
    "   perfect = next(((s,e,i) for s,e,i in original if i == 100.0 and e-s+1 == max_len), None)\n",
    "   \n",
    "   if perfect:\n",
    "       length = perfect[1] - perfect[0] + 1\n",
    "       logger.info(f\"Perfect self alignment found: {perfect[0]}-{perfect[1]}, len={length}\")\n",
    "       return (length, collapsed_query_intervals, collapsed_reference_intervals,\n",
    "               [length], [length], 100.0)\n",
    "\n",
    "   # For non-self alignments:\n",
    "   total_weighted_overlap = 0\n",
    "   idents = []\n",
    "   \n",
    "   # For each collapsed interval\n",
    "   for c_start, c_end in collapsed_query_intervals:\n",
    "       c_length = c_end - c_start + 1\n",
    "       \n",
    "       # Find all original intervals that overlap this collapsed interval\n",
    "       overlapping_identities = []\n",
    "       for o_start, o_end, o_identity in original:\n",
    "           # Check if intervals overlap\n",
    "           if not (o_end < c_start or o_start > c_end):\n",
    "               overlapping_identities.append(o_identity)\n",
    "       \n",
    "       # Use highest identity score for this region\n",
    "       if overlapping_identities:\n",
    "           best_identity = max(overlapping_identities)\n",
    "           weighted = c_length * (best_identity/100.0)\n",
    "           total_weighted_overlap += weighted\n",
    "           idents.append(best_identity)\n",
    "           logger.debug(f\"Collapsed {c_start}-{c_end}: len={c_length}, best_id={best_identity}, weighted={weighted}\")\n",
    "\n",
    "   logger.info(f\"Total weighted overlap: {total_weighted_overlap}\")\n",
    "\n",
    "   return (\n",
    "       round(total_weighted_overlap),\n",
    "       collapsed_query_intervals,\n",
    "       collapsed_reference_intervals,\n",
    "       [end-start+1 for start,end in collapsed_query_intervals],\n",
    "       [end-start+1 for start,end in collapsed_reference_intervals],\n",
    "       stats.mean(idents)\n",
    "   )"
   ]
  },
  {
   "cell_type": "code",
   "execution_count": 9,
   "id": "a57457eb-2e91-4a6b-9282-f5d5ad65c86f",
   "metadata": {
    "scrolled": true
   },
   "outputs": [],
   "source": [
    "timestamp = datetime.now().strftime('%Y%m%d_%H%M%S')\n",
    "log_filename = f'MUMmer_parsing_{timestamp}.log'\n",
    "\n",
    "logger = logging.getLogger('main')\n",
    "logger.setLevel(logging.DEBUG)\n",
    "\n",
    "fh = logging.FileHandler(log_filename)\n",
    "fh.setLevel(logging.DEBUG)\n",
    "logger.addHandler(fh)\n",
    "\n",
    "results = []\n",
    "for (query_id, ref_id), group in alns_slim_df.groupby([\"query_ID\", \"ref_ID\"]): # test_df\n",
    "    # Extract query and reference intervals\n",
    "    query_intervals = list(zip(group[\"aln_start_query\"], group[\"aln_end_query\"]))\n",
    "    ref_intervals = list(zip(group[\"aln_start_ref\"], group[\"aln_end_ref\"]))\n",
    "    percent_identities = group[\"percent_identity\"].tolist()\n",
    "    aln_pair_string = f'QUERY:{query_id}, REF:{ref_id}'\n",
    "    # Calculate total weighted overlap and interval lengths\n",
    "    (\n",
    "        total_overlap,\n",
    "        collapsed_query,\n",
    "        collapsed_ref,\n",
    "        query_interval_lengths,\n",
    "        ref_interval_lengths,\n",
    "        mean_identity,\n",
    "    ) = calculate_total_weighted_overlap(aln_pair_string, query_intervals, ref_intervals, percent_identities, logger)\n",
    "\n",
    "    query_interval_len = sum(query_interval_lengths)\n",
    "    ref_interval_len = sum(ref_interval_lengths)\n",
    "    query_len = lengths[query_id]\n",
    "    ref_len = lengths[ref_id]\n",
    "    edge_weight = ((2*total_overlap)/(lengths[ref_id] + lengths[query_id]))\n",
    "    # or(query_interval_len != ref_interval_len) idk about this one boss.\n",
    "    flag = 1 if (total_overlap > query_len) or (total_overlap > ref_len) or (edge_weight > 1.0) or (query_interval_len > query_len) or (total_overlap < ((mean_identity/100) * min(query_interval_len, ref_interval_len))) or (ref_interval_len > ref_len) else 0\n",
    "    # Store results\n",
    "    results.append({\n",
    "        \"query_ID\": query_id,\n",
    "        \"ref_ID\": ref_id,\n",
    "        \"total_weighted_overlap\": total_overlap,\n",
    "        \"mean_identity\": mean_identity,\n",
    "        \"edge_weight\": edge_weight,\n",
    "        'query_len': query_len,\n",
    "        'ref_len': ref_len,\n",
    "        \"query_interval_len\": query_interval_len,\n",
    "        \"ref_interval_len\": ref_interval_len,\n",
    "        \"collapsed_query_intervals\": collapsed_query,\n",
    "        \"collapsed_ref_intervals\": collapsed_ref,\n",
    "        \"flag\": flag\n",
    "    })\n",
    "\n",
    "results_df = pandas.DataFrame(results)\n",
    "logging.shutdown()"
   ]
  },
  {
   "cell_type": "code",
   "execution_count": 10,
   "id": "1dfcc36f-b2db-403f-85c2-42bc9146f39d",
   "metadata": {
    "scrolled": true
   },
   "outputs": [
    {
     "name": "stdout",
     "output_type": "stream",
     "text": [
      "                  query_ID              ref_ID  total_weighted_overlap  \\\n",
      "0          B331P__contig_1     B331P__contig_1                  903654   \n",
      "1          B331P__contig_1    B331P__contig_14                     656   \n",
      "2          B331P__contig_1     B418P__contig_1                  898703   \n",
      "3          B331P__contig_1     B500P__contig_1                  903564   \n",
      "4          B331P__contig_1    ESI26H__contig_1                  898537   \n",
      "...                    ...                 ...                     ...   \n",
      "2142122  XYZ459H__contig_9   XYZ459H__contig_2                    1084   \n",
      "2142123  XYZ459H__contig_9  XYZ459H__contig_20                     388   \n",
      "2142124  XYZ459H__contig_9  XYZ459H__contig_21                     441   \n",
      "2142125  XYZ459H__contig_9   XYZ459H__contig_5                   17899   \n",
      "2142126  XYZ459H__contig_9   XYZ459H__contig_9                   27704   \n",
      "\n",
      "         mean_identity  edge_weight  query_len  ref_len  query_interval_len  \\\n",
      "0           100.000000     1.000000     903654   903654              903654   \n",
      "1            78.978622     0.001416     903654    23102                 830   \n",
      "2            99.430996     0.995006     903654   902773              903619   \n",
      "3            99.989998     0.999897     903654   903660              903654   \n",
      "4            99.454605     0.990642     903654   910396              903464   \n",
      "...                ...          ...        ...      ...                 ...   \n",
      "2142122      81.750748     0.035860      27704    32754                1326   \n",
      "2142123      83.195023     0.026935      27704     1106                 466   \n",
      "2142124      85.163780     0.030859      27704      878                 518   \n",
      "2142125      86.900781     0.619589      27704    30073               20769   \n",
      "2142126     100.000000     1.000000      27704    27704               27704   \n",
      "\n",
      "         ref_interval_len                          collapsed_query_intervals  \\\n",
      "0                  903654                                      [(1, 903654)]   \n",
      "1                     830                                 [(774678, 775507)]   \n",
      "2                  902772                    [(1, 771905), (771941, 903654)]   \n",
      "3                  903660                                      [(1, 903654)]   \n",
      "4                  903071                                      [(1, 903464)]   \n",
      "...                   ...                                                ...   \n",
      "2142122              1323                                   [(10645, 11970)]   \n",
      "2142123               479                                   [(13090, 13555)]   \n",
      "2142124               518                                     [(7135, 7652)]   \n",
      "2142125             20817  [(2, 3841), (4190, 7561), (8444, 12542), (1310...   \n",
      "2142126             27704                                       [(1, 27704)]   \n",
      "\n",
      "                                   collapsed_ref_intervals  flag  \n",
      "0                                            [(1, 903654)]     0  \n",
      "1                                          [(9197, 10026)]     0  \n",
      "2                                            [(1, 902772)]     0  \n",
      "3                                            [(1, 903660)]     0  \n",
      "4                            [(1, 20155), (20312, 903227)]     0  \n",
      "...                                                    ...   ...  \n",
      "2142122                                     [(4420, 5742)]     0  \n",
      "2142123                                      [(625, 1103)]     0  \n",
      "2142124                                         [(1, 518)]     1  \n",
      "2142125  [(1, 932), (2190, 2476), (3330, 6367), (8760, ...     1  \n",
      "2142126                                       [(1, 27704)]     0  \n",
      "\n",
      "[2142127 rows x 12 columns]\n"
     ]
    }
   ],
   "source": [
    "print(results_df)"
   ]
  },
  {
   "cell_type": "code",
   "execution_count": 11,
   "id": "182b9159-92a1-4aef-a214-0473237c3512",
   "metadata": {
    "collapsed": true,
    "jupyter": {
     "outputs_hidden": true
    },
    "scrolled": true
   },
   "outputs": [
    {
     "data": {
      "text/html": [
       "<div>\n",
       "<style scoped>\n",
       "    .dataframe tbody tr th:only-of-type {\n",
       "        vertical-align: middle;\n",
       "    }\n",
       "\n",
       "    .dataframe tbody tr th {\n",
       "        vertical-align: top;\n",
       "    }\n",
       "\n",
       "    .dataframe thead th {\n",
       "        text-align: right;\n",
       "    }\n",
       "</style>\n",
       "<table border=\"1\" class=\"dataframe\">\n",
       "  <thead>\n",
       "    <tr style=\"text-align: right;\">\n",
       "      <th></th>\n",
       "      <th>query_ID</th>\n",
       "      <th>ref_ID</th>\n",
       "      <th>total_weighted_overlap</th>\n",
       "      <th>mean_identity</th>\n",
       "      <th>edge_weight</th>\n",
       "      <th>query_len</th>\n",
       "      <th>ref_len</th>\n",
       "      <th>query_interval_len</th>\n",
       "      <th>ref_interval_len</th>\n",
       "      <th>collapsed_query_intervals</th>\n",
       "      <th>collapsed_ref_intervals</th>\n",
       "      <th>flag</th>\n",
       "    </tr>\n",
       "  </thead>\n",
       "  <tbody>\n",
       "    <tr>\n",
       "      <th>2486</th>\n",
       "      <td>B331P__contig_14</td>\n",
       "      <td>B331P__contig_1</td>\n",
       "      <td>656</td>\n",
       "      <td>78.978622</td>\n",
       "      <td>0.001416</td>\n",
       "      <td>23102</td>\n",
       "      <td>903654</td>\n",
       "      <td>830</td>\n",
       "      <td>830</td>\n",
       "      <td>[(9197, 10026)]</td>\n",
       "      <td>[(774678, 775507)]</td>\n",
       "      <td>0</td>\n",
       "    </tr>\n",
       "    <tr>\n",
       "      <th>2487</th>\n",
       "      <td>B331P__contig_14</td>\n",
       "      <td>B331P__contig_12</td>\n",
       "      <td>2520</td>\n",
       "      <td>83.415924</td>\n",
       "      <td>0.105386</td>\n",
       "      <td>23102</td>\n",
       "      <td>24722</td>\n",
       "      <td>3021</td>\n",
       "      <td>3021</td>\n",
       "      <td>[(5961, 8981)]</td>\n",
       "      <td>[(1229, 4249)]</td>\n",
       "      <td>0</td>\n",
       "    </tr>\n",
       "    <tr>\n",
       "      <th>2488</th>\n",
       "      <td>B331P__contig_14</td>\n",
       "      <td>B331P__contig_13</td>\n",
       "      <td>3687</td>\n",
       "      <td>90.850361</td>\n",
       "      <td>0.145321</td>\n",
       "      <td>23102</td>\n",
       "      <td>27641</td>\n",
       "      <td>4199</td>\n",
       "      <td>4205</td>\n",
       "      <td>[(3, 1209), (5965, 8956)]</td>\n",
       "      <td>[(3354, 6345), (26427, 27639)]</td>\n",
       "      <td>1</td>\n",
       "    </tr>\n",
       "    <tr>\n",
       "      <th>2489</th>\n",
       "      <td>B331P__contig_14</td>\n",
       "      <td>B331P__contig_14</td>\n",
       "      <td>23102</td>\n",
       "      <td>100.000000</td>\n",
       "      <td>1.000000</td>\n",
       "      <td>23102</td>\n",
       "      <td>23102</td>\n",
       "      <td>23102</td>\n",
       "      <td>23102</td>\n",
       "      <td>[(1, 23102)]</td>\n",
       "      <td>[(1, 23102)]</td>\n",
       "      <td>0</td>\n",
       "    </tr>\n",
       "    <tr>\n",
       "      <th>2490</th>\n",
       "      <td>B331P__contig_14</td>\n",
       "      <td>B331P__contig_15</td>\n",
       "      <td>1135</td>\n",
       "      <td>84.773953</td>\n",
       "      <td>0.043329</td>\n",
       "      <td>23102</td>\n",
       "      <td>29288</td>\n",
       "      <td>1342</td>\n",
       "      <td>1343</td>\n",
       "      <td>[(5125, 5659), (22115, 22921)]</td>\n",
       "      <td>[(170, 974), (27357, 27894)]</td>\n",
       "      <td>1</td>\n",
       "    </tr>\n",
       "    <tr>\n",
       "      <th>...</th>\n",
       "      <td>...</td>\n",
       "      <td>...</td>\n",
       "      <td>...</td>\n",
       "      <td>...</td>\n",
       "      <td>...</td>\n",
       "      <td>...</td>\n",
       "      <td>...</td>\n",
       "      <td>...</td>\n",
       "      <td>...</td>\n",
       "      <td>...</td>\n",
       "      <td>...</td>\n",
       "      <td>...</td>\n",
       "    </tr>\n",
       "    <tr>\n",
       "      <th>3290</th>\n",
       "      <td>B331P__contig_14</td>\n",
       "      <td>XYZ459H__contig_1</td>\n",
       "      <td>657</td>\n",
       "      <td>79.097382</td>\n",
       "      <td>0.001418</td>\n",
       "      <td>23102</td>\n",
       "      <td>903233</td>\n",
       "      <td>830</td>\n",
       "      <td>830</td>\n",
       "      <td>[(9197, 10026)]</td>\n",
       "      <td>[(774359, 775188)]</td>\n",
       "      <td>0</td>\n",
       "    </tr>\n",
       "    <tr>\n",
       "      <th>3291</th>\n",
       "      <td>B331P__contig_14</td>\n",
       "      <td>XYZ459H__contig_11</td>\n",
       "      <td>3169</td>\n",
       "      <td>82.582817</td>\n",
       "      <td>0.134966</td>\n",
       "      <td>23102</td>\n",
       "      <td>23858</td>\n",
       "      <td>3837</td>\n",
       "      <td>3848</td>\n",
       "      <td>[(5176, 9012)]</td>\n",
       "      <td>[(19842, 23689)]</td>\n",
       "      <td>0</td>\n",
       "    </tr>\n",
       "    <tr>\n",
       "      <th>3292</th>\n",
       "      <td>B331P__contig_14</td>\n",
       "      <td>XYZ459H__contig_3</td>\n",
       "      <td>3280</td>\n",
       "      <td>83.742472</td>\n",
       "      <td>0.122249</td>\n",
       "      <td>23102</td>\n",
       "      <td>30559</td>\n",
       "      <td>3911</td>\n",
       "      <td>4748</td>\n",
       "      <td>[(1437, 1603), (3518, 4034), (5786, 9012)]</td>\n",
       "      <td>[(778, 4009), (6220, 6730), (7975, 8979)]</td>\n",
       "      <td>0</td>\n",
       "    </tr>\n",
       "    <tr>\n",
       "      <th>3293</th>\n",
       "      <td>B331P__contig_14</td>\n",
       "      <td>XYZ459H__contig_6</td>\n",
       "      <td>920</td>\n",
       "      <td>95.634094</td>\n",
       "      <td>0.034756</td>\n",
       "      <td>23102</td>\n",
       "      <td>29839</td>\n",
       "      <td>962</td>\n",
       "      <td>961</td>\n",
       "      <td>[(22115, 23076)]</td>\n",
       "      <td>[(3, 963)]</td>\n",
       "      <td>0</td>\n",
       "    </tr>\n",
       "    <tr>\n",
       "      <th>3294</th>\n",
       "      <td>B331P__contig_14</td>\n",
       "      <td>XYZ459H__contig_7</td>\n",
       "      <td>1103</td>\n",
       "      <td>83.674507</td>\n",
       "      <td>0.041957</td>\n",
       "      <td>23102</td>\n",
       "      <td>29476</td>\n",
       "      <td>1319</td>\n",
       "      <td>1318</td>\n",
       "      <td>[(5146, 5657), (22115, 22921)]</td>\n",
       "      <td>[(142, 947), (27714, 28225)]</td>\n",
       "      <td>0</td>\n",
       "    </tr>\n",
       "  </tbody>\n",
       "</table>\n",
       "<p>809 rows × 12 columns</p>\n",
       "</div>"
      ],
      "text/plain": [
       "              query_ID              ref_ID  total_weighted_overlap  \\\n",
       "2486  B331P__contig_14     B331P__contig_1                     656   \n",
       "2487  B331P__contig_14    B331P__contig_12                    2520   \n",
       "2488  B331P__contig_14    B331P__contig_13                    3687   \n",
       "2489  B331P__contig_14    B331P__contig_14                   23102   \n",
       "2490  B331P__contig_14    B331P__contig_15                    1135   \n",
       "...                ...                 ...                     ...   \n",
       "3290  B331P__contig_14   XYZ459H__contig_1                     657   \n",
       "3291  B331P__contig_14  XYZ459H__contig_11                    3169   \n",
       "3292  B331P__contig_14   XYZ459H__contig_3                    3280   \n",
       "3293  B331P__contig_14   XYZ459H__contig_6                     920   \n",
       "3294  B331P__contig_14   XYZ459H__contig_7                    1103   \n",
       "\n",
       "      mean_identity  edge_weight  query_len  ref_len  query_interval_len  \\\n",
       "2486      78.978622     0.001416      23102   903654                 830   \n",
       "2487      83.415924     0.105386      23102    24722                3021   \n",
       "2488      90.850361     0.145321      23102    27641                4199   \n",
       "2489     100.000000     1.000000      23102    23102               23102   \n",
       "2490      84.773953     0.043329      23102    29288                1342   \n",
       "...             ...          ...        ...      ...                 ...   \n",
       "3290      79.097382     0.001418      23102   903233                 830   \n",
       "3291      82.582817     0.134966      23102    23858                3837   \n",
       "3292      83.742472     0.122249      23102    30559                3911   \n",
       "3293      95.634094     0.034756      23102    29839                 962   \n",
       "3294      83.674507     0.041957      23102    29476                1319   \n",
       "\n",
       "      ref_interval_len                   collapsed_query_intervals  \\\n",
       "2486               830                             [(9197, 10026)]   \n",
       "2487              3021                              [(5961, 8981)]   \n",
       "2488              4205                   [(3, 1209), (5965, 8956)]   \n",
       "2489             23102                                [(1, 23102)]   \n",
       "2490              1343              [(5125, 5659), (22115, 22921)]   \n",
       "...                ...                                         ...   \n",
       "3290               830                             [(9197, 10026)]   \n",
       "3291              3848                              [(5176, 9012)]   \n",
       "3292              4748  [(1437, 1603), (3518, 4034), (5786, 9012)]   \n",
       "3293               961                            [(22115, 23076)]   \n",
       "3294              1318              [(5146, 5657), (22115, 22921)]   \n",
       "\n",
       "                        collapsed_ref_intervals  flag  \n",
       "2486                         [(774678, 775507)]     0  \n",
       "2487                             [(1229, 4249)]     0  \n",
       "2488             [(3354, 6345), (26427, 27639)]     1  \n",
       "2489                               [(1, 23102)]     0  \n",
       "2490               [(170, 974), (27357, 27894)]     1  \n",
       "...                                         ...   ...  \n",
       "3290                         [(774359, 775188)]     0  \n",
       "3291                           [(19842, 23689)]     0  \n",
       "3292  [(778, 4009), (6220, 6730), (7975, 8979)]     0  \n",
       "3293                                 [(3, 963)]     0  \n",
       "3294               [(142, 947), (27714, 28225)]     0  \n",
       "\n",
       "[809 rows x 12 columns]"
      ]
     },
     "execution_count": 11,
     "metadata": {},
     "output_type": "execute_result"
    }
   ],
   "source": [
    "results_df[results_df['query_ID'] == 'B331P__contig_14']"
   ]
  },
  {
   "cell_type": "code",
   "execution_count": 12,
   "id": "f14b4cae-77c2-4b33-a34e-5f8bb9365563",
   "metadata": {},
   "outputs": [
    {
     "name": "stdout",
     "output_type": "stream",
     "text": [
      "4016\n",
      "4016\n"
     ]
    }
   ],
   "source": [
    "print(len(set(results_df['query_ID'])))\n",
    "print(len(set(results_df['ref_ID'])))"
   ]
  },
  {
   "cell_type": "code",
   "execution_count": 13,
   "id": "cdfb4277-d25b-4657-9af8-ffdb3fd7312a",
   "metadata": {},
   "outputs": [],
   "source": [
    "with open('fixed_parsed_mummer_output.pkl', 'wb') as file:\n",
    "    pickle.dump(results_df, file)"
   ]
  },
  {
   "cell_type": "code",
   "execution_count": 20,
   "id": "bcfd4735-c75a-442c-826e-4a82182440da",
   "metadata": {
    "scrolled": true
   },
   "outputs": [
    {
     "name": "stdout",
     "output_type": "stream",
     "text": [
      "                  query_ID             ref_ID  total_weighted_overlap  \\\n",
      "0          B331P__contig_1    B331P__contig_1                  903654   \n",
      "1          B331P__contig_1   B331P__contig_14                     656   \n",
      "18949      B418P__contig_1    B331P__contig_1                  897953   \n",
      "3          B331P__contig_1    B500P__contig_1                  903564   \n",
      "53583     ESI26H__contig_1    B331P__contig_1                  898120   \n",
      "...                    ...                ...                     ...   \n",
      "2140129  XYZ459H__contig_6  XYZ459H__contig_6                   29839   \n",
      "2140130  XYZ459H__contig_6  XYZ459H__contig_7                    1100   \n",
      "2140856  XYZ459H__contig_7  XYZ459H__contig_7                   29476   \n",
      "2140938  XYZ459H__contig_8  XYZ459H__contig_8                   28681   \n",
      "2142126  XYZ459H__contig_9  XYZ459H__contig_9                   27704   \n",
      "\n",
      "         mean_identity  edge_weight  query_len  ref_len  query_interval_len  \\\n",
      "0           100.000000     1.000000     903654   903654              903654   \n",
      "1            78.978622     0.001416     903654    23102                 830   \n",
      "18949        99.466179     0.994176     902773   903654              902772   \n",
      "3            99.989998     0.999897     903654   903660              903654   \n",
      "53583        99.390552     0.990182     910396   903654              903071   \n",
      "...                ...          ...        ...      ...                 ...   \n",
      "2140129     100.000000     1.000000      29839    29839               29839   \n",
      "2140130      94.763947     0.037090      29839    29476                1161   \n",
      "2140856     100.000000     1.000000      29476    29476               29476   \n",
      "2140938     100.000000     1.000000      28681    28681               28681   \n",
      "2142126     100.000000     1.000000      27704    27704               27704   \n",
      "\n",
      "         ref_interval_len      collapsed_query_intervals  \\\n",
      "0                  903654                  [(1, 903654)]   \n",
      "1                     830             [(774678, 775507)]   \n",
      "18949              903619                  [(1, 902772)]   \n",
      "3                  903660                  [(1, 903654)]   \n",
      "53583              903464  [(1, 20155), (20312, 903227)]   \n",
      "...                   ...                            ...   \n",
      "2140129             29839                   [(1, 29839)]   \n",
      "2140130              1162               [(28679, 29839)]   \n",
      "2140856             29476                   [(1, 29476)]   \n",
      "2140938             28681                   [(1, 28681)]   \n",
      "2142126             27704                   [(1, 27704)]   \n",
      "\n",
      "                 collapsed_ref_intervals  flag  \n",
      "0                          [(1, 903654)]     0  \n",
      "1                        [(9197, 10026)]     0  \n",
      "18949    [(1, 771905), (771941, 903654)]     0  \n",
      "3                          [(1, 903660)]     0  \n",
      "53583                      [(1, 903464)]     0  \n",
      "...                                  ...   ...  \n",
      "2140129                     [(1, 29839)]     0  \n",
      "2140130                 [(28285, 29446)]     1  \n",
      "2140856                     [(1, 29476)]     0  \n",
      "2140938                     [(1, 28681)]     0  \n",
      "2142126                     [(1, 27704)]     0  \n",
      "\n",
      "[1074329 rows x 12 columns]\n"
     ]
    }
   ],
   "source": [
    "# Create a sorted pair column\n",
    "results_df['sorted_pair'] = results_df.apply(lambda row: tuple(sorted([row['query_ID'], row['ref_ID']])), axis=1)\n",
    "\n",
    "# Group by the sorted pair and take the row with the minimum total_weighted_overlap\n",
    "filtered_df = results_df.loc[results_df.groupby('sorted_pair')['total_weighted_overlap'].idxmin()]\n",
    "\n",
    "# Drop the helper column as it's no longer needed\n",
    "filtered_df = filtered_df.drop(columns=['sorted_pair'])\n",
    "\n",
    "# Display the filtered dataframe\n",
    "print(filtered_df)"
   ]
  },
  {
   "cell_type": "code",
   "execution_count": 23,
   "id": "8123c9aa-f523-4d20-a18c-5256d050ec0c",
   "metadata": {},
   "outputs": [],
   "source": [
    "filtered_df = filtered_df.reset_index(drop=True)"
   ]
  },
  {
   "cell_type": "code",
   "execution_count": 24,
   "id": "63ab668c-1a86-4361-a7ce-ca936c08c94d",
   "metadata": {},
   "outputs": [
    {
     "name": "stdout",
     "output_type": "stream",
     "text": [
      "4016\n",
      "4016\n"
     ]
    }
   ],
   "source": [
    "print(len(set(filtered_df['query_ID'])))\n",
    "print(len(set(filtered_df['ref_ID'])))"
   ]
  },
  {
   "cell_type": "code",
   "execution_count": 25,
   "id": "171cf9e7-7e63-4af4-b004-28676c4dacfd",
   "metadata": {},
   "outputs": [],
   "source": [
    "with open('fixed_parsed_mummer_output_dedup.pkl', 'wb') as file:\n",
    "    pickle.dump(results_df, file)"
   ]
  },
  {
   "cell_type": "code",
   "execution_count": 27,
   "id": "bc99bf4a-938c-43ec-ac12-fad295945956",
   "metadata": {},
   "outputs": [],
   "source": [
    "edges_df = filtered_df[['query_ID', 'ref_ID', 'total_weighted_overlap', 'edge_weight', 'query_len', 'ref_len']]"
   ]
  },
  {
   "cell_type": "code",
   "execution_count": 35,
   "id": "ca5d96e2-9ba3-4fdb-9162-ec2b2b16058e",
   "metadata": {},
   "outputs": [],
   "source": [
    "edges_df = edges_df.rename(columns={\n",
    "    'query_ID': 'Source',\n",
    "    'ref_ID': 'Target',\n",
    "    'edge_weight': 'weight',\n",
    "    'query_len': 'source_length',\n",
    "    'ref_len': 'target_length',\n",
    "    'total_weighted_overlap': 'alignment_length',\n",
    "})"
   ]
  },
  {
   "cell_type": "code",
   "execution_count": 36,
   "id": "50523291-a9a1-4b9d-b2c9-5c068c8e65ec",
   "metadata": {},
   "outputs": [],
   "source": [
    "edges_df['interaction'] = edges_df['weight'].apply(lambda x: 'interacts' if x>0 else 'none')"
   ]
  },
  {
   "cell_type": "code",
   "execution_count": 84,
   "id": "913b1b84-6bd7-4ed0-89d3-80894a2d558b",
   "metadata": {},
   "outputs": [
    {
     "name": "stdout",
     "output_type": "stream",
     "text": [
      "interaction\n",
      "interacts    1070313\n",
      "Name: count, dtype: int64\n",
      "                      Source              Target  alignment_length   weight  \\\n",
      "672947  UNY1083P__contig_118  URI56H__contig_215               278  1.10757   \n",
      "\n",
      "        source_length  target_length interaction  \n",
      "672947            377            125   interacts  \n"
     ]
    }
   ],
   "source": [
    "print(edges_df['interaction'].value_counts())\n",
    "print(edges_df[edges_df['weight']== 1.1075697211155378])\n",
    "# ok we're just gonna drop the weird ones."
   ]
  },
  {
   "cell_type": "code",
   "execution_count": 74,
   "id": "132770ae-04d0-48e9-9cbf-7aabe301ec56",
   "metadata": {},
   "outputs": [
    {
     "name": "stdout",
     "output_type": "stream",
     "text": [
      "3902\n",
      "3901\n",
      "{'UNY1083P__contig_103', 'URI48H__contig_20', 'URI34H__contig_50', 'UNY1128P__contig_274', 'XYZ459H__contig_22', 'XYZ459H__contig_10', 'URI56H__contig_26', 'URI48H__contig_21', 'ESI26H__contig_13', 'URI48H__contig_22'}\n",
      "{'UNY1128P__contig_272', 'UNY1083P__contig_135', 'UCT50H__contig_18', 'UCT35H__contig_32', 'UNY1083P__contig_226', 'URI33H__contig_34', 'ESI425H__contig_17', 'UCT35H__contig_28', 'ESI425H__contig_20', 'UNY1083P__contig_31', 'ESI403H__contig_30'}\n"
     ]
    }
   ],
   "source": [
    "print(len(set(edges_df['Source'])))\n",
    "print(len(set(edges_df['Target'])))\n",
    "print(set(edges_df['Target']) - set(edges_df['Source']))#{'UNY1083P__contig_103', 'URI48H__contig_20', 'URI34H__contig_50', 'UNY1128P__contig_274', 'XYZ459H__contig_22', 'XYZ459H__contig_10', 'URI56H__contig_26', 'URI48H__contig_21', 'ESI26H__contig_13', 'URI48H__contig_22'}\n",
    "print(set(edges_df['Source']) - set(edges_df['Target']))#{'UNY1128P__contig_272', 'UNY1083P__contig_135', 'UCT50H__contig_18', 'UCT35H__contig_32', 'UNY1083P__contig_226', 'URI33H__contig_34', 'ESI425H__contig_17', 'UCT35H__contig_28', 'ESI425H__contig_20', 'UNY1083P__contig_31', 'ESI403H__contig_30'}"
   ]
  },
  {
   "cell_type": "code",
   "execution_count": 196,
   "id": "3877548c-e6ee-4caa-9150-8322b20bc37b",
   "metadata": {},
   "outputs": [],
   "source": [
    "# No self alignments\n",
    "edges_df = edges_df[~(edges_df['Source'] == edges_df['Target'])]"
   ]
  },
  {
   "cell_type": "code",
   "execution_count": 197,
   "id": "bb7535db-1989-453b-9c74-fe415d47a82c",
   "metadata": {},
   "outputs": [],
   "source": [
    "# No short contigs\n",
    "filt_edges_df = edges_df[~((edges_df['source_length'] < 1500) | (edges_df['target_length'] < 1500))]"
   ]
  },
  {
   "cell_type": "code",
   "execution_count": 198,
   "id": "e0bf71be-cb5c-400e-8b5d-6bf342debf0e",
   "metadata": {
    "scrolled": true
   },
   "outputs": [
    {
     "name": "stdout",
     "output_type": "stream",
     "text": [
      "1562\n",
      "1562\n"
     ]
    }
   ],
   "source": [
    "print(len(set(filt_edges_df['Source'])))#1681\n",
    "print(len(set(filt_edges_df['Target'])))#1681\n",
    "missing_from_target = set(filt_edges_df['Target']) - set(filt_edges_df['Source'])\n",
    "missing_from_source = set(filt_edges_df['Source']) - set(filt_edges_df['Target'])"
   ]
  },
  {
   "cell_type": "code",
   "execution_count": 199,
   "id": "a7f0491f-f81c-4f56-99be-1d8b04472272",
   "metadata": {},
   "outputs": [
    {
     "name": "stdout",
     "output_type": "stream",
     "text": [
      "1475\n",
      "1478\n",
      "1555\n",
      "1557\n",
      "1561\n",
      "1562\n"
     ]
    }
   ],
   "source": [
    "# and no weights below 0.5\n",
    "filt05_edges_df = filt_edges_df[(filt_edges_df['weight'] >= 0.5)] # 0.5, 0.1, 0.09\n",
    "print(len(set(filt05_edges_df['Source'])))#1567\n",
    "print(len(set(filt05_edges_df['Target'])))#1568\n",
    "\n",
    "# and no weights below 0.1\n",
    "filt01_edges_df = filt_edges_df[(filt_edges_df['weight'] >= 0.1)]\n",
    "print(len(set(filt01_edges_df['Source'])))#1666\n",
    "print(len(set(filt01_edges_df['Target'])))#1671\n",
    "\n",
    "# and no weights below 0.01\n",
    "filt001_edges_df = filt_edges_df[(filt_edges_df['weight'] >= 0.01)] # going forward with this one but cutting off alignment length at 500\n",
    "print(len(set(filt001_edges_df['Source'])))#1680\n",
    "print(len(set(filt001_edges_df['Target'])))#1681"
   ]
  },
  {
   "cell_type": "code",
   "execution_count": 200,
   "id": "ec1fc9e2-33af-4ce6-8fd5-6257ca24c4c0",
   "metadata": {},
   "outputs": [
    {
     "name": "stdout",
     "output_type": "stream",
     "text": [
      "1561\n",
      "1562\n"
     ]
    }
   ],
   "source": [
    "# and no aln lengths below 500bp\n",
    "filt_w001_aln500_edges_df = filt001_edges_df[(filt001_edges_df['alignment_length'] >= 500)] # going forward with this one but cutting off alignment length at 500\n",
    "print(len(set(filt_w001_aln500_edges_df['Source'])))#1561\n",
    "print(len(set(filt_w001_aln500_edges_df['Target'])))#1562"
   ]
  },
  {
   "cell_type": "code",
   "execution_count": 201,
   "id": "b6bd478a-d633-4742-a67f-fd80a2760bcc",
   "metadata": {},
   "outputs": [],
   "source": [
    "filt_w001_aln500_edges_df.to_csv(f'fixed_nucl_v5_pd_matrix_filtered_w001_aln500_len1500_edges_{timestamp}.csv', sep=',', index=False)"
   ]
  },
  {
   "cell_type": "code",
   "execution_count": 155,
   "id": "bd944277-7e0d-4b22-8e1e-8c72e248b6d8",
   "metadata": {},
   "outputs": [],
   "source": [
    "import matplotlib.pyplot as plt\n",
    "\n",
    "def plot_weight_histogram(df, cutoff):\n",
    "    plt.hist(df['weight'], bins=100, edgecolor='black')\n",
    "    plt.xlabel('Weight')\n",
    "    plt.ylabel('Frequency')\n",
    "    plt.title(f'Weight Distribution ({cutoff})')\n",
    "    # Add more ticks to the y-axis\n",
    "    max_x = plt.gca().get_xlim()[1]  # Get the maximum value of the y-axis\n",
    "    print(max_x)\n",
    "    ticks = numpy.linspace(0, max_x, num=10)  # Adjust the number of ticks (e.g., 15)\n",
    "    plt.xticks(ticks)\n",
    "    return plt\n"
   ]
  },
  {
   "cell_type": "code",
   "execution_count": 156,
   "id": "5ca523a6-b16c-4ef4-a8a1-793f6fea5529",
   "metadata": {},
   "outputs": [
    {
     "name": "stdout",
     "output_type": "stream",
     "text": [
      "1.1629456077460043\n"
     ]
    },
    {
     "data": {
      "text/plain": [
       "<module 'matplotlib.pyplot' from '/home/mf019/bin/miniconda3/lib/python3.11/site-packages/matplotlib/pyplot.py'>"
      ]
     },
     "execution_count": 156,
     "metadata": {},
     "output_type": "execute_result"
    },
    {
     "data": {
      "image/png": "[encoded data removed]",
      "text/plain": [
       "<Figure size 640x480 with 1 Axes>"
      ]
     },
     "metadata": {},
     "output_type": "display_data"
    }
   ],
   "source": [
    "plot_weight_histogram(edges_df, \"unfiltered\")"
   ]
  },
  {
   "cell_type": "code",
   "execution_count": 157,
   "id": "c1e4e871-b3b3-49d3-a0e0-c3eb24592bab",
   "metadata": {},
   "outputs": [
    {
     "name": "stdout",
     "output_type": "stream",
     "text": [
      "1.025\n"
     ]
    },
    {
     "data": {
      "text/plain": [
       "<module 'matplotlib.pyplot' from '/home/mf019/bin/miniconda3/lib/python3.11/site-packages/matplotlib/pyplot.py'>"
      ]
     },
     "execution_count": 157,
     "metadata": {},
     "output_type": "execute_result"
    },
    {
     "data": {
      "image/png": "[encoded data removed]",
      "text/plain": [
       "<Figure size 640x480 with 1 Axes>"
      ]
     },
     "metadata": {},
     "output_type": "display_data"
    }
   ],
   "source": [
    "plot_weight_histogram(filt05_edges_df, \"weight ≥ 0.5\")"
   ]
  },
  {
   "cell_type": "code",
   "execution_count": 158,
   "id": "07e67415-518a-4bbd-be7b-b077154360fc",
   "metadata": {},
   "outputs": [
    {
     "name": "stdout",
     "output_type": "stream",
     "text": [
      "1.0449999152240628\n"
     ]
    },
    {
     "data": {
      "text/plain": [
       "<module 'matplotlib.pyplot' from '/home/mf019/bin/miniconda3/lib/python3.11/site-packages/matplotlib/pyplot.py'>"
      ]
     },
     "execution_count": 158,
     "metadata": {},
     "output_type": "execute_result"
    },
    {
     "data": {
      "image/png": "[encoded data removed]",
      "text/plain": [
       "<Figure size 640x480 with 1 Axes>"
      ]
     },
     "metadata": {},
     "output_type": "display_data"
    }
   ],
   "source": [
    "plot_weight_histogram(filt01_edges_df, \"weight ≥ 0.1\")"
   ]
  },
  {
   "cell_type": "code",
   "execution_count": 159,
   "id": "de78421c-1e26-43a9-8d95-4da7a8e9380b",
   "metadata": {},
   "outputs": [
    {
     "name": "stdout",
     "output_type": "stream",
     "text": [
      "1.0494999473628803\n"
     ]
    },
    {
     "data": {
      "text/plain": [
       "<module 'matplotlib.pyplot' from '/home/mf019/bin/miniconda3/lib/python3.11/site-packages/matplotlib/pyplot.py'>"
      ]
     },
     "execution_count": 159,
     "metadata": {},
     "output_type": "execute_result"
    },
    {
     "data": {
      "image/png": "[encoded data removed]",
      "text/plain": [
       "<Figure size 640x480 with 1 Axes>"
      ]
     },
     "metadata": {},
     "output_type": "display_data"
    }
   ],
   "source": [
    "plot_weight_histogram(filt001_edges_df, \"weight ≥ 0.1\")"
   ]
  },
  {
   "cell_type": "code",
   "execution_count": 182,
   "id": "5ad7350e-9761-4612-955f-d37e6b493dea",
   "metadata": {
    "scrolled": true
   },
   "outputs": [
    {
     "name": "stdout",
     "output_type": "stream",
     "text": [
      "                                                   Source              Target  \\\n",
      "6109    GCF_040790775.1_ASM4079077v1_genomic__NZ_CP161...     B331P__contig_2   \n",
      "40428   GCF_040790775.1_ASM4079077v1_genomic__NZ_CP161...     B500P__contig_2   \n",
      "82861   GCF_040790775.1_ASM4079077v1_genomic__NZ_CP161...    ESI26H__contig_9   \n",
      "90844   GCF_040790775.1_ASM4079077v1_genomic__NZ_CP161...   ESI361H__contig_7   \n",
      "92849   GCF_040790775.1_ASM4079077v1_genomic__NZ_CP161...  ESI403H__contig_11   \n",
      "...                                                   ...                 ...   \n",
      "323302  GCF_040790775.1_ASM4079077v1_genomic__NZ_CP161...   UWI263P__contig_1   \n",
      "323303  GCF_040790775.1_ASM4079077v1_genomic__NZ_CP161...   UWI263P__contig_2   \n",
      "323305  GCF_040790775.1_ASM4079077v1_genomic__NZ_CP161...   UWI283P__contig_2   \n",
      "323306  GCF_040790775.1_ASM4079077v1_genomic__NZ_CP161...   XYZ459H__contig_1   \n",
      "323307  GCF_040790775.1_ASM4079077v1_genomic__NZ_CP161...  XYZ459H__contig_10   \n",
      "\n",
      "        alignment_length    weight  source_length  target_length interaction  \n",
      "6109               26061  0.945044          28647          26506   interacts  \n",
      "40428              26058  0.944832          28647          26512   interacts  \n",
      "82861              25929  0.940223          28647          26508   interacts  \n",
      "90844              25954  0.940993          28647          26516   interacts  \n",
      "92849              26124  0.947191          28647          26514   interacts  \n",
      "...                  ...       ...            ...            ...         ...  \n",
      "323302               404  0.000863          28647         907926   interacts  \n",
      "323303             26184  0.949280          28647          26519   interacts  \n",
      "323305             26007  0.942658          28647          26531   interacts  \n",
      "323306               749  0.001608          28647         903233   interacts  \n",
      "323307             26016  0.942882          28647          26537   interacts  \n",
      "\n",
      "[102 rows x 7 columns]\n"
     ]
    }
   ],
   "source": [
    "#print(filt_edges_df[filt_edges_df['Target']=='URI117H__contig_26'])\n",
    "#print(filt_edges_df[filt_edges_df['Source']=='ESI425H__contig_17'])\n",
    "print(filt_edges_df[filt_edges_df['Source']=='GCF_040790775.1_ASM4079077v1_genomic__NZ_CP161185.1'])"
   ]
  },
  {
   "cell_type": "code",
   "execution_count": null,
   "id": "3401b196-f6a4-4813-a4a4-1fe04e501fa1",
   "metadata": {},
   "outputs": [],
   "source": []
  }
 ],
 "metadata": {
  "kernelspec": {
   "display_name": "Python 3 (ipykernel)",
   "language": "python",
   "name": "python3"
  },
  "language_info": {
   "codemirror_mode": {
    "name": "ipython",
    "version": 3
   },
   "file_extension": ".py",
   "mimetype": "text/x-python",
   "name": "python",
   "nbconvert_exporter": "python",
   "pygments_lexer": "ipython3",
   "version": "3.11.9"
  }
 },
 "nbformat": 4,
 "nbformat_minor": 5
}
