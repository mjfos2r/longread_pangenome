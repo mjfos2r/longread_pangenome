{
 "cells": [
  {
   "cell_type": "code",
   "execution_count": 15,
   "id": "e17ff4f6-e2ab-429e-80a2-f8149ff99979",
   "metadata": {},
   "outputs": [],
   "source": [
    "import os\n",
    "import glob\n",
    "from Bio import SeqIO\n",
    "import pathlib\n",
    "from tqdm.notebook import tqdm"
   ]
  },
  {
   "cell_type": "code",
   "execution_count": 5,
   "id": "49f2caae-a506-40c2-9026-62e08e332c7e",
   "metadata": {},
   "outputs": [],
   "source": [
    "def split_genbank(genbank_file, output_dir):\n",
    "    file_name = pathlib.Path(genbank_file).stem\n",
    "    records = list(record for record in SeqIO.parse(open(genbank_file, 'r'), 'genbank'))\n",
    "    record_ids = [record.id for record in records]\n",
    "    num_records = len(record_ids)\n",
    "    for record in records:\n",
    "        record_id = record.id\n",
    "        outfile_path = output_dir.joinpath(f'{file_name}__{record_id}.gbff')\n",
    "        #print(record_id)\n",
    "        with open(outfile_path, 'w') as outfile:\n",
    "            SeqIO.write(record, outfile, 'genbank')\n",
    "    return print(f'Split {file_name} into {num_records} individual records in {output_dir}')"
   ]
  },
  {
   "cell_type": "code",
   "execution_count": 12,
   "id": "4525aacb-999c-4bc8-a294-ac2f8eb14b58",
   "metadata": {},
   "outputs": [],
   "source": [
    "def genbank_to_multifasta(genbank_file, output_mfa):\n",
    "    assembly_name = pathlib.Path(genbank_file).stem\n",
    "    records = list(record for record in SeqIO.parse(genbank_file, 'genbank'))\n",
    "    record_ids = list(record.id for record in records)\n",
    "    num_records = len(record_ids)\n",
    "    fixed_records = []\n",
    "    for record in records:\n",
    "        #print(f\"Pre: {record.id}\")\n",
    "        record_id = f\"{assembly_name}__{record.id}\"\n",
    "        record.id = record_id\n",
    "        #print(f\"Post: {record.id}\")\n",
    "        fixed_records.append(record)\n",
    "    return fixed_records"
   ]
  },
  {
   "cell_type": "code",
   "execution_count": 7,
   "id": "8e786646-c27f-46d9-bc6d-6e07e563adb9",
   "metadata": {},
   "outputs": [
    {
     "name": "stdout",
     "output_type": "stream",
     "text": [
      "/home/mf019/longread_pangenome/expanded_dataset_analysis/assemblies/all_split_contigs_v5\n"
     ]
    }
   ],
   "source": [
    "wd = pathlib.Path('/home/mf019/longread_pangenome/expanded_dataset_analysis/')\n",
    "assemblies_dir = wd.joinpath('assemblies')\n",
    "input_dir = assemblies_dir.joinpath('dataset_v5')\n",
    "output_dir = assemblies_dir.joinpath('all_split_contigs_v5')\n",
    "mfa_path = pathlib.Path(\"/home/mf019/longread_pangenome/expanded_dataset_analysis/assemblies/all_contigs_v5.fna\")\n",
    "print(output_dir)\n",
    "if not output_dir.exists():\n",
    "    os.makedirs(output_dir)\n",
    "    print(f'created directory: {output_dir}')"
   ]
  },
  {
   "cell_type": "code",
   "execution_count": null,
   "id": "6cf9a7fb-a507-4dfe-895f-cfc35abf0b75",
   "metadata": {
    "scrolled": true
   },
   "outputs": [],
   "source": [
    "assemblies = list(input_dir.rglob('*.gbff'))\n",
    "print(len(assemblies))\n",
    "mfa_records = []\n",
    "for assembly in tqdm(assemblies):\n",
    "    #print(assembly)\n",
    "    mfa_records.extend(genbank_to_multifasta(assembly, mfa_path))"
   ]
  },
  {
   "cell_type": "code",
   "execution_count": 22,
   "id": "437b34dd-d4c0-4b19-a85c-17602db70c61",
   "metadata": {
    "scrolled": true
   },
   "outputs": [
    {
     "name": "stdout",
     "output_type": "stream",
     "text": [
      "4080\n"
     ]
    }
   ],
   "source": [
    "print(len(mfa_records))"
   ]
  },
  {
   "cell_type": "code",
   "execution_count": 21,
   "id": "64d6cc85-6fa4-4958-bb17-e89cb8c5fd77",
   "metadata": {
    "scrolled": true
   },
   "outputs": [
    {
     "data": {
      "text/plain": [
       "4080"
      ]
     },
     "execution_count": 21,
     "metadata": {},
     "output_type": "execute_result"
    }
   ],
   "source": [
    "SeqIO.write(mfa_records, mfa_path, \"fasta\")"
   ]
  },
  {
   "cell_type": "code",
   "execution_count": 18,
   "id": "30546007-3ca8-439b-80a6-630d08556edf",
   "metadata": {
    "scrolled": true
   },
   "outputs": [],
   "source": [
    "#for assembly in assemblies:\n",
    "    #split_genbank(assembly, output_dir) "
   ]
  },
  {
   "cell_type": "code",
   "execution_count": null,
   "id": "8eab6334-418f-4c69-926e-865858d62c0d",
   "metadata": {},
   "outputs": [],
   "source": []
  }
 ],
 "metadata": {
  "kernelspec": {
   "display_name": "Python 3 (ipykernel)",
   "language": "python",
   "name": "python3"
  },
  "language_info": {
   "codemirror_mode": {
    "name": "ipython",
    "version": 3
   },
   "file_extension": ".py",
   "mimetype": "text/x-python",
   "name": "python",
   "nbconvert_exporter": "python",
   "pygments_lexer": "ipython3",
   "version": "3.11.9"
  }
 },
 "nbformat": 4,
 "nbformat_minor": 5
}
