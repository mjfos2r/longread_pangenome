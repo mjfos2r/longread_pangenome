{
 "cells": [
  {
   "cell_type": "code",
   "execution_count": 10,
   "id": "5dcb6695-31b5-4b36-8e55-9862687eb1e3",
   "metadata": {},
   "outputs": [
    {
     "name": "stdout",
     "output_type": "stream",
     "text": [
      "Contigs under 250bp: 974\n",
      "Contigs over 250bp: 3106\n"
     ]
    }
   ],
   "source": [
    "from Bio import SeqIO\n",
    "\n",
    "# Initialize lists for short and long contigs\n",
    "under_250 = []\n",
    "over_250 = []\n",
    "\n",
    "# Read and categorize sequences\n",
    "for record in SeqIO.parse(\"../../assemblies/all_contigs_v5.fna\", \"fasta\"):\n",
    "    if len(record.seq) < 250:\n",
    "        under_250.append(record.id)\n",
    "    else:\n",
    "        over_250.append(record.id)\n",
    "\n",
    "# Print summary\n",
    "print(f\"Contigs under 250bp: {len(under_250)}\")\n",
    "print(f\"Contigs over 250bp: {len(over_250)}\")"
   ]
  },
  {
   "cell_type": "code",
   "execution_count": null,
   "id": "c56bdcf9-46e8-4b50-9e19-c5889639df90",
   "metadata": {},
   "outputs": [],
   "source": [
    "# Write outputs\n",
    "with open(\"contigs_under_250bp.txt\", \"w\") as f:\n",
    "    f.write(\"\\n\".join(under_250))\n",
    "\n",
    "with open(\"contigs_over_250bp.txt\", \"w\") as f:\n",
    "    f.write(\"\\n\".join(over_250))"
   ]
  }
 ],
 "metadata": {
  "kernelspec": {
   "display_name": "Python 3 (ipykernel)",
   "language": "python",
   "name": "python3"
  },
  "language_info": {
   "codemirror_mode": {
    "name": "ipython",
    "version": 3
   },
   "file_extension": ".py",
   "mimetype": "text/x-python",
   "name": "python",
   "nbconvert_exporter": "python",
   "pygments_lexer": "ipython3",
   "version": "3.11.9"
  }
 },
 "nbformat": 4,
 "nbformat_minor": 5
}
