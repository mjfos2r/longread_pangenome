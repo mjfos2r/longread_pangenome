{
 "cells": [
  {
   "cell_type": "code",
   "execution_count": 10,
   "id": "c728bd67-8e38-4308-86ac-39c1c1fc97a7",
   "metadata": {},
   "outputs": [],
   "source": [
    "import os\n",
    "import pathlib\n",
    "from Bio import SeqIO\n",
    "from tqdm.notebook import tqdm"
   ]
  },
  {
   "cell_type": "code",
   "execution_count": 23,
   "id": "172410d6-cac9-4d4b-a2c2-2485cd9f4a03",
   "metadata": {},
   "outputs": [],
   "source": [
    "def many_gbk_to_single_mfa(list_of_filepaths, output_file, *args, **kwargs):\n",
    "    num_recs = 0\n",
    "    all_records = []\n",
    "    for file in tqdm(list_of_filepaths):\n",
    "        record = SeqIO.parse(file, \"genbank\")\n",
    "        all_records.extend(record)\n",
    "        num_recs += 1\n",
    "    \n",
    "    #SeqIO.write(all_records, output_file, \"fasta\")\n",
    "    print(f\"{num_recs} written to multifasta:\\n{output_file}\")"
   ]
  },
  {
   "cell_type": "code",
   "execution_count": 14,
   "id": "270feac5-0737-44f7-9274-55b5de63a2c0",
   "metadata": {},
   "outputs": [
    {
     "name": "stdout",
     "output_type": "stream",
     "text": [
      "4016\n"
     ]
    }
   ],
   "source": [
    "gbks_path = pathlib.Path(\"/home/mf019/longread_pangenome/expanded_dataset_analysis/assemblies/all_split_contigs_v5\")\n",
    "mfa_path = pathlib.Path(\"/home/mf019/longread_pangenome/expanded_dataset_analysis/assemblies/all_contigs_v5.fna\")\n",
    "contigs = list(gbks_path.glob(\"*.gbff\"))\n",
    "print(len(contigs))"
   ]
  },
  {
   "cell_type": "code",
   "execution_count": 24,
   "id": "2cd3d44b-17ad-4c87-ad3e-54c500578fa4",
   "metadata": {},
   "outputs": [
    {
     "name": "stdout",
     "output_type": "stream",
     "text": [
      "Num Unique Contigs: 4016\n"
     ]
    },
    {
     "data": {
      "application/vnd.jupyter.widget-view+json": {
       "model_id": "1d569fa9e85a441593bfc80cd8083440",
       "version_major": 2,
       "version_minor": 0
      },
      "text/plain": [
       "  0%|          | 0/4016 [00:00<?, ?it/s]"
      ]
     },
     "metadata": {},
     "output_type": "display_data"
    },
    {
     "ename": "AttributeError",
     "evalue": "'GenBankIterator' object has no attribute 'id'",
     "output_type": "error",
     "traceback": [
      "\u001b[0;31m---------------------------------------------------------------------------\u001b[0m",
      "\u001b[0;31mAttributeError\u001b[0m                            Traceback (most recent call last)",
      "Cell \u001b[0;32mIn[24], line 2\u001b[0m\n\u001b[1;32m      1\u001b[0m \u001b[38;5;28mprint\u001b[39m(\u001b[38;5;124mf\u001b[39m\u001b[38;5;124m\"\u001b[39m\u001b[38;5;124mNum Unique Contigs: \u001b[39m\u001b[38;5;132;01m{\u001b[39;00m\u001b[38;5;28mlen\u001b[39m(\u001b[38;5;28mset\u001b[39m(contigs))\u001b[38;5;132;01m}\u001b[39;00m\u001b[38;5;124m\"\u001b[39m)\n\u001b[0;32m----> 2\u001b[0m \u001b[43mmany_gbk_to_single_mfa\u001b[49m\u001b[43m(\u001b[49m\u001b[43mcontigs\u001b[49m\u001b[43m,\u001b[49m\u001b[43m \u001b[49m\u001b[43mmfa_path\u001b[49m\u001b[43m)\u001b[49m\n",
      "Cell \u001b[0;32mIn[23], line 6\u001b[0m, in \u001b[0;36mmany_gbk_to_single_mfa\u001b[0;34m(list_of_filepaths, output_file, *args, **kwargs)\u001b[0m\n\u001b[1;32m      4\u001b[0m \u001b[38;5;28;01mfor\u001b[39;00m file \u001b[38;5;129;01min\u001b[39;00m tqdm(list_of_filepaths):\n\u001b[1;32m      5\u001b[0m     record \u001b[38;5;241m=\u001b[39m SeqIO\u001b[38;5;241m.\u001b[39mparse(file, \u001b[38;5;124m\"\u001b[39m\u001b[38;5;124mgenbank\u001b[39m\u001b[38;5;124m\"\u001b[39m)\n\u001b[0;32m----> 6\u001b[0m     \u001b[38;5;28mprint\u001b[39m(\u001b[43mrecord\u001b[49m\u001b[38;5;241;43m.\u001b[39;49m\u001b[43mid\u001b[49m)\n\u001b[1;32m      7\u001b[0m     all_records\u001b[38;5;241m.\u001b[39mextend(record)\n\u001b[1;32m      8\u001b[0m     num_recs \u001b[38;5;241m+\u001b[39m\u001b[38;5;241m=\u001b[39m \u001b[38;5;241m1\u001b[39m\n",
      "\u001b[0;31mAttributeError\u001b[0m: 'GenBankIterator' object has no attribute 'id'"
     ]
    }
   ],
   "source": [
    "print(f\"Num Unique Contigs: {len(set(contigs))}\")\n",
    "many_gbk_to_single_mfa(contigs, mfa_path)"
   ]
  },
  {
   "cell_type": "code",
   "execution_count": null,
   "id": "b414717b-f273-47af-bede-d52484beda84",
   "metadata": {},
   "outputs": [],
   "source": []
  }
 ],
 "metadata": {
  "kernelspec": {
   "display_name": "Python 3 (ipykernel)",
   "language": "python",
   "name": "python3"
  },
  "language_info": {
   "codemirror_mode": {
    "name": "ipython",
    "version": 3
   },
   "file_extension": ".py",
   "mimetype": "text/x-python",
   "name": "python",
   "nbconvert_exporter": "python",
   "pygments_lexer": "ipython3",
   "version": "3.11.9"
  }
 },
 "nbformat": 4,
 "nbformat_minor": 5
}
