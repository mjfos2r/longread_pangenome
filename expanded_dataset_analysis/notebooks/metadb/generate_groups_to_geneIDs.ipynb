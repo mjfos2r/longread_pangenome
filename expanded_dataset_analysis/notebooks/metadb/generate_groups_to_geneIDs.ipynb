{
 "cells": [
  {
   "cell_type": "code",
   "execution_count": 1,
   "id": "0c4b432d-c1ab-4819-abb6-6885f8f7b52b",
   "metadata": {},
   "outputs": [],
   "source": [
    "import os\n",
    "import pathlib\n",
    "import pickle\n",
    "from collections import defaultdict"
   ]
  },
  {
   "cell_type": "code",
   "execution_count": 4,
   "id": "bbd64f43-c2f0-482e-a5f7-c6b69a122584",
   "metadata": {},
   "outputs": [],
   "source": [
    "db_v = 'v3.1'                  # database_version\n",
    "ds_v = 'v5'                  # dataset_version\n",
    "pc_v = 'v10.2'                  # plasmid calls version\n",
    "pg_v = 'v8'                  # pangenome_version\n",
    "pg_t = f'{pg_v}_filtered_nsp' # pangenome type [('split paralogs', '*_sp'), ('no split paralogs', '*_nsp')]\n",
    "db_n = f'Bbss_db_{db_v}.db' # database filename\n",
    "\n",
    "analysis_dir = pathlib.Path('/home/mf019/longread_pangenome/expanded_dataset_analysis')\n",
    "roary_results = analysis_dir.joinpath('output', 'results', pg_v, pg_t , f'roary_{pg_t}/')\n",
    "clustered_proteins_file = roary_results.joinpath('clustered_proteins')\n",
    "output_dir = analysis_dir.joinpath('ref', 'asm_db')\n",
    "groups_to_genelists_pickle = output_dir.joinpath(f'groups_to_IDs_roary_{pg_t}.pkl')"
   ]
  },
  {
   "cell_type": "code",
   "execution_count": 5,
   "id": "ac3c0dcd-791c-474f-862d-7c5ca1cddc63",
   "metadata": {},
   "outputs": [
    {
     "name": "stdout",
     "output_type": "stream",
     "text": [
      "2090\n",
      "Successfully Pickled to /home/mf019/longread_pangenome/expanded_dataset_analysis/ref/asm_db/groups_to_IDs_roary_v8_filtered_nsp.pkl\n"
     ]
    }
   ],
   "source": [
    "def pickle_dict(input_object, output_file):\n",
    "    with open(output_file, 'wb') as jar:\n",
    "        pickle.dump(input_object, jar)\n",
    "    print(f\"Successfully Pickled to {output_file}\")\n",
    "\n",
    "groups_to_genelists = defaultdict(list)\n",
    "with open(clustered_proteins_file, 'r') as infile:\n",
    "    for line in infile.readlines():\n",
    "        splitline = line.split('\\t')\n",
    "        group_id = splitline[0].split(':')[0]\n",
    "        gene1 = [splitline[0].split(':')[1].strip(\" \").strip('\\n')]\n",
    "        rest_of_genes = [gene.strip('\\n') for gene in splitline[1::]] if len(splitline) > 1 else []\n",
    "        groups_to_genelists[group_id] = gene1\n",
    "        groups_to_genelists[group_id].extend(rest_of_genes)\n",
    "print(len(groups_to_genelists.keys()))\n",
    "\n",
    "pickle_dict(groups_to_genelists, groups_to_genelists_pickle)"
   ]
  },
  {
   "cell_type": "code",
   "execution_count": null,
   "id": "6264d36f-c41f-41b0-9a4c-061388edbbf1",
   "metadata": {},
   "outputs": [],
   "source": []
  }
 ],
 "metadata": {
  "kernelspec": {
   "display_name": "Python 3 (ipykernel)",
   "language": "python",
   "name": "python3"
  },
  "language_info": {
   "codemirror_mode": {
    "name": "ipython",
    "version": 3
   },
   "file_extension": ".py",
   "mimetype": "text/x-python",
   "name": "python",
   "nbconvert_exporter": "python",
   "pygments_lexer": "ipython3",
   "version": "3.11.10"
  }
 },
 "nbformat": 4,
 "nbformat_minor": 5
}
