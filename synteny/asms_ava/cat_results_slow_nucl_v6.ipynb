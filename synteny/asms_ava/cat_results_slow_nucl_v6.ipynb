{
 "cells": [
  {
   "cell_type": "code",
   "execution_count": 13,
   "id": "0ce42d1d-9d27-4760-b35d-ff0945ec675d",
   "metadata": {},
   "outputs": [],
   "source": [
    "import os\n",
    "import glob\n",
    "from tqdm.notebook import tqdm"
   ]
  },
  {
   "cell_type": "code",
   "execution_count": null,
   "id": "61901af5-7159-4a3a-89fd-93b378ec3683",
   "metadata": {},
   "outputs": [],
   "source": [
    "def concatenate_files(input_directory, output_file):\n",
    "    with open(output_file, 'w') as outfile:\n",
    "        for root, dirs, files in os.walk(input_directory):\n",
    "            for filename in files:\n",
    "                if filename == 'align_coords.tsv':\n",
    "                    filepath = os.path.join(root, filename)\n",
    "                    try:\n",
    "                        with open(filepath, 'r') as infile:\n",
    "                            lines = infile.readlines()\n",
    "                            if len(lines) > 1:  # Check if file has more than one line\n",
    "                                outfile.writelines(lines[1:])\n",
    "                                outfile.write('\\n')\n",
    "                            else:\n",
    "                                pass\n",
    "                    except Exception as e:\n",
    "                        print(f\"Error processing {filepath}: {str(e)}\")"
   ]
  },
  {
   "cell_type": "code",
   "execution_count": 20,
   "id": "99495de1-da73-4c78-8ae6-a9eb70c05fc4",
   "metadata": {},
   "outputs": [],
   "source": [
    "def concatenate_files(input_directory, output_file):\n",
    "    files = glob.glob(f'{input_directory}/*/align_coords.tsv')\n",
    "    t = tqdm(desc=\"Processing...\", total=len(files))\n",
    "    with open(output_file, 'w') as outfile:\n",
    "        try:\n",
    "            with open(files[0], 'r') as infile:\n",
    "                lines = infile.readlines()\n",
    "                outfile.writelines(lines)\n",
    "                outfile.write('\\n')\n",
    "                t.update(1)\n",
    "        except Exception as e:\n",
    "            print(f\"Error processing {filepath}: {str(e)}\")\n",
    "            \n",
    "        for file in files[1:]:\n",
    "            try:\n",
    "                with open(file, 'r') as infile:\n",
    "                    lines = infile.readlines()\n",
    "                    if len(lines) > 1:  # Check if file has more than one line\n",
    "                        outfile.writelines(lines[1:])\n",
    "                        outfile.write('\\n')\n",
    "                        t.update(1)\n",
    "                    else:\n",
    "                        pass\n",
    "            except Exception as e:\n",
    "                print(f\"Error processing {filepath}: {str(e)}\")\n",
    "    t.close()"
   ]
  },
  {
   "cell_type": "code",
   "execution_count": 21,
   "id": "ef07f974-bfe0-4ee6-b6ec-de799607a495",
   "metadata": {},
   "outputs": [
    {
     "data": {
      "application/vnd.jupyter.widget-view+json": {
       "model_id": "ca67fe11d43140e68c1d5ac40fc5535e",
       "version_major": 2,
       "version_minor": 0
      },
      "text/plain": [
       "Processing...:   0%|          | 0/4329153 [00:00<?, ?it/s]"
      ]
     },
     "metadata": {},
     "output_type": "display_data"
    },
    {
     "name": "stdout",
     "output_type": "stream",
     "text": [
      "All valid files in /mnt/disks/results-1/asms_ava_prot_v1/nucleotide/ have been concatenated into v6/all_aln_coords.tsv\n"
     ]
    }
   ],
   "source": [
    "# Example usage\n",
    "input_dir = '/mnt/disks/results-1/asms_ava_prot_v1/nucleotide/'\n",
    "output_file = 'v6/all_aln_coords.tsv'\n",
    "\n",
    "concatenate_files(input_dir, output_file)\n",
    "print(f\"All valid files in {input_dir} have been concatenated into {output_file}\")"
   ]
  },
  {
   "cell_type": "code",
   "execution_count": 19,
   "id": "88b391e1-5dec-491c-99cd-5eaf8f214d0c",
   "metadata": {},
   "outputs": [],
   "source": [
    "# okay this is the exact same as v5. v5 only had 505122 alignments, rest are empty."
   ]
  },
  {
   "cell_type": "code",
   "execution_count": null,
   "id": "cfb9314c-3860-463b-adda-e9be820a0f26",
   "metadata": {},
   "outputs": [],
   "source": []
  }
 ],
 "metadata": {
  "kernelspec": {
   "display_name": "Python 3 (ipykernel)",
   "language": "python",
   "name": "python3"
  },
  "language_info": {
   "codemirror_mode": {
    "name": "ipython",
    "version": 3
   },
   "file_extension": ".py",
   "mimetype": "text/x-python",
   "name": "python",
   "nbconvert_exporter": "python",
   "pygments_lexer": "ipython3",
   "version": "3.12.2"
  }
 },
 "nbformat": 4,
 "nbformat_minor": 5
}
