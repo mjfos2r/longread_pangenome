{
 "cells": [
  {
   "cell_type": "code",
   "execution_count": 1,
   "id": "f6b9b429-c0e2-4bc6-bd53-4568b7004270",
   "metadata": {},
   "outputs": [],
   "source": [
    "import os\n",
    "import pandas"
   ]
  },
  {
   "cell_type": "code",
   "execution_count": 2,
   "id": "b6698377-a9b6-4fb1-a8b0-cdeddc143709",
   "metadata": {},
   "outputs": [],
   "source": [
    "simple_df = pandas.read_csv('ava_homology_simple_v5.tsv', sep='\\t')\n",
    "detailed_df = pandas.read_csv('ava_homology_detailed_v5.tsv', sep='\\t')"
   ]
  },
  {
   "cell_type": "code",
   "execution_count": 4,
   "id": "f7be4daf-6ee4-4de4-ac45-9c05f778af9d",
   "metadata": {},
   "outputs": [
    {
     "data": {
      "text/html": [
       "<div>\n",
       "<style scoped>\n",
       "    .dataframe tbody tr th:only-of-type {\n",
       "        vertical-align: middle;\n",
       "    }\n",
       "\n",
       "    .dataframe tbody tr th {\n",
       "        vertical-align: top;\n",
       "    }\n",
       "\n",
       "    .dataframe thead th {\n",
       "        text-align: right;\n",
       "    }\n",
       "</style>\n",
       "<table border=\"1\" class=\"dataframe\">\n",
       "  <thead>\n",
       "    <tr style=\"text-align: right;\">\n",
       "      <th></th>\n",
       "      <th>assembly1_id</th>\n",
       "      <th>asm1_id</th>\n",
       "      <th>asm1_len</th>\n",
       "      <th>assembly2_id</th>\n",
       "      <th>asm2_id</th>\n",
       "      <th>asm2_len</th>\n",
       "      <th>asm1_cov</th>\n",
       "      <th>asm1_total_homology</th>\n",
       "      <th>asm1_identities</th>\n",
       "      <th>asm2_cov</th>\n",
       "      <th>asm2_total_homology</th>\n",
       "      <th>asm2_identities</th>\n",
       "      <th>asm1_genes</th>\n",
       "      <th>asm2_genes</th>\n",
       "    </tr>\n",
       "  </thead>\n",
       "  <tbody>\n",
       "    <tr>\n",
       "      <th>0</th>\n",
       "      <td>URI112H_contig000064</td>\n",
       "      <td>URI112H_contig000064</td>\n",
       "      <td>215</td>\n",
       "      <td>URI102H_contig000022</td>\n",
       "      <td>URI102H_contig000022</td>\n",
       "      <td>874</td>\n",
       "      <td>0.000000</td>\n",
       "      <td>0</td>\n",
       "      <td>0.00</td>\n",
       "      <td>0.0</td>\n",
       "      <td>0</td>\n",
       "      <td>0.00</td>\n",
       "      <td>0</td>\n",
       "      <td>0</td>\n",
       "    </tr>\n",
       "    <tr>\n",
       "      <th>1</th>\n",
       "      <td>URI112H_contig000004</td>\n",
       "      <td>URI112H_contig000004</td>\n",
       "      <td>44674</td>\n",
       "      <td>URI117H_contig000149</td>\n",
       "      <td>URI117H_contig000149</td>\n",
       "      <td>126</td>\n",
       "      <td>0.000000</td>\n",
       "      <td>0</td>\n",
       "      <td>0.00</td>\n",
       "      <td>0.0</td>\n",
       "      <td>0</td>\n",
       "      <td>0.00</td>\n",
       "      <td>0</td>\n",
       "      <td>0</td>\n",
       "    </tr>\n",
       "    <tr>\n",
       "      <th>2</th>\n",
       "      <td>URI101H_contig000024</td>\n",
       "      <td>URI101H_contig000024</td>\n",
       "      <td>807</td>\n",
       "      <td>UCT109H_contig000020</td>\n",
       "      <td>UCT109H_contig000020</td>\n",
       "      <td>807</td>\n",
       "      <td>99.876084</td>\n",
       "      <td>806</td>\n",
       "      <td>8.06</td>\n",
       "      <td>100.0</td>\n",
       "      <td>807</td>\n",
       "      <td>8.08</td>\n",
       "      <td>0</td>\n",
       "      <td>2</td>\n",
       "    </tr>\n",
       "    <tr>\n",
       "      <th>3</th>\n",
       "      <td>URI117H_contig000009</td>\n",
       "      <td>URI117H_contig000009</td>\n",
       "      <td>23545</td>\n",
       "      <td>URI46H_contig000092</td>\n",
       "      <td>URI46H_contig000092</td>\n",
       "      <td>115</td>\n",
       "      <td>0.000000</td>\n",
       "      <td>0</td>\n",
       "      <td>0.00</td>\n",
       "      <td>0.0</td>\n",
       "      <td>0</td>\n",
       "      <td>0.00</td>\n",
       "      <td>0</td>\n",
       "      <td>0</td>\n",
       "    </tr>\n",
       "    <tr>\n",
       "      <th>4</th>\n",
       "      <td>UCT113H_contig000235</td>\n",
       "      <td>UCT113H_contig000235</td>\n",
       "      <td>112</td>\n",
       "      <td>URI36H_contig000040</td>\n",
       "      <td>URI36H_contig000040</td>\n",
       "      <td>382</td>\n",
       "      <td>0.000000</td>\n",
       "      <td>0</td>\n",
       "      <td>0.00</td>\n",
       "      <td>0.0</td>\n",
       "      <td>0</td>\n",
       "      <td>0.00</td>\n",
       "      <td>0</td>\n",
       "      <td>0</td>\n",
       "    </tr>\n",
       "  </tbody>\n",
       "</table>\n",
       "</div>"
      ],
      "text/plain": [
       "           assembly1_id               asm1_id  asm1_len          assembly2_id  \\\n",
       "0  URI112H_contig000064  URI112H_contig000064       215  URI102H_contig000022   \n",
       "1  URI112H_contig000004  URI112H_contig000004     44674  URI117H_contig000149   \n",
       "2  URI101H_contig000024  URI101H_contig000024       807  UCT109H_contig000020   \n",
       "3  URI117H_contig000009  URI117H_contig000009     23545   URI46H_contig000092   \n",
       "4  UCT113H_contig000235  UCT113H_contig000235       112   URI36H_contig000040   \n",
       "\n",
       "                asm2_id  asm2_len   asm1_cov  asm1_total_homology  \\\n",
       "0  URI102H_contig000022       874   0.000000                    0   \n",
       "1  URI117H_contig000149       126   0.000000                    0   \n",
       "2  UCT109H_contig000020       807  99.876084                  806   \n",
       "3   URI46H_contig000092       115   0.000000                    0   \n",
       "4   URI36H_contig000040       382   0.000000                    0   \n",
       "\n",
       "   asm1_identities  asm2_cov  asm2_total_homology  asm2_identities  \\\n",
       "0             0.00       0.0                    0             0.00   \n",
       "1             0.00       0.0                    0             0.00   \n",
       "2             8.06     100.0                  807             8.08   \n",
       "3             0.00       0.0                    0             0.00   \n",
       "4             0.00       0.0                    0             0.00   \n",
       "\n",
       "   asm1_genes  asm2_genes  \n",
       "0           0           0  \n",
       "1           0           0  \n",
       "2           0           2  \n",
       "3           0           0  \n",
       "4           0           0  "
      ]
     },
     "execution_count": 4,
     "metadata": {},
     "output_type": "execute_result"
    }
   ],
   "source": [
    "detailed_df.head()"
   ]
  },
  {
   "cell_type": "code",
   "execution_count": 7,
   "id": "fdf79382-f9f7-4669-97a3-33ab0f0a8220",
   "metadata": {},
   "outputs": [],
   "source": [
    "result = detailed_df.loc[(detailed_df['asm1_total_homology'] == 0) & (detailed_df['asm2_total_homology'] == 0), ['asm1_id', 'asm2_id', 'asm1_total_homology', 'asm2_total_homology']]"
   ]
  },
  {
   "cell_type": "code",
   "execution_count": 12,
   "id": "45659380-4e4c-4703-8c64-61d5bcb3f455",
   "metadata": {},
   "outputs": [
    {
     "name": "stdout",
     "output_type": "stream",
     "text": [
      "2942\n",
      "2942\n"
     ]
    }
   ],
   "source": [
    "print(len(result['asm1_id'].unique()))\n",
    "print(len(result['asm2_id'].unique()))"
   ]
  },
  {
   "cell_type": "code",
   "execution_count": 14,
   "id": "05289733-e2a6-400f-8476-f479b11d833d",
   "metadata": {},
   "outputs": [
    {
     "data": {
      "text/plain": [
       "505122"
      ]
     },
     "execution_count": 14,
     "metadata": {},
     "output_type": "execute_result"
    }
   ],
   "source": [
    "len(detailed_df) - len(result)"
   ]
  },
  {
   "cell_type": "code",
   "execution_count": null,
   "id": "dfa26b11-427e-4eae-b0ce-2a54768af81b",
   "metadata": {},
   "outputs": [],
   "source": []
  }
 ],
 "metadata": {
  "kernelspec": {
   "display_name": "Python 3 (ipykernel)",
   "language": "python",
   "name": "python3"
  },
  "language_info": {
   "codemirror_mode": {
    "name": "ipython",
    "version": 3
   },
   "file_extension": ".py",
   "mimetype": "text/x-python",
   "name": "python",
   "nbconvert_exporter": "python",
   "pygments_lexer": "ipython3",
   "version": "3.12.2"
  }
 },
 "nbformat": 4,
 "nbformat_minor": 5
}
