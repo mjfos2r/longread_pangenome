{
 "cells": [
  {
   "cell_type": "code",
   "execution_count": 84,
   "id": "469eb1e4-081f-45a6-b6bf-1b9ce2342889",
   "metadata": {},
   "outputs": [],
   "source": [
    "from Bio import SeqIO, GenBank\n",
    "from collections import defaultdict"
   ]
  },
  {
   "cell_type": "code",
   "execution_count": 85,
   "id": "73a5f73d-3888-40a4-9dc8-cb1f286fee0f",
   "metadata": {},
   "outputs": [],
   "source": [
    "dirty_genbank = 'GCF_000008685.2.gbff'\n",
    "clean_genbank = f'renamed_{dirty_genbank}'"
   ]
  },
  {
   "cell_type": "code",
   "execution_count": 86,
   "id": "58818949-5910-4e2d-a872-8714b4bd4277",
   "metadata": {
    "scrolled": true
   },
   "outputs": [
    {
     "name": "stdout",
     "output_type": "stream",
     "text": [
      "AE000783.1 AE000783 chromosome\n",
      "features: 1579\n",
      "AE001583.1 AE001583 lp5\n",
      "features: 13\n",
      "AE000791.1 AE000791 cp9\n",
      "features: 19\n",
      "AE000793.2 AE000793 lp17\n",
      "features: 34\n",
      "AE001582.2 AE001582 lp21\n",
      "features: 22\n",
      "AE000785.1 AE000785 lp25\n",
      "features: 26\n",
      "AE000792.1 AE000792 cp26\n",
      "features: 51\n",
      "AE000794.2 AE000794 lp28-1\n",
      "features: 50\n",
      "AE000786.1 AE000786 lp28-2\n",
      "features: 63\n",
      "AE000784.1 AE000784 lp28-3\n",
      "features: 48\n",
      "AE000789.1 AE000789 lp28-4\n",
      "features: 45\n",
      "AE001575.1 AE001575 cp32-1\n",
      "features: 84\n",
      "AE001576.1 AE001576 cp32-3\n",
      "features: 82\n",
      "AE001577.1 AE001577 cp32-4\n",
      "features: 83\n",
      "AE001578.1 AE001578 cp32-6\n",
      "features: 82\n",
      "AE001579.1 AE001579 cp32-7\n",
      "features: 83\n",
      "AE001580.1 AE001580 cp32-8\n",
      "features: 83\n",
      "AE001581.1 AE001581 cp32-9\n",
      "features: 75\n",
      "AE000788.1 AE000788 lp36\n",
      "features: 66\n",
      "AE000787.1 AE000787 lp38\n",
      "features: 65\n",
      "AE000790.2 AE000790 lp54\n",
      "features: 120\n",
      "AE001584.1 AE001584 lp56\n",
      "features: 119\n"
     ]
    }
   ],
   "source": [
    "records = []\n",
    "rename_dict_gb = defaultdict(dict)\n",
    "for record in SeqIO.parse(dirty_genbank, 'genbank'):\n",
    "    rec_id = record.id\n",
    "    rec_name = record.name\n",
    "    description = record.description\n",
    "    plasmid_name = description.split(',')[0].split(' ')[-1]\n",
    "    if rec_id == 'AE000783.1':\n",
    "        plasmid_name = 'chromosome'\n",
    "    print(rec_id,rec_name,plasmid_name)\n",
    "    rename_dict_gb[rec_name] = plasmid_name\n",
    "    # now that we have that dict.\n",
    "    records.append(record)\n",
    "    print(f'features: {len(record.features)}')"
   ]
  },
  {
   "cell_type": "code",
   "execution_count": 89,
   "id": "d1cca839-d614-408f-aa45-ed7c88b2323a",
   "metadata": {
    "scrolled": true
   },
   "outputs": [
    {
     "data": {
      "text/plain": [
       "[SeqRecord(seq=Seq('TAAATATAATTTAATAGTATAAAAAAAATTAAATCAAATTAATAATAGTTTAAA...TAT'), id='chromosome', name='chromosome', description='Borrelia burgdorferi B31, complete genome', dbxrefs=['BioProject:PRJNA3', 'BioSample:SAMN02603966']),\n",
       " SeqRecord(seq=Seq('GGAGTATTTTGACTCAAAACTTTACCCTTTAAATTACTAAATTTAACTTGAAAA...AAA'), id='lp5', name='lp5', description='Borrelia burgdorferi B31 plasmid lp5, complete sequence', dbxrefs=['BioProject:PRJNA3', 'BioSample:SAMN02603966']),\n",
       " SeqRecord(seq=Seq('TAGGCTATGTTAAAACTATAATCAATTTATATTTATATAATCTTGTAGCTTGAA...GTA'), id='cp9', name='cp9', description='Borrelia burgdorferi B31 plasmid cp9, complete sequence', dbxrefs=['BioProject:PRJNA3', 'BioSample:SAMN02603966']),\n",
       " SeqRecord(seq=Seq('GACTCAAAACTTTACCCTTTAAATTGCTAACTTTAACTTGAAAATACTAAACTT...TAA'), id='lp17', name='lp17', description='Borrelia burgdorferi B31 plasmid lp17, complete sequence', dbxrefs=['BioProject:PRJNA3', 'BioSample:SAMN02603966']),\n",
       " SeqRecord(seq=Seq('ACTCAAAACTTTACCCTTTAAATTGCTAAATTTAACTTGAAAATACTAAACTTT...TTT'), id='lp21', name='lp21', description='Borrelia burgdorferi B31 plasmid lp21, complete sequence', dbxrefs=['BioProject:PRJNA3', 'BioSample:SAMN02603966']),\n",
       " SeqRecord(seq=Seq('CCGGCAACATGAACTATAGCCTAAAAATCTAAAAGACTAACTTGAATTTTCTAA...TTT'), id='lp25', name='lp25', description='Borrelia burgdorferi B31 plasmid lp25, complete sequence', dbxrefs=['BioProject:PRJNA3', 'BioSample:SAMN02603966']),\n",
       " SeqRecord(seq=Seq('TTTAAAACTTTTCTATTGGATAGATTTTATACAAAGAAGGTAATAATGTATAAA...AAT'), id='cp26', name='cp26', description='Borrelia burgdorferi B31 plasmid cp26, complete sequence', dbxrefs=['BioProject:PRJNA3', 'BioSample:SAMN02603966']),\n",
       " SeqRecord(seq=Seq('AGCTCCAATGAGCTTACATCTACTATTACAAATTTAATTTCAAATTTTTTTAAT...ATA'), id='lp28-1', name='lp28-1', description='Borrelia burgdorferi B31 plasmid lp28-1, complete sequence', dbxrefs=['BioProject:PRJNA3', 'BioSample:SAMN02603966']),\n",
       " SeqRecord(seq=Seq('AAAAATATTTTTATTTATATTTTATTGTAATTATTCTTAAATGATATATAATAT...CCG'), id='lp28-2', name='lp28-2', description='Borrelia burgdorferi B31 plasmid lp28-2, complete sequence', dbxrefs=['BioProject:PRJNA3', 'BioSample:SAMN02603966']),\n",
       " SeqRecord(seq=Seq('CGAGTATTTTGACTCAAAACTTTACCCTTTAAATTGCTAACTTTAACTTGAAAA...TAC'), id='lp28-3', name='lp28-3', description='Borrelia burgdorferi B31 plasmid lp28-3, complete sequence', dbxrefs=['BioProject:PRJNA3', 'BioSample:SAMN02603966']),\n",
       " SeqRecord(seq=Seq('TTACCCTTTAAATTACTAAATTTAACTTGAAAATACTAAACTTTAACCCAAAAT...GTC'), id='lp28-4', name='lp28-4', description='Borrelia burgdorferi B31 plasmid lp28-4, complete sequence', dbxrefs=['BioProject:PRJNA3', 'BioSample:SAMN02603966']),\n",
       " SeqRecord(seq=Seq('ATTTTATTGACAAAAATATTAGTTTTTGCTATCATACATCTAATTTAATAAAGA...TAA'), id='cp32-1', name='cp32-1', description='Borrelia burgdorferi B31 plasmid cp32-1, complete sequence', dbxrefs=['BioProject:PRJNA3', 'BioSample:SAMN02603966']),\n",
       " SeqRecord(seq=Seq('ATTTTATTGACAAAAATATTAGTTTTTGCTATCATGCATCTAATTTAATAAAGA...TAA'), id='cp32-3', name='cp32-3', description='Borrelia burgdorferi B31 plasmid cp32-3, complete sequence', dbxrefs=['BioProject:PRJNA3', 'BioSample:SAMN02603966']),\n",
       " SeqRecord(seq=Seq('ATTTTATTGACAAAAATATTAGTTTTTGCTATCATGCATCTAATTTAATAAAGA...TAA'), id='cp32-4', name='cp32-4', description='Borrelia burgdorferi B31 plasmid cp32-4, complete sequence', dbxrefs=['BioProject:PRJNA3', 'BioSample:SAMN02603966']),\n",
       " SeqRecord(seq=Seq('ATTTTATTGACAAAAATATTAGTTTTTGCTATCATACATCTAATTTAATAAAGA...TAA'), id='cp32-6', name='cp32-6', description='Borrelia burgdorferi B31 plasmid cp32-6, complete sequence', dbxrefs=['BioProject:PRJNA3', 'BioSample:SAMN02603966']),\n",
       " SeqRecord(seq=Seq('ATTTTATTGACAAAAATAATAGTTTTTGCTATCATACATCTAATTTAATAAAGA...TAA'), id='cp32-7', name='cp32-7', description='Borrelia burgdorferi B31 plasmid cp32-7, complete sequence', dbxrefs=['BioProject:PRJNA3', 'BioSample:SAMN02603966']),\n",
       " SeqRecord(seq=Seq('ATTTTATTGACAAAAATATTAGTTTTTGCTATCATACATCTAATTTAATAAAGA...TAA'), id='cp32-8', name='cp32-8', description='Borrelia burgdorferi B31 plasmid cp32-8, complete sequence', dbxrefs=['BioProject:PRJNA3', 'BioSample:SAMN02603966']),\n",
       " SeqRecord(seq=Seq('ATTTTATTGACAAAAATATTAGTTTTTGCTATCATACATCTAATTTAATAAAGA...TAA'), id='cp32-9', name='cp32-9', description='Borrelia burgdorferi B31 plasmid cp32-9, complete sequence', dbxrefs=['BioProject:PRJNA3', 'BioSample:SAMN02603966']),\n",
       " SeqRecord(seq=Seq('AACTACTAATTTATATAATCTTTTCACTTAACATTTTGTTATACAAAAATCTTA...CTG'), id='lp36', name='lp36', description='Borrelia burgdorferi B31 plasmid lp36, complete sequence', dbxrefs=['BioProject:PRJNA3', 'BioSample:SAMN02603966']),\n",
       " SeqRecord(seq=Seq('GTATAAAAAGCAAAAGAAAAACATCTTCCTTCACAGAATAGTTGCCCAAATCCA...TCT'), id='lp38', name='lp38', description='Borrelia burgdorferi B31 plasmid lp38, complete sequence', dbxrefs=['BioProject:PRJNA3', 'BioSample:SAMN02603966']),\n",
       " SeqRecord(seq=Seq('AAGATAATTTATTAGTATACTAATAAATTATCTTCTAGAATTAAAGAATATTAA...GTA'), id='lp54', name='lp54', description='Borrelia burgdorferi B31 plasmid lp54, complete sequence', dbxrefs=['BioProject:PRJNA3', 'BioSample:SAMN02603966']),\n",
       " SeqRecord(seq=Seq('CAACTTCAGTTTATATTATCAAACGATAAATAAAACATTAAGTACAATAACCCA...AAG'), id='lp56', name='lp56', description='Borrelia burgdorferi B31 plasmid lp56, complete sequence', dbxrefs=['BioProject:PRJNA3', 'BioSample:SAMN02603966'])]"
      ]
     },
     "execution_count": 89,
     "metadata": {},
     "output_type": "execute_result"
    }
   ],
   "source": [
    "records"
   ]
  },
  {
   "cell_type": "code",
   "execution_count": 88,
   "id": "583d3b22-d252-424e-ac79-68e085163ada",
   "metadata": {},
   "outputs": [],
   "source": [
    "for record in records:\n",
    "    new_name = rename_dict_gb[record.name]\n",
    "    record.name = new_name\n",
    "    record.id = new_name"
   ]
  },
  {
   "cell_type": "code",
   "execution_count": 90,
   "id": "d5c51ab1-3e16-4ac4-8451-2bb18a6f0e48",
   "metadata": {},
   "outputs": [],
   "source": [
    "with open(clean_genbank, 'w') as out_file:\n",
    "    SeqIO.write(records, out_file, 'genbank')"
   ]
  },
  {
   "cell_type": "code",
   "execution_count": null,
   "id": "877f14e0-4ed4-4376-9bfb-4f52be8e7308",
   "metadata": {},
   "outputs": [],
   "source": []
  }
 ],
 "metadata": {
  "kernelspec": {
   "display_name": "Python 3 (ipykernel)",
   "language": "python",
   "name": "python3"
  },
  "language_info": {
   "codemirror_mode": {
    "name": "ipython",
    "version": 3
   },
   "file_extension": ".py",
   "mimetype": "text/x-python",
   "name": "python",
   "nbconvert_exporter": "python",
   "pygments_lexer": "ipython3",
   "version": "3.11.10"
  }
 },
 "nbformat": 4,
 "nbformat_minor": 5
}
