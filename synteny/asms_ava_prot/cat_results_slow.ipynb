{
 "cells": [
  {
   "cell_type": "code",
   "execution_count": 8,
   "id": "82352d21-697c-45ec-aedf-c3e904ef3d58",
   "metadata": {},
   "outputs": [],
   "source": [
    "import os\n",
    "\n",
    "def concatenate_files(input_directory, output_file):\n",
    "    with open(output_file, 'w') as outfile:\n",
    "        for root, dirs, files in os.walk(input_directory):\n",
    "            for filename in files:\n",
    "                if filename == 'align_coords.tsv':\n",
    "                    filepath = os.path.join(root, filename)\n",
    "                    try:\n",
    "                        with open(filepath, 'r') as infile:\n",
    "                            lines = infile.readlines()\n",
    "                            if len(lines) > 1:  # Check if file has more than one line\n",
    "                                outfile.writelines(lines[1:])\n",
    "                                outfile.write('\\n')\n",
    "                            else:\n",
    "                                pass\n",
    "                    except Exception as e:\n",
    "                        print(f\"Error processing {filepath}: {str(e)}\")"
   ]
  },
  {
   "cell_type": "code",
   "execution_count": 10,
   "id": "ef07f974-bfe0-4ee6-b6ec-de799607a495",
   "metadata": {},
   "outputs": [
    {
     "name": "stdout",
     "output_type": "stream",
     "text": [
      "All valid files in /mnt/disks/results-1/asms_ava_prot_v1/synteny/ have been concatenated into all_aln_coords.tsv\n"
     ]
    }
   ],
   "source": [
    "# Example usage\n",
    "input_dir = '/mnt/disks/results-1/asms_ava_prot_v1/synteny/'\n",
    "output_file = 'all_aln_coords.tsv'\n",
    "\n",
    "concatenate_files(input_dir, output_file)\n",
    "print(f\"All valid files in {input_dir} have been concatenated into {output_file}\")"
   ]
  },
  {
   "cell_type": "code",
   "execution_count": null,
   "id": "88b391e1-5dec-491c-99cd-5eaf8f214d0c",
   "metadata": {},
   "outputs": [],
   "source": []
  }
 ],
 "metadata": {
  "kernelspec": {
   "display_name": "Python 3 (ipykernel)",
   "language": "python",
   "name": "python3"
  },
  "language_info": {
   "codemirror_mode": {
    "name": "ipython",
    "version": 3
   },
   "file_extension": ".py",
   "mimetype": "text/x-python",
   "name": "python",
   "nbconvert_exporter": "python",
   "pygments_lexer": "ipython3",
   "version": "3.12.2"
  }
 },
 "nbformat": 4,
 "nbformat_minor": 5
}
