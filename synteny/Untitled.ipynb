{
 "cells": [
  {
   "cell_type": "code",
   "execution_count": 1,
   "id": "4b0ba1fe-24e4-4adb-835b-3f0ec353154b",
   "metadata": {},
   "outputs": [],
   "source": [
    "import os\n",
    "import glob"
   ]
  },
  {
   "cell_type": "code",
   "execution_count": 2,
   "id": "6e9b0b3f-59f2-4623-a72a-8f8a64fef111",
   "metadata": {},
   "outputs": [],
   "source": [
    "num_alns = glob.glob('/mnt/disks/results-1/asms_ava_prot_v1/*/aln_coords.tsv')"
   ]
  },
  {
   "cell_type": "code",
   "execution_count": 3,
   "id": "1095f434-6bf8-42da-9719-37d1aa9f26a7",
   "metadata": {},
   "outputs": [
    {
     "name": "stdout",
     "output_type": "stream",
     "text": [
      "0\n"
     ]
    }
   ],
   "source": [
    "print(len(num_alns))"
   ]
  },
  {
   "cell_type": "code",
   "execution_count": null,
   "id": "7750594b-ee03-41b0-b360-b80e74bb6da8",
   "metadata": {},
   "outputs": [],
   "source": []
  }
 ],
 "metadata": {
  "kernelspec": {
   "display_name": "Python 3 (ipykernel)",
   "language": "python",
   "name": "python3"
  },
  "language_info": {
   "codemirror_mode": {
    "name": "ipython",
    "version": 3
   },
   "file_extension": ".py",
   "mimetype": "text/x-python",
   "name": "python",
   "nbconvert_exporter": "python",
   "pygments_lexer": "ipython3",
   "version": "3.12.2"
  }
 },
 "nbformat": 4,
 "nbformat_minor": 5
}
