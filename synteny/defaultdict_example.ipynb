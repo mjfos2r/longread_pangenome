{
 "cells": [
  {
   "cell_type": "code",
   "execution_count": 42,
   "id": "b4a595cb-4f5f-42ed-a29d-5448f7b8ea03",
   "metadata": {},
   "outputs": [],
   "source": [
    "from collections import defaultdict\n",
    "import pprint"
   ]
  },
  {
   "cell_type": "code",
   "execution_count": 34,
   "id": "d1bba3a9-917f-41fb-8f64-745c8c691c51",
   "metadata": {},
   "outputs": [],
   "source": [
    "names = [\"Emma\", \"Liam\", \"Olivia\", \"Noah\", \"Ava\"]\n",
    "numbers = [[42, 17, 89, 3, 56],[42, 17, 89, 3, 56],[42, 17, 89, 3, 56],[42, 17, 89, 3, 56],[42, 17, 89, 3, 56]]\n",
    "#numbers = [42, 17, 89, 3, 56]"
   ]
  },
  {
   "cell_type": "code",
   "execution_count": 53,
   "id": "3518af29-93b6-4f13-9a98-73f29eea828a",
   "metadata": {},
   "outputs": [
    {
     "ename": "KeyError",
     "evalue": "'Emma'",
     "output_type": "error",
     "traceback": [
      "\u001b[0;31m---------------------------------------------------------------------------\u001b[0m",
      "\u001b[0;31mKeyError\u001b[0m                                  Traceback (most recent call last)",
      "Cell \u001b[0;32mIn[53], line 8\u001b[0m\n\u001b[1;32m      6\u001b[0m \u001b[38;5;28;01mfor\u001b[39;00m idx, name \u001b[38;5;129;01min\u001b[39;00m \u001b[38;5;28menumerate\u001b[39m(names):\n\u001b[1;32m      7\u001b[0m     \u001b[38;5;28;01mfor\u001b[39;00m number \u001b[38;5;129;01min\u001b[39;00m numbers[idx]:\n\u001b[0;32m----> 8\u001b[0m         \u001b[43mplaindict\u001b[49m\u001b[43m[\u001b[49m\u001b[43mname\u001b[49m\u001b[43m]\u001b[49m\u001b[38;5;241m.\u001b[39mappend(number)\n\u001b[1;32m     10\u001b[0m \u001b[38;5;28;01mfor\u001b[39;00m idx, name \u001b[38;5;129;01min\u001b[39;00m \u001b[38;5;28menumerate\u001b[39m(names):\n\u001b[1;32m     11\u001b[0m     \u001b[38;5;28;01mfor\u001b[39;00m number \u001b[38;5;129;01min\u001b[39;00m numbers[idx]:\n",
      "\u001b[0;31mKeyError\u001b[0m: 'Emma'"
     ]
    }
   ],
   "source": [
    "plaindict = {}\n",
    "defdict = defaultdict()\n",
    "listdict = defaultdict(list)\n",
    "dictdict = defaultdict(dict)\n",
    "\n",
    "for idx, name in enumerate(names):\n",
    "    for number in numbers[idx]:\n",
    "        plaindict[name].append(number)\n",
    "        \n",
    "for idx, name in enumerate(names):\n",
    "    for number in numbers[idx]:\n",
    "        defdict[name].append(number)\n",
    "        \n",
    "for idx, name in enumerate(names):\n",
    "    for number in numbers[idx]:\n",
    "        listdict[name].append(number)\n",
    "        \n",
    "for idx, name in enumerate(names):\n",
    "    for number in numbers[idx]:\n",
    "        dictdict[name].append(number)"
   ]
  },
  {
   "cell_type": "code",
   "execution_count": 48,
   "id": "71d78ce2-1954-4423-afdd-bf7485f8cf81",
   "metadata": {},
   "outputs": [
    {
     "name": "stdout",
     "output_type": "stream",
     "text": [
      "{'Ava': [42, 17, 89, 3, 56],\n",
      " 'Emma': [42, 17, 89, 3, 56],\n",
      " 'Liam': [42, 17, 89, 3, 56],\n",
      " 'Noah': [42, 17, 89, 3, 56],\n",
      " 'Olivia': [42, 17, 89, 3, 56]}\n"
     ]
    }
   ],
   "source": [
    "# plain dictionary, need to check for key, then manually add key and set to list, then can use append.\n",
    "plaindict = {} \n",
    "\n",
    "for idx, name in enumerate(names):\n",
    "    if name not in plaindict:\n",
    "        plaindict[name] = []\n",
    "    \n",
    "    for number in numbers[idx]:\n",
    "        plaindict[name].append(number)\n",
    "\n",
    "pprint.pprint(plaindict)"
   ]
  },
  {
   "cell_type": "code",
   "execution_count": 49,
   "id": "a20dce00-db65-487b-8804-3027525f29f4",
   "metadata": {},
   "outputs": [
    {
     "name": "stdout",
     "output_type": "stream",
     "text": [
      "defaultdict(None,\n",
      "            {'Ava': [42, 17, 89, 3, 56],\n",
      "             'Emma': [42, 17, 89, 3, 56],\n",
      "             'Liam': [42, 17, 89, 3, 56],\n",
      "             'Noah': [42, 17, 89, 3, 56],\n",
      "             'Olivia': [42, 17, 89, 3, 56]})\n"
     ]
    }
   ],
   "source": [
    "# base default dictionary, do not need to check for key and manually add, but do need to set to list before appending to it.\n",
    "defdict = defaultdict()\n",
    "\n",
    "for idx, name in enumerate(names):\n",
    "    defdict[name] = []\n",
    "    for number in numbers[idx]:\n",
    "        defdict[name].append(number)\n",
    "\n",
    "pprint.pprint(defdict)"
   ]
  },
  {
   "cell_type": "code",
   "execution_count": 50,
   "id": "dbf5935d-2349-4c41-8ee7-79102f30c3f3",
   "metadata": {},
   "outputs": [
    {
     "name": "stdout",
     "output_type": "stream",
     "text": [
      "defaultdict(<class 'list'>,\n",
      "            {'Ava': [42, 17, 89, 3, 56, 42, 17, 89, 3, 56],\n",
      "             'Emma': [42, 17, 89, 3, 56, 42, 17, 89, 3, 56],\n",
      "             'Liam': [42, 17, 89, 3, 56, 42, 17, 89, 3, 56],\n",
      "             'Noah': [42, 17, 89, 3, 56, 42, 17, 89, 3, 56],\n",
      "             'Olivia': [42, 17, 89, 3, 56, 42, 17, 89, 3, 56]})\n"
     ]
    }
   ],
   "source": [
    "# list default dictionary. do not have to check for key or manually add/set to list, just simply call append.\n",
    "listdict = defaultdict(list)\n",
    "\n",
    "for idx, name in enumerate(names):\n",
    "    for number in numbers[idx]:\n",
    "        listdict[name].append(number)\n",
    "\n",
    "pprint.pprint(listdict)"
   ]
  },
  {
   "cell_type": "code",
   "execution_count": 52,
   "id": "ae0bb132-1ecb-4b73-a72c-f2256828b78d",
   "metadata": {},
   "outputs": [
    {
     "name": "stdout",
     "output_type": "stream",
     "text": [
      "defaultdict(<class 'dict'>,\n",
      "            {'Ava': {0: 42, 1: 17, 2: 89, 3: 3, 4: 56},\n",
      "             'Emma': {0: 42, 1: 17, 2: 89, 3: 3, 4: 56},\n",
      "             'Liam': {0: 42, 1: 17, 2: 89, 3: 3, 4: 56},\n",
      "             'Noah': {0: 42, 1: 17, 2: 89, 3: 3, 4: 56},\n",
      "             'Olivia': {0: 42, 1: 17, 2: 89, 3: 3, 4: 56}})\n"
     ]
    }
   ],
   "source": [
    "# dictionary type default dictionary, this wouldn't be a good use for what I'm trying to do but for posterity here's that. \n",
    "# outer key is name, inner key is the index within the numbers list set to the value at that index.\n",
    "dictdict = defaultdict(dict)\n",
    "\n",
    "for idx, name in enumerate(names):\n",
    "    for idx2, number in enumerate(numbers[idx]):\n",
    "        # bad in this example, not necessarily bad in other situations.\n",
    "        dictdict[name][idx2] = number\n",
    "        # OR CREATE A KEY TO USE AS A LIST\n",
    "        dictdict[name]['list'] = []\n",
    "        dictdict[name]['list'].append(number)\n",
    "\n",
    "pprint.pprint(dictdict)"
   ]
  },
  {
   "cell_type": "code",
   "execution_count": null,
   "id": "99291333-5ba6-42b5-8f60-553364cdfc9d",
   "metadata": {},
   "outputs": [],
   "source": []
  }
 ],
 "metadata": {
  "kernelspec": {
   "display_name": "Python 3 (ipykernel)",
   "language": "python",
   "name": "python3"
  },
  "language_info": {
   "codemirror_mode": {
    "name": "ipython",
    "version": 3
   },
   "file_extension": ".py",
   "mimetype": "text/x-python",
   "name": "python",
   "nbconvert_exporter": "python",
   "pygments_lexer": "ipython3",
   "version": "3.12.2"
  }
 },
 "nbformat": 4,
 "nbformat_minor": 5
}
