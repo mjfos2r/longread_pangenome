{
 "cells": [
  {
   "cell_type": "code",
   "execution_count": 10,
   "id": "12882a3e-def5-499b-a73d-89f01c1d1f0b",
   "metadata": {},
   "outputs": [],
   "source": [
    "import pandas\n",
    "import pickle"
   ]
  },
  {
   "cell_type": "code",
   "execution_count": 29,
   "id": "74f9d9cf-48b5-4984-97ff-b144f163d447",
   "metadata": {},
   "outputs": [],
   "source": [
    "detailed_results = '/mnt/disks/big-results/parsed_homology_out/ava_homo_detailed.tsv'\n",
    "simple_results = '/mnt/disks/big-results/parsed_homology_out/ava_homo_simple.tsv'"
   ]
  },
  {
   "cell_type": "code",
   "execution_count": 30,
   "id": "8f02cd03-1ed7-4550-a205-079a7ce94079",
   "metadata": {},
   "outputs": [],
   "source": [
    "detailed_df = pandas.read_csv(open(detailed_results, 'r'), sep='\\t')"
   ]
  },
  {
   "cell_type": "code",
   "execution_count": 31,
   "id": "8be74e41-de34-4d61-9713-eabcbfd786d6",
   "metadata": {},
   "outputs": [
    {
     "data": {
      "text/html": [
       "<div>\n",
       "<style scoped>\n",
       "    .dataframe tbody tr th:only-of-type {\n",
       "        vertical-align: middle;\n",
       "    }\n",
       "\n",
       "    .dataframe tbody tr th {\n",
       "        vertical-align: top;\n",
       "    }\n",
       "\n",
       "    .dataframe thead th {\n",
       "        text-align: right;\n",
       "    }\n",
       "</style>\n",
       "<table border=\"1\" class=\"dataframe\">\n",
       "  <thead>\n",
       "    <tr style=\"text-align: right;\">\n",
       "      <th></th>\n",
       "      <th>assembly1_id</th>\n",
       "      <th>asm1_id</th>\n",
       "      <th>asm1_len</th>\n",
       "      <th>assembly2_id</th>\n",
       "      <th>asm2_id</th>\n",
       "      <th>asm2_len</th>\n",
       "      <th>asm1_cov</th>\n",
       "      <th>asm1_len_homology</th>\n",
       "      <th>asm2_cov</th>\n",
       "      <th>asm2_len_homology</th>\n",
       "      <th>asm1_genes</th>\n",
       "      <th>asm2_genes</th>\n",
       "    </tr>\n",
       "  </thead>\n",
       "  <tbody>\n",
       "    <tr>\n",
       "      <th>0</th>\n",
       "      <td>URI44H_contig000020</td>\n",
       "      <td>contig000020</td>\n",
       "      <td>2745</td>\n",
       "      <td>UCT50H_contig000067</td>\n",
       "      <td>contig000067</td>\n",
       "      <td>188</td>\n",
       "      <td>6.85</td>\n",
       "      <td>-13944.92</td>\n",
       "      <td>87.77</td>\n",
       "      <td>15900.61</td>\n",
       "      <td>1</td>\n",
       "      <td>1</td>\n",
       "    </tr>\n",
       "    <tr>\n",
       "      <th>1</th>\n",
       "      <td>URI40H_contig000013</td>\n",
       "      <td>contig000013</td>\n",
       "      <td>29740</td>\n",
       "      <td>URI44H_contig000068</td>\n",
       "      <td>contig000068</td>\n",
       "      <td>130</td>\n",
       "      <td>0.44</td>\n",
       "      <td>13000.00</td>\n",
       "      <td>100.77</td>\n",
       "      <td>13000.00</td>\n",
       "      <td>1</td>\n",
       "      <td>1</td>\n",
       "    </tr>\n",
       "    <tr>\n",
       "      <th>2</th>\n",
       "      <td>URI87H_contig000013</td>\n",
       "      <td>contig000013</td>\n",
       "      <td>29841</td>\n",
       "      <td>URI117H_contig000140</td>\n",
       "      <td>contig000140</td>\n",
       "      <td>153</td>\n",
       "      <td>0.51</td>\n",
       "      <td>-14901.00</td>\n",
       "      <td>98.69</td>\n",
       "      <td>15099.68</td>\n",
       "      <td>1</td>\n",
       "      <td>1</td>\n",
       "    </tr>\n",
       "    <tr>\n",
       "      <th>3</th>\n",
       "      <td>UNY208P_MR641_cp32-5</td>\n",
       "      <td>MR641_cp32-5</td>\n",
       "      <td>30635</td>\n",
       "      <td>URI42H_contig000057</td>\n",
       "      <td>contig000057</td>\n",
       "      <td>172</td>\n",
       "      <td>0.56</td>\n",
       "      <td>17200.00</td>\n",
       "      <td>100.58</td>\n",
       "      <td>17200.00</td>\n",
       "      <td>1</td>\n",
       "      <td>1</td>\n",
       "    </tr>\n",
       "    <tr>\n",
       "      <th>4</th>\n",
       "      <td>URI118H_contig000052</td>\n",
       "      <td>contig000052</td>\n",
       "      <td>380</td>\n",
       "      <td>UNY193P_B477_cp32-6</td>\n",
       "      <td>B477_cp32-6</td>\n",
       "      <td>30692</td>\n",
       "      <td>100.26</td>\n",
       "      <td>-37002.42</td>\n",
       "      <td>1.23</td>\n",
       "      <td>37198.20</td>\n",
       "      <td>1</td>\n",
       "      <td>1</td>\n",
       "    </tr>\n",
       "  </tbody>\n",
       "</table>\n",
       "</div>"
      ],
      "text/plain": [
       "           assembly1_id       asm1_id  asm1_len          assembly2_id  \\\n",
       "0   URI44H_contig000020  contig000020      2745   UCT50H_contig000067   \n",
       "1   URI40H_contig000013  contig000013     29740   URI44H_contig000068   \n",
       "2   URI87H_contig000013  contig000013     29841  URI117H_contig000140   \n",
       "3  UNY208P_MR641_cp32-5  MR641_cp32-5     30635   URI42H_contig000057   \n",
       "4  URI118H_contig000052  contig000052       380   UNY193P_B477_cp32-6   \n",
       "\n",
       "        asm2_id  asm2_len  asm1_cov  asm1_len_homology  asm2_cov  \\\n",
       "0  contig000067       188      6.85          -13944.92     87.77   \n",
       "1  contig000068       130      0.44           13000.00    100.77   \n",
       "2  contig000140       153      0.51          -14901.00     98.69   \n",
       "3  contig000057       172      0.56           17200.00    100.58   \n",
       "4   B477_cp32-6     30692    100.26          -37002.42      1.23   \n",
       "\n",
       "   asm2_len_homology  asm1_genes  asm2_genes  \n",
       "0           15900.61           1           1  \n",
       "1           13000.00           1           1  \n",
       "2           15099.68           1           1  \n",
       "3           17200.00           1           1  \n",
       "4           37198.20           1           1  "
      ]
     },
     "execution_count": 31,
     "metadata": {},
     "output_type": "execute_result"
    }
   ],
   "source": [
    "detailed_df.head()"
   ]
  },
  {
   "cell_type": "code",
   "execution_count": 27,
   "id": "bd6e26a9-f4d0-4608-81f3-57daba7c071a",
   "metadata": {},
   "outputs": [],
   "source": []
  },
  {
   "cell_type": "code",
   "execution_count": 28,
   "id": "9322e82e-d8ca-4d7c-b2e5-45e28d5ec33a",
   "metadata": {},
   "outputs": [
    {
     "data": {
      "text/plain": [
       "2886"
      ]
     },
     "execution_count": 28,
     "metadata": {},
     "output_type": "execute_result"
    }
   ],
   "source": []
  },
  {
   "cell_type": "code",
   "execution_count": null,
   "id": "83089615-38de-4a03-8442-cb49e6ecd633",
   "metadata": {},
   "outputs": [],
   "source": []
  }
 ],
 "metadata": {
  "kernelspec": {
   "display_name": "Python 3 (ipykernel)",
   "language": "python",
   "name": "python3"
  },
  "language_info": {
   "codemirror_mode": {
    "name": "ipython",
    "version": 3
   },
   "file_extension": ".py",
   "mimetype": "text/x-python",
   "name": "python",
   "nbconvert_exporter": "python",
   "pygments_lexer": "ipython3",
   "version": "3.12.2"
  }
 },
 "nbformat": 4,
 "nbformat_minor": 5
}
