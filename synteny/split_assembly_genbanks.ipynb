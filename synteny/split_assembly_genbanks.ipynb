{
 "cells": [
  {
   "cell_type": "code",
   "execution_count": 12,
   "id": "e17ff4f6-e2ab-429e-80a2-f8149ff99979",
   "metadata": {},
   "outputs": [],
   "source": [
    "import os\n",
    "import glob\n",
    "from Bio import SeqIO\n",
    "from pathlib import Path"
   ]
  },
  {
   "cell_type": "code",
   "execution_count": 20,
   "id": "49f2caae-a506-40c2-9026-62e08e332c7e",
   "metadata": {},
   "outputs": [],
   "source": [
    "def split_genbank(genbank_file, output_dir):\n",
    "    file_name = Path(genbank_file).stem\n",
    "    records = list(record for record in SeqIO.parse(open(genbank_file, 'r'), 'genbank'))\n",
    "    record_ids = [record.id for record in records]\n",
    "    num_records = len(record_ids)\n",
    "    for record in records:\n",
    "        record_id = record.id\n",
    "        outfile_path = os.path.join(output_dir, f'{file_name}_{record_id}.gbff')\n",
    "        with open(outfile_path, 'w') as outfile:\n",
    "            SeqIO.write(record, outfile, 'genbank')\n",
    "    return print(f'Split {file_name} into {num_records} individual records in {output_dir}')"
   ]
  },
  {
   "cell_type": "code",
   "execution_count": 17,
   "id": "8e786646-c27f-46d9-bc6d-6e07e563adb9",
   "metadata": {},
   "outputs": [
    {
     "name": "stdout",
     "output_type": "stream",
     "text": [
      "/home/mf019/longread_pangenome/synteny/asm_genbanks\n",
      "created directory!\n"
     ]
    }
   ],
   "source": [
    "cwd = os.getcwd()\n",
    "output_dir = os.path.join(cwd, 'asm_genbanks')\n",
    "print(output_dir)\n",
    "if not os.path.exists(output_dir):\n",
    "    os.makedirs(output_dir)\n",
    "    print('created directory!')\n",
    "\n",
    "assemblies = glob.glob('/home/mf019/borrelia_plasmid_classifier_v3/assemblies/longread/annotation/**/*.gbff', recursive=True)"
   ]
  },
  {
   "cell_type": "code",
   "execution_count": 18,
   "id": "ce1d0ec8-1b8c-4c73-872f-76cc89720619",
   "metadata": {},
   "outputs": [
    {
     "name": "stdout",
     "output_type": "stream",
     "text": [
      "49\n"
     ]
    }
   ],
   "source": [
    "print(len(assemblies))"
   ]
  },
  {
   "cell_type": "code",
   "execution_count": 21,
   "id": "30546007-3ca8-439b-80a6-630d08556edf",
   "metadata": {},
   "outputs": [
    {
     "name": "stdout",
     "output_type": "stream",
     "text": [
      "Split URI87H into 66 individual records in /home/mf019/longread_pangenome/synteny/asm_genbanks\n",
      "Split URI34H into 79 individual records in /home/mf019/longread_pangenome/synteny/asm_genbanks\n",
      "Split URI88H into 33 individual records in /home/mf019/longread_pangenome/synteny/asm_genbanks\n",
      "Split URI33H into 44 individual records in /home/mf019/longread_pangenome/synteny/asm_genbanks\n",
      "Split UCT110H into 114 individual records in /home/mf019/longread_pangenome/synteny/asm_genbanks\n",
      "Split URI39H into 28 individual records in /home/mf019/longread_pangenome/synteny/asm_genbanks\n",
      "Split URI91H into 26 individual records in /home/mf019/longread_pangenome/synteny/asm_genbanks\n",
      "Split UCT35H into 33 individual records in /home/mf019/longread_pangenome/synteny/asm_genbanks\n",
      "Split UWI247P into 17 individual records in /home/mf019/longread_pangenome/synteny/asm_genbanks\n",
      "Split URI120H into 105 individual records in /home/mf019/longread_pangenome/synteny/asm_genbanks\n",
      "Split URI107H into 49 individual records in /home/mf019/longread_pangenome/synteny/asm_genbanks\n",
      "Split UWI263P into 19 individual records in /home/mf019/longread_pangenome/synteny/asm_genbanks\n",
      "Split URI89H into 85 individual records in /home/mf019/longread_pangenome/synteny/asm_genbanks\n",
      "Split URI42H into 74 individual records in /home/mf019/longread_pangenome/synteny/asm_genbanks\n",
      "Split URI44H into 75 individual records in /home/mf019/longread_pangenome/synteny/asm_genbanks\n",
      "Split UCT109H into 28 individual records in /home/mf019/longread_pangenome/synteny/asm_genbanks\n",
      "Split URI40H into 82 individual records in /home/mf019/longread_pangenome/synteny/asm_genbanks\n",
      "Split URI117H into 160 individual records in /home/mf019/longread_pangenome/synteny/asm_genbanks\n",
      "Split URI47H into 29 individual records in /home/mf019/longread_pangenome/synteny/asm_genbanks\n",
      "Split URI86H into 88 individual records in /home/mf019/longread_pangenome/synteny/asm_genbanks\n",
      "Split URI36H into 53 individual records in /home/mf019/longread_pangenome/synteny/asm_genbanks\n",
      "Split UNY208P into 19 individual records in /home/mf019/longread_pangenome/synteny/asm_genbanks\n",
      "Split ESI26H into 64 individual records in /home/mf019/longread_pangenome/synteny/asm_genbanks\n",
      "Split UCT31H into 32 individual records in /home/mf019/longread_pangenome/synteny/asm_genbanks\n",
      "Split URI56H into 230 individual records in /home/mf019/longread_pangenome/synteny/asm_genbanks\n",
      "Split UCT30H into 89 individual records in /home/mf019/longread_pangenome/synteny/asm_genbanks\n",
      "Split URI103H into 56 individual records in /home/mf019/longread_pangenome/synteny/asm_genbanks\n",
      "Split UCT29H into 24 individual records in /home/mf019/longread_pangenome/synteny/asm_genbanks\n",
      "Split URI112H into 85 individual records in /home/mf019/longread_pangenome/synteny/asm_genbanks\n",
      "Split UWI248P into 18 individual records in /home/mf019/longread_pangenome/synteny/asm_genbanks\n",
      "Split UNY203P into 17 individual records in /home/mf019/longread_pangenome/synteny/asm_genbanks\n",
      "Split UCT96H into 35 individual records in /home/mf019/longread_pangenome/synteny/asm_genbanks\n",
      "Split UCT32H into 57 individual records in /home/mf019/longread_pangenome/synteny/asm_genbanks\n",
      "Split UNY193P into 19 individual records in /home/mf019/longread_pangenome/synteny/asm_genbanks\n",
      "Split UCT113H into 253 individual records in /home/mf019/longread_pangenome/synteny/asm_genbanks\n",
      "Split URI93H into 29 individual records in /home/mf019/longread_pangenome/synteny/asm_genbanks\n",
      "Split UNY169P into 17 individual records in /home/mf019/longread_pangenome/synteny/asm_genbanks\n",
      "Split UWI283P into 16 individual records in /home/mf019/longread_pangenome/synteny/asm_genbanks\n",
      "Split URI102H into 44 individual records in /home/mf019/longread_pangenome/synteny/asm_genbanks\n",
      "Split URI41H into 84 individual records in /home/mf019/longread_pangenome/synteny/asm_genbanks\n",
      "Split UNY172P into 16 individual records in /home/mf019/longread_pangenome/synteny/asm_genbanks\n",
      "Split UNY149P into 19 individual records in /home/mf019/longread_pangenome/synteny/asm_genbanks\n",
      "Split UCT92H into 62 individual records in /home/mf019/longread_pangenome/synteny/asm_genbanks\n",
      "Split URI118H into 109 individual records in /home/mf019/longread_pangenome/synteny/asm_genbanks\n",
      "Split UCT50H into 90 individual records in /home/mf019/longread_pangenome/synteny/asm_genbanks\n",
      "Split URI101H into 32 individual records in /home/mf019/longread_pangenome/synteny/asm_genbanks\n",
      "Split URI46H into 95 individual records in /home/mf019/longread_pangenome/synteny/asm_genbanks\n",
      "Split URI48H into 22 individual records in /home/mf019/longread_pangenome/synteny/asm_genbanks\n",
      "Split URI111H into 23 individual records in /home/mf019/longread_pangenome/synteny/asm_genbanks\n"
     ]
    }
   ],
   "source": [
    "for assembly in assemblies:\n",
    "    split_genbank(assembly, output_dir) "
   ]
  },
  {
   "cell_type": "code",
   "execution_count": null,
   "id": "55d00b97-9f23-4787-ac29-4ef18478051c",
   "metadata": {},
   "outputs": [],
   "source": []
  },
  {
   "cell_type": "code",
   "execution_count": null,
   "id": "35296529-ef4d-4736-8485-77bb0794a543",
   "metadata": {},
   "outputs": [],
   "source": []
  }
 ],
 "metadata": {
  "kernelspec": {
   "display_name": "Python 3 (ipykernel)",
   "language": "python",
   "name": "python3"
  },
  "language_info": {
   "codemirror_mode": {
    "name": "ipython",
    "version": 3
   },
   "file_extension": ".py",
   "mimetype": "text/x-python",
   "name": "python",
   "nbconvert_exporter": "python",
   "pygments_lexer": "ipython3",
   "version": "3.11.10"
  }
 },
 "nbformat": 4,
 "nbformat_minor": 5
}
