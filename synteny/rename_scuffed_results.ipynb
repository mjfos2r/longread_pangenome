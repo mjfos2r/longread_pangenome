{
 "cells": [
  {
   "cell_type": "code",
   "execution_count": 34,
   "id": "5621b0dd-edf3-4b69-bb13-5dd4a81065ac",
   "metadata": {},
   "outputs": [],
   "source": [
    "import os\n",
    "import glob\n",
    "import subprocess"
   ]
  },
  {
   "cell_type": "code",
   "execution_count": 19,
   "id": "631cfe5a-ef06-4507-8ce6-14e115157d6d",
   "metadata": {},
   "outputs": [],
   "source": [
    "path2results = '/mnt/disks/big-results/asms_all_v_all/homology'\n",
    "directories = os.listdir()"
   ]
  },
  {
   "cell_type": "code",
   "execution_count": 11,
   "id": "334e8e5e-1177-48f8-be00-861e8efb2710",
   "metadata": {},
   "outputs": [
    {
     "name": "stdout",
     "output_type": "stream",
     "text": [
      "1080705\n"
     ]
    }
   ],
   "source": [
    "print(len(directories))"
   ]
  },
  {
   "cell_type": "code",
   "execution_count": 13,
   "id": "6c5626a6-a13f-41e7-93d9-bcb3fcf560d0",
   "metadata": {},
   "outputs": [
    {
     "name": "stdout",
     "output_type": "stream",
     "text": [
      "URI112H_contig000030_vs_URI40H_contig000070\n"
     ]
    }
   ],
   "source": [
    "print(directories[1])"
   ]
  },
  {
   "cell_type": "code",
   "execution_count": 41,
   "id": "989bd214-620a-45fb-86b5-056e9e90f086",
   "metadata": {},
   "outputs": [],
   "source": [
    "import shutil"
   ]
  },
  {
   "cell_type": "code",
   "execution_count": 43,
   "id": "8d4ac37a-dd0a-444d-aae2-2691759388c0",
   "metadata": {},
   "outputs": [],
   "source": [
    "path = 'asm_v_b31_subplots'\n",
    "dirs = os.listdir(path)\n",
    "for outer in dirs:\n",
    "    old_path = os.path.join(path, outer, outer)\n",
    "    os.rmdir(old_path)\n",
    "    #html_path = os.path.join(old_path, 'html')\n",
    "    #png_path = os.path.join(old_path, 'png')\n",
    "    #new_h_path = os.path.join(path, outer, 'html')\n",
    "    #new_p_path = os.path.join(path, outer, 'png')\n",
    "    #shutil.move(f'{html_path}/', f'{new_h_path}/')\n",
    "    #shutil.move(f'{png_path}/', f'{new_p_path}/')"
   ]
  },
  {
   "cell_type": "code",
   "execution_count": 35,
   "id": "0c519825-6029-4e4c-a0f7-2382db5b7c2c",
   "metadata": {},
   "outputs": [
    {
     "data": {
      "text/plain": [
       "'/home/mf019/longread_pangenome/synteny'"
      ]
     },
     "execution_count": 35,
     "metadata": {},
     "output_type": "execute_result"
    }
   ],
   "source": [
    "os.getcwd()"
   ]
  },
  {
   "cell_type": "code",
   "execution_count": null,
   "id": "cf9ed0a3-5373-461c-bd2b-1dd1aae795b2",
   "metadata": {},
   "outputs": [],
   "source": []
  }
 ],
 "metadata": {
  "kernelspec": {
   "display_name": "Python 3 (ipykernel)",
   "language": "python",
   "name": "python3"
  },
  "language_info": {
   "codemirror_mode": {
    "name": "ipython",
    "version": 3
   },
   "file_extension": ".py",
   "mimetype": "text/x-python",
   "name": "python",
   "nbconvert_exporter": "python",
   "pygments_lexer": "ipython3",
   "version": "3.12.2"
  }
 },
 "nbformat": 4,
 "nbformat_minor": 5
}
