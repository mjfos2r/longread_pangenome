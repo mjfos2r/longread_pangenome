{
 "cells": [
  {
   "cell_type": "code",
   "execution_count": 68,
   "id": "84048a94-fb91-4b21-88c8-5053134b4f03",
   "metadata": {},
   "outputs": [],
   "source": [
    "import plotly\n",
    "from Bio import SeqIO\n",
    "import numpy as np\n",
    "import subprocess\n",
    "import plotly.graph_objects as go\n",
    "import pandas as pd"
   ]
  },
  {
   "cell_type": "code",
   "execution_count": 181,
   "id": "be91c4b9-e6bb-4bbf-8c40-23d3384b1e10",
   "metadata": {},
   "outputs": [],
   "source": [
    "def get_command(seq1, seq2):\n",
    "    # Use temporary files for delta and filtered delta\n",
    "    return f\"nucmer --maxmatch -nosimplify {seq1} {seq2}\"\n",
    "\n",
    "def run_command(cmd):\n",
    "    try:\n",
    "        print(f'Running MUMmer with command: {cmd}')\n",
    "        result = subprocess.run(cmd, shell=True, check=True, text=True, capture_output=True)\n",
    "        print('Success!')\n",
    "        return result\n",
    "    except subprocess.CalledProcessError as e:\n",
    "        print(f'Error running command: {e}')\n",
    "        print(f'Command output (stdout): {e.stdout}')\n",
    "        print(f'Command error (stderr): {e.stderr}')\n",
    "        return None\n",
    "\n",
    "def parse_delta(delta_content):\n",
    "    alignments = []\n",
    "    current_ref = \"\"\n",
    "    current_query = \"\"\n",
    "    for line in delta_content.strip().split('\\n'):\n",
    "        if line.startswith('>'):\n",
    "            parts = line.split()\n",
    "            current_ref = parts[0][1:]\n",
    "            current_query = parts[1]\n",
    "            ref_len = int(parts[2])\n",
    "            query_len = int(parts[3])\n",
    "        elif line[0].isdigit():\n",
    "            parts = line.split()\n",
    "            if len(parts) == 7:\n",
    "                ref_start, ref_end = int(parts[0]), int(parts[1])\n",
    "                query_start, query_end = int(parts[2]), int(parts[3])\n",
    "                alignments.append({\n",
    "                    'ref_name': current_ref,\n",
    "                    'query_name': current_query,\n",
    "                    'ref_start': ref_start,\n",
    "                    'ref_end': ref_end,\n",
    "                    'query_start': query_start,\n",
    "                    'query_end': query_end,\n",
    "                    'ref_len': ref_len,\n",
    "                    'query_len': query_len\n",
    "                })\n",
    "    return pd.DataFrame(alignments)\n",
    "\n",
    "def calculate_offsets(df):\n",
    "    ref_lengths = df.groupby('ref_name')['ref_len'].first()\n",
    "    query_lengths = df.groupby('query_name')['query_len'].first()\n",
    "\n",
    "    ref_cum_lengths = ref_lengths.cumsum()\n",
    "    query_cum_lengths = query_lengths.cumsum()\n",
    "\n",
    "    ref_offsets = {name: ref_cum_lengths[name] - length for name, length in ref_lengths.items()}\n",
    "    query_offsets = {name: query_cum_lengths[name] - length for name, length in query_lengths.items()}\n",
    "\n",
    "    return ref_offsets, query_offsets, ref_cum_lengths, query_cum_lengths\n",
    "\n",
    "def create_dotplot(df, output_file='mummer_style_dotplot.html'):\n",
    "    ref_offsets, query_offsets, ref_cum_lengths, query_cum_lengths = calculate_offsets(df)\n",
    "\n",
    "    fig = go.Figure()\n",
    "\n",
    "    for _, row in df.iterrows():\n",
    "        ref_offset = ref_offsets[row['ref_name']]\n",
    "        query_offset = query_offsets[row['query_name']]\n",
    "        \n",
    "        x_start = query_offset + row['query_start']\n",
    "        x_end = query_offset + row['query_end']\n",
    "        y_start = ref_offset + row['ref_start']\n",
    "        y_end = ref_offset + row['ref_end']\n",
    "\n",
    "        color = 'red' if row['query_end'] >= row['query_start'] else 'blue'\n",
    "\n",
    "        fig.add_trace(go.Scatter(\n",
    "            x=[x_start, x_end],\n",
    "            y=[y_start, y_end],\n",
    "            mode='lines',\n",
    "            line=dict(color=color, width=1),\n",
    "            showlegend=False\n",
    "        ))\n",
    "\n",
    "    fig.update_layout(\n",
    "        title='MUMmer-style Dotplot',\n",
    "        xaxis_title='Query Sequence',\n",
    "        yaxis_title='Reference Sequence',\n",
    "        width=800,\n",
    "        height=800,\n",
    "        xaxis=dict(\n",
    "            range=[0, query_cum_lengths.max()],\n",
    "            tickmode='array',\n",
    "            tickvals=list(query_cum_lengths),\n",
    "            ticktext=list(query_cum_lengths.index),\n",
    "            tickangle=45\n",
    "        ),\n",
    "        yaxis=dict(\n",
    "            range=[0, ref_cum_lengths.max()],\n",
    "            tickmode='array',\n",
    "            tickvals=list(ref_cum_lengths),\n",
    "            ticktext=list(ref_cum_lengths.index),\n",
    "            scaleanchor='x',\n",
    "            scaleratio=1\n",
    "        )\n",
    "    )\n",
    "\n",
    "    fig.write_html(output_file)\n",
    "    print(f\"MUMmer-style dotplot saved as {output_file}\")"
   ]
  },
  {
   "cell_type": "code",
   "execution_count": 164,
   "id": "f3b4c36d-12b4-4404-8a21-072cc74d3c9b",
   "metadata": {},
   "outputs": [],
   "source": [
    "seq1 = \"/home/mf019/borrelia_plasmid_classifier_v3/assemblies/URI88H.fasta\"\n",
    "cmd = get_command(seq1, seq1)"
   ]
  },
  {
   "cell_type": "code",
   "execution_count": 168,
   "id": "6ed9978a-e906-4ed9-9e71-7c078574c8ac",
   "metadata": {},
   "outputs": [
    {
     "name": "stdout",
     "output_type": "stream",
     "text": [
      "Running MUMmer with command: nucmer --maxmatch -nosimplify /home/mf019/borrelia_plasmid_classifier_v3/assemblies/URI88H.fasta /home/mf019/borrelia_plasmid_classifier_v3/assemblies/URI88H.fasta\n",
      "Success!\n"
     ]
    },
    {
     "data": {
      "text/plain": [
       "CompletedProcess(args='nucmer --maxmatch -nosimplify /home/mf019/borrelia_plasmid_classifier_v3/assemblies/URI88H.fasta /home/mf019/borrelia_plasmid_classifier_v3/assemblies/URI88H.fasta', returncode=0, stdout='', stderr='1: PREPARING DATA\\n2,3: RUNNING mummer AND CREATING CLUSTERS\\n# reading input file \"out.ntref\" of length 1540635\\n# construct suffix tree for sequence of length 1540635\\n# (maximum reference length is 2305843009213693948)\\n# (maximum query length is 18446744073709551615)\\n# process 15406 characters per dot\\n#....................................................................................................\\n# CONSTRUCTIONTIME /home/mf019/miniconda3/opt/mummer-3.23/mummer out.ntref 0.69\\n# reading input file \"/home/mf019/borrelia_plasmid_classifier_v3/assemblies/URI88H.fasta\" of length 1540634\\n# matching query-file \"/home/mf019/borrelia_plasmid_classifier_v3/assemblies/URI88H.fasta\"\\n# against subject-file \"out.ntref\"\\n# COMPLETETIME /home/mf019/miniconda3/opt/mummer-3.23/mummer out.ntref 2.21\\n# SPACE /home/mf019/miniconda3/opt/mummer-3.23/mummer out.ntref 2.99\\n4: FINISHING DATA\\n')"
      ]
     },
     "execution_count": 168,
     "metadata": {},
     "output_type": "execute_result"
    }
   ],
   "source": [
    "run_command(cmd)"
   ]
  },
  {
   "cell_type": "code",
   "execution_count": 182,
   "id": "40a0c321-8b49-4c9a-881b-2d51f48d235d",
   "metadata": {},
   "outputs": [],
   "source": [
    "with open('out.delta', 'r') as infile:\n",
    "    delta_content = infile.read()\n",
    "    df = parse_delta(delta_content)"
   ]
  },
  {
   "cell_type": "code",
   "execution_count": 183,
   "id": "b3c341ff-368d-45b9-84ec-c6c96628f8ca",
   "metadata": {},
   "outputs": [
    {
     "name": "stdout",
     "output_type": "stream",
     "text": [
      "          ref_name    query_name  ref_start  ref_end  query_start  query_end  \\\n",
      "0     contig000001  contig000001          1   906672            1     906672   \n",
      "1     contig000001  contig000001     206151   206234       206246     206325   \n",
      "2     contig000001  contig000001     206246   206325       206151     206234   \n",
      "3     contig000001  contig000001     213015   213810       213501     214297   \n",
      "4     contig000001  contig000001     213016   213324       213988     214297   \n",
      "...            ...           ...        ...      ...          ...        ...   \n",
      "2099  contig000021  contig000032       3040     3168          129          1   \n",
      "2100  contig000033  contig000033          1      123            1        123   \n",
      "2101  contig000029  contig000033          1      113           11        123   \n",
      "2102  contig000005  contig000033      28282    28403          122          1   \n",
      "2103  contig000021  contig000033       1475     1574          100          1   \n",
      "\n",
      "      ref_len  query_len  \n",
      "0      906672     906672  \n",
      "1      906672     906672  \n",
      "2      906672     906672  \n",
      "3      906672     906672  \n",
      "4      906672     906672  \n",
      "...       ...        ...  \n",
      "2099     3168        129  \n",
      "2100      123        123  \n",
      "2101      156        123  \n",
      "2102    53592        123  \n",
      "2103     3168        123  \n",
      "\n",
      "[2104 rows x 8 columns]\n"
     ]
    }
   ],
   "source": [
    "print(df)"
   ]
  },
  {
   "cell_type": "code",
   "execution_count": 184,
   "id": "d45a47a1-adf0-46d0-b415-ee016a493282",
   "metadata": {},
   "outputs": [
    {
     "name": "stdout",
     "output_type": "stream",
     "text": [
      "MUMmer-style dotplot saved as mummer_style_dotplot.html\n"
     ]
    }
   ],
   "source": [
    "create_dotplot(df)"
   ]
  },
  {
   "cell_type": "code",
   "execution_count": null,
   "id": "0d457346-6145-4182-99d9-8a8d560ff15d",
   "metadata": {},
   "outputs": [],
   "source": []
  }
 ],
 "metadata": {
  "kernelspec": {
   "display_name": "Python 3 (ipykernel)",
   "language": "python",
   "name": "python3"
  },
  "language_info": {
   "codemirror_mode": {
    "name": "ipython",
    "version": 3
   },
   "file_extension": ".py",
   "mimetype": "text/x-python",
   "name": "python",
   "nbconvert_exporter": "python",
   "pygments_lexer": "ipython3",
   "version": "3.12.2"
  }
 },
 "nbformat": 4,
 "nbformat_minor": 5
}
