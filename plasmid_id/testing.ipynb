{
 "cells": [
  {
   "cell_type": "code",
   "execution_count": 5,
   "metadata": {},
   "outputs": [],
   "source": [
    "from pathlib import Path\n",
    "file = 'hello/path/to/my/file.ext'\n",
    "file2 = 'hello/path/to/my/dir/'\n"
   ]
  },
  {
   "cell_type": "code",
   "execution_count": 6,
   "metadata": {},
   "outputs": [
    {
     "name": "stdout",
     "output_type": "stream",
     "text": [
      "file\n",
      ".ext\n",
      "\n"
     ]
    }
   ],
   "source": [
    "print(Path(file).stem)\n",
    "print(Path(file).suffix)"
   ]
  },
  {
   "cell_type": "code",
   "execution_count": 11,
   "metadata": {},
   "outputs": [
    {
     "name": "stdout",
     "output_type": "stream",
     "text": [
      "has ext\n"
     ]
    }
   ],
   "source": [
    "if Path(file).suffix:\n",
    "    print(\"has ext\")\n",
    "else:\n",
    "    print(\"no ext!\")"
   ]
  },
  {
   "cell_type": "code",
   "execution_count": 6,
   "metadata": {},
   "outputs": [],
   "source": [
    "command = f'blastn -query {file} -task \"blastn\" -db whole_plasmid_db -out wp_output_file -evalue 1e-100 -num_threads 60 -outfmt 5 -max_target_seqs 5 -max_hsps 10'"
   ]
  },
  {
   "cell_type": "code",
   "execution_count": 7,
   "metadata": {},
   "outputs": [
    {
     "data": {
      "text/plain": [
       "['blastn',\n",
       " '-query',\n",
       " 'hello/path/to/my/file.ext',\n",
       " '-task',\n",
       " '\"blastn\"',\n",
       " '-db',\n",
       " 'whole_plasmid_db',\n",
       " '-out',\n",
       " 'wp_output_file',\n",
       " '-evalue',\n",
       " '1e-100',\n",
       " '-num_threads',\n",
       " '60',\n",
       " '-outfmt',\n",
       " '5',\n",
       " '-max_target_seqs',\n",
       " '5',\n",
       " '-max_hsps',\n",
       " '10']"
      ]
     },
     "execution_count": 7,
     "metadata": {},
     "output_type": "execute_result"
    }
   ],
   "source": [
    "for i in command.split(' '):"
   ]
  },
  {
   "cell_type": "code",
   "execution_count": 7,
   "metadata": {},
   "outputs": [],
   "source": [
    "from pygenomeviz import GenomeViz\n",
    "\n",
    "gv = GenomeViz()\n",
    "gv.set_scale_bar(ymargin=0.5)\n",
    "\n",
    "track = gv.add_feature_track(f\"{contig} vs {ref}\", (0, {contig_len+1}))\n",
    "track.add_sublabel()\n",
    "\n",
    "track.add_feature(1050, 1150, 1, label=\"arrow\")\n",
    "track.add_feature(1200, 1300, -1, plotstyle=\"bigarrow\", label=\"bigarrow\", fc=\"red\", lw=1)\n",
    "track.add_feature(1330, 1400, 1, plotstyle=\"bigbox\", label=\"bigbox\", fc=\"blue\", text_kws=dict(rotation=0, hpos=\"center\"))\n",
    "track.add_feature(1420, 1500, 1, plotstyle=\"box\", label=\"box\", fc=\"limegreen\", text_kws=dict(size=10, color=\"blue\"))\n",
    "track.add_feature(1550, 1600, 1, plotstyle=\"bigrbox\", label=\"bigrbox\", fc=\"magenta\", ec=\"blue\", lw=1, text_kws=dict(rotation=0, vpos=\"bottom\", hpos=\"center\"))\n",
    "track.add_feature(1650, 1750, -1, plotstyle=\"rbox\", label=\"rbox\", fc=\"grey\", text_kws=dict(rotation=-45, vpos=\"bottom\"))\n",
    "track.add_feature(1780, 1880, 1, fc=\"lime\", hatch=\"o\", arrow_shaft_ratio=0.2, label=\"arrow shaft\\n0.2\", text_kws=dict(rotation=0, hpos=\"center\"))\n",
    "track.add_feature(1890, 1990, 1, fc=\"lime\", hatch=\"/\", arrow_shaft_ratio=1.0, label=\"arrow shaft\\n1.0\", text_kws=dict(rotation=0, hpos=\"center\"))\n",
    "\n",
    "gv.savefig(\"styled_features.png\")"
   ]
  },
  {
   "cell_type": "code",
   "execution_count": 8,
   "metadata": {},
   "outputs": [
    {
     "data": {
      "text/plain": [
       "<pygenomeviz.genomeviz.GenomeViz at 0x12a5abe90>"
      ]
     },
     "execution_count": 8,
     "metadata": {},
     "output_type": "execute_result"
    }
   ],
   "source": [
    "gv"
   ]
  },
  {
   "cell_type": "code",
   "execution_count": 9,
   "metadata": {},
   "outputs": [
    {
     "ename": "TypeError",
     "evalue": "merge() missing 2 required positional arguments: 'left' and 'right'",
     "output_type": "error",
     "traceback": [
      "\u001b[0;31m---------------------------------------------------------------------------\u001b[0m",
      "\u001b[0;31mTypeError\u001b[0m                                 Traceback (most recent call last)",
      "Cell \u001b[0;32mIn[9], line 2\u001b[0m\n\u001b[1;32m      1\u001b[0m \u001b[38;5;28;01mimport\u001b[39;00m \u001b[38;5;21;01mpandas\u001b[39;00m\n\u001b[0;32m----> 2\u001b[0m \u001b[43mpandas\u001b[49m\u001b[38;5;241;43m.\u001b[39;49m\u001b[43mmerge\u001b[49m\u001b[43m(\u001b[49m\u001b[43m)\u001b[49m \n",
      "\u001b[0;31mTypeError\u001b[0m: merge() missing 2 required positional arguments: 'left' and 'right'"
     ]
    }
   ],
   "source": [
    "import pandas\n",
    "pandas.merge()"
   ]
  },
  {
   "cell_type": "code",
   "execution_count": null,
   "metadata": {},
   "outputs": [],
   "source": []
  }
 ],
 "metadata": {
  "kernelspec": {
   "display_name": "Python 3",
   "language": "python",
   "name": "python3"
  },
  "language_info": {
   "codemirror_mode": {
    "name": "ipython",
    "version": 3
   },
   "file_extension": ".py",
   "mimetype": "text/x-python",
   "name": "python",
   "nbconvert_exporter": "python",
   "pygments_lexer": "ipython3",
   "version": "3.11.7"
  }
 },
 "nbformat": 4,
 "nbformat_minor": 2
}
