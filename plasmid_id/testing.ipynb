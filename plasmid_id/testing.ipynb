{
 "cells": [
  {
   "cell_type": "code",
   "execution_count": 1,
   "metadata": {},
   "outputs": [],
   "source": [
    "from pathlib import Path\n",
    "file = 'hello/path/to/my/file.ext'"
   ]
  },
  {
   "cell_type": "code",
   "execution_count": 2,
   "metadata": {},
   "outputs": [
    {
     "data": {
      "text/plain": [
       "'file'"
      ]
     },
     "execution_count": 2,
     "metadata": {},
     "output_type": "execute_result"
    }
   ],
   "source": [
    "Path(file).stem"
   ]
  },
  {
   "cell_type": "code",
   "execution_count": 6,
   "metadata": {},
   "outputs": [],
   "source": [
    "command = f'blastn -query {file} -task \"blastn\" -db whole_plasmid_db -out wp_output_file -evalue 1e-100 -num_threads 60 -outfmt 5 -max_target_seqs 5 -max_hsps 10'"
   ]
  },
  {
   "cell_type": "code",
   "execution_count": 7,
   "metadata": {},
   "outputs": [
    {
     "data": {
      "text/plain": [
       "['blastn',\n",
       " '-query',\n",
       " 'hello/path/to/my/file.ext',\n",
       " '-task',\n",
       " '\"blastn\"',\n",
       " '-db',\n",
       " 'whole_plasmid_db',\n",
       " '-out',\n",
       " 'wp_output_file',\n",
       " '-evalue',\n",
       " '1e-100',\n",
       " '-num_threads',\n",
       " '60',\n",
       " '-outfmt',\n",
       " '5',\n",
       " '-max_target_seqs',\n",
       " '5',\n",
       " '-max_hsps',\n",
       " '10']"
      ]
     },
     "execution_count": 7,
     "metadata": {},
     "output_type": "execute_result"
    }
   ],
   "source": [
    "for i in command.split(' '):"
   ]
  },
  {
   "cell_type": "code",
   "execution_count": null,
   "metadata": {},
   "outputs": [],
   "source": []
  }
 ],
 "metadata": {
  "kernelspec": {
   "display_name": "Python 3",
   "language": "python",
   "name": "python3"
  },
  "language_info": {
   "codemirror_mode": {
    "name": "ipython",
    "version": 3
   },
   "file_extension": ".py",
   "mimetype": "text/x-python",
   "name": "python",
   "nbconvert_exporter": "python",
   "pygments_lexer": "ipython3",
   "version": "3.11.7"
  }
 },
 "nbformat": 4,
 "nbformat_minor": 2
}
