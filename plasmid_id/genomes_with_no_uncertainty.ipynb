{
 "cells": [
  {
   "cell_type": "code",
   "execution_count": 1,
   "metadata": {},
   "outputs": [],
   "source": [
    "import pandas"
   ]
  },
  {
   "cell_type": "code",
   "execution_count": 5,
   "metadata": {},
   "outputs": [],
   "source": [
    "# these are plasmid calls that lack uncertainty in the three call methods used.\n",
    "\n",
    "file_all_calls = 'output/plasmid_calls_V7/best_matches_v7_1000bp.tsv'\n",
    "file_discrepants = 'plasmid_presence_matrix_v7_uncertain_2500bp.csv'\n"
   ]
  },
  {
   "cell_type": "code",
   "execution_count": 6,
   "metadata": {},
   "outputs": [],
   "source": [
    "all_calls_df = pandas.read_csv(file_all_calls, delimiter='\\t')\n",
    "all_discrepants = pandas.read_csv(file_discrepants, delimiter=',')\n"
   ]
  },
  {
   "cell_type": "code",
   "execution_count": 16,
   "metadata": {},
   "outputs": [],
   "source": [
    "assemblies = all_calls_df['name'].unique()\n",
    "lr_asms = []\n",
    "for assembly in assemblies:\n",
    "    if assembly.endswith(('H', 'P')):\n",
    "        lr_asms.append(assembly)\n",
    "    else:\n",
    "        pass\n",
    "discrepant_asms = all_discrepants['key'].unique()"
   ]
  },
  {
   "cell_type": "code",
   "execution_count": 19,
   "metadata": {},
   "outputs": [
    {
     "name": "stdout",
     "output_type": "stream",
     "text": [
      "['UCT113H', 'UNY169P']\n"
     ]
    }
   ],
   "source": [
    "missing = list(set(lr_asms) - set(discrepant_asms))\n",
    "print(missing)\n"
   ]
  },
  {
   "cell_type": "code",
   "execution_count": 26,
   "metadata": {},
   "outputs": [
    {
     "name": "stdout",
     "output_type": "stream",
     "text": [
      "Index(['key', 'cp32-1', 'cp32-10', 'cp32-11', 'cp32-12', 'cp32-13', 'cp32-3',\n",
      "       'cp32-4', 'cp32-5', 'cp32-6', 'cp32-7', 'cp32-8', 'cp32-9', 'lp17',\n",
      "       'lp21', 'lp28-1', 'lp28-2', 'lp28-3', 'lp28-4', 'lp28-5', 'lp28-6',\n",
      "       'lp28-7', 'lp38', 'Sum'],\n",
      "      dtype='object')\n",
      "23\n"
     ]
    }
   ],
   "source": [
    "print(all_discrepants.keys())\n"
   ]
  },
  {
   "cell_type": "code",
   "execution_count": 28,
   "metadata": {},
   "outputs": [],
   "source": [
    "new_rows = pandas.DataFrame({\n",
    "    'key': ['UCT113H', 'UNY169P'],\n",
    "    'cp32-1': 0, 'cp32-10': 0, 'cp32-11': 0, 'cp32-12': 0, 'cp32-13': 0, 'cp32-3': 0,\n",
    "       'cp32-4': 0, 'cp32-5': 0, 'cp32-6': 0, 'cp32-7': 0, 'cp32-8': 0, 'cp32-9': 0, 'lp17': 0,\n",
    "       'lp21': 0, 'lp28-1': 0, 'lp28-2': 0, 'lp28-3': 0, 'lp28-4': 0, 'lp28-5': 0, 'lp28-6': 0,\n",
    "       'lp28-7': 0, 'lp38': 0, 'Sum': 0\n",
    "})"
   ]
  },
  {
   "cell_type": "code",
   "execution_count": 29,
   "metadata": {},
   "outputs": [
    {
     "name": "stdout",
     "output_type": "stream",
     "text": [
      "        key  cp32-1  cp32-10  cp32-11  cp32-12  cp32-13  cp32-3  cp32-4  \\\n",
      "0     ESI26       1        1        0        0        0       0       0   \n",
      "1    ESI26H       1        1        0        0        0       0       0   \n",
      "2    UCT109       0        0        0        0        0       0       1   \n",
      "3   UCT109H       0        1        0        0        0       0       1   \n",
      "4   UCT110H       0        0        0        0        0       0       1   \n",
      "..      ...     ...      ...      ...      ...      ...     ...     ...   \n",
      "81  UWI263P       0        1        1        0        0       1       0   \n",
      "82   UWI283       1        0        0        0        0       0       0   \n",
      "83  UWI283P       1        0        0        0        0       0       0   \n",
      "84  UCT113H       0        0        0        0        0       0       0   \n",
      "85  UNY169P       0        0        0        0        0       0       0   \n",
      "\n",
      "    cp32-5  cp32-6  ...  lp21  lp28-1  lp28-2  lp28-3  lp28-4  lp28-5  lp28-6  \\\n",
      "0        0       0  ...     0       0       1       0       0       0       0   \n",
      "1        1       1  ...     0       0       0       0       0       0       0   \n",
      "2        0       0  ...     0       0       0       0       0       0       0   \n",
      "3        1       0  ...     0       0       0       0       0       0       0   \n",
      "4        0       0  ...     0       0       0       0       0       0       0   \n",
      "..     ...     ...  ...   ...     ...     ...     ...     ...     ...     ...   \n",
      "81       1       0  ...     0       0       0       0       0       0       0   \n",
      "82       0       0  ...     0       0       0       0       0       0       0   \n",
      "83       0       0  ...     0       0       0       0       0       0       0   \n",
      "84       0       0  ...     0       0       0       0       0       0       0   \n",
      "85       0       0  ...     0       0       0       0       0       0       0   \n",
      "\n",
      "    lp28-7  lp38  Sum  \n",
      "0        1     0    5  \n",
      "1        0     0    4  \n",
      "2        0     0    2  \n",
      "3        0     0    4  \n",
      "4        0     0    1  \n",
      "..     ...   ...  ...  \n",
      "81       0     0    5  \n",
      "82       0     0    1  \n",
      "83       0     0    1  \n",
      "84       0     0    0  \n",
      "85       0     0    0  \n",
      "\n",
      "[86 rows x 24 columns]\n"
     ]
    }
   ],
   "source": [
    "fixed_discrepancies = pandas.concat([all_discrepants, new_rows], ignore_index=True)\n"
   ]
  },
  {
   "cell_type": "code",
   "execution_count": 32,
   "metadata": {},
   "outputs": [
    {
     "name": "stdout",
     "output_type": "stream",
     "text": [
      "(86, 24)\n"
     ]
    }
   ],
   "source": [
    "\n",
    "print(fixed_discrepancies.shape)"
   ]
  },
  {
   "cell_type": "code",
   "execution_count": 33,
   "metadata": {},
   "outputs": [],
   "source": [
    "fixed_lr_asms = []\n",
    "for assembly in fixed_discrepancies['key']:\n",
    "    if assembly.endswith(('H', 'P')):\n",
    "        fixed_lr_asms.append(assembly)\n",
    "    else:\n",
    "        pass"
   ]
  },
  {
   "cell_type": "code",
   "execution_count": 36,
   "metadata": {},
   "outputs": [
    {
     "name": "stdout",
     "output_type": "stream",
     "text": [
      "49\n"
     ]
    }
   ],
   "source": [
    "print(len(fixed_lr_asms))\n",
    "fixed_discrepancies.to_csv('fixed_plasmid_presence_matrix_v7_uncertain_2500bp.csv')"
   ]
  },
  {
   "cell_type": "code",
   "execution_count": null,
   "metadata": {},
   "outputs": [],
   "source": []
  }
 ],
 "metadata": {
  "kernelspec": {
   "display_name": "Python 3",
   "language": "python",
   "name": "python3"
  },
  "language_info": {
   "codemirror_mode": {
    "name": "ipython",
    "version": 3
   },
   "file_extension": ".py",
   "mimetype": "text/x-python",
   "name": "python",
   "nbconvert_exporter": "python",
   "pygments_lexer": "ipython3",
   "version": "3.11.7"
  }
 },
 "nbformat": 4,
 "nbformat_minor": 2
}
