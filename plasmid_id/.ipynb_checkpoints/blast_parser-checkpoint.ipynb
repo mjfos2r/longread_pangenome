{
 "cells": [
  {
   "cell_type": "code",
   "execution_count": null,
   "metadata": {},
   "outputs": [],
   "source": [
    "import os\n",
    "import glob\n",
    "import tqdm\n",
    "import pickle\n",
    "import pprint\n",
    "from Bio        import SeqIO\n",
    "from Bio        import SeqRecord\n",
    "from Bio.Seq    import Seq\n",
    "from Bio.Blast import NCBIXML\n",
    "from Bio import SearchIO\n",
    "from time import sleep\n",
    "from pathlib import Path"
   ]
  },
  {
   "cell_type": "code",
   "execution_count": null,
   "metadata": {},
   "outputs": [],
   "source": [
    "working_directory = 'plasmid_id_v3' # set the working directory\n",
    "print(\"CWD: \",os.getcwd())\n",
    "assembly_dir = '/Users/mf019/bioinformatics/longread_GWAS/assemblies/nanopore/contigs' # where are the assemblies?\n",
    "blast_out = f'{working_directory}/blast_out' # where to put the blast output\n",
    "output_json = f'{working_directory}/json' # just put the jsons somewhere.\n",
    "ont_blast_out    = f'{working_directory}/{blast_out}/ont'\n",
    "\n",
    "os.makedirs(assembly_dir, exist_ok=True)\n",
    "os.makedirs(blast_out, exist_ok=True)\n",
    "os.makedirs(pacbio_blast_out, exist_ok=True)\n",
    "os.makedirs(hybrid_blast_out, exist_ok=True)\n",
    "os.makedirs(ont_blast_out, exist_ok=True)\n",
    "os.makedirs(output_json, exist_ok=True)"
   ]
  },
  {
   "cell_type": "code",
   "execution_count": null,
   "metadata": {},
   "outputs": [],
   "source": [
    "parsing_dict_file = '/Users/mf019/bioinformatics/longread_GWAS/BbPlasmid/plasmid_seqs/fresh_attempt/output/the_cannery/blast_parsing_dict.pickle'\n",
    "parsing_dict = pickle.load(open(parsing_dict_file,'rb'))\n"
   ]
  },
  {
   "cell_type": "code",
   "execution_count": null,
   "metadata": {},
   "outputs": [],
   "source": [
    "\n",
    "canu_blast_results = glob.glob(canu_blast_out+'*.xml')\n",
    "flye_blast_results = glob.glob(flye_blast_out+'*.xml')\n",
    "pacbio_blast_results = glob.glob(pacbio_blast_out+'*.xml')\n",
    "hybrid_blast_results = glob.glob(hybrid_blast_out+'*.xml')\n",
    "\n",
    "list_of_results = [('canu',canu_blast_results),('flye',flye_blast_results),('pacbio',pacbio_blast_results),('hybrid',hybrid_blast_results)]\n",
    "\n",
    "all_files = {}\n",
    "for list in list_of_results:\n",
    "    #print(list)\n",
    "    all_files[list[0]] = []\n",
    "    for file in list[1]:\n",
    "        #print(file)\n",
    "        all_files[list[0]].append(file)\n",
    "\n",
    "\n"
   ]
  },
  {
   "cell_type": "code",
   "execution_count": null,
   "metadata": {},
   "outputs": [],
   "source": [
    "#print(all_files)\n"
   ]
  },
  {
   "cell_type": "code",
   "execution_count": null,
   "metadata": {},
   "outputs": [],
   "source": [
    "all_hits = {}\n",
    "for method in all_files:\n",
    "    #print(method)\n",
    "    all_hits[method] = {}\n",
    "    method_hits = all_hits[method]\n",
    "    blast_results = all_files[method]\n",
    "    for file in blast_results:\n",
    "        #print(file)\n",
    "        path = Path(file)\n",
    "        suffix = path.suffixes[0]\n",
    "        assembly_id = path.name.split(suffix)[0].replace(\"_\"+method+\"_blast\", \"\")\n",
    "        #print(assembly_id+'\\n')\n",
    "\n",
    "        if assembly_id not in method_hits:\n",
    "            method_hits[assembly_id] = {}\n",
    "\n",
    "        current_sample = method_hits[assembly_id]\n",
    "\n",
    "        res_handle = open(file)\n",
    "        blast_records = NCBIXML.parse(res_handle)\n",
    "        for record in blast_records:\n",
    "            for alignment in record.alignments:\n",
    "                for hsp in alignment.hsps:\n",
    "                    if (hsp.expect == 0 or hsp.expect < 1*10^-100):\n",
    "                        query_length = record.query_length\n",
    "                        contig_id = record.query.split(\" \")[0]\n",
    "                        hit_id = alignment.title.split(\" \")[1]\n",
    "                        alignment_length = alignment.length\n",
    "                        bit_score = hsp.score\n",
    "                        evalue = hsp.expect\n",
    "                        if contig_id not in current_sample:\n",
    "                            current_sample[contig_id] = [{'ID' : hit_id, 'alignment_length' : alignment_length, 'query_length' : query_length, 'bit_score' : bit_score, 'e-value' : evalue}]\n",
    "                        else:\n",
    "                            current_sample[contig_id].append({'ID' : hit_id, 'alignment_length' : alignment_length, 'query_length' : query_length, 'bit_score' : bit_score, 'e-value' : evalue})\n",
    "                        #print(\"****Alignment****\")\n",
    "                        #print(\"Sample: \", assembly_id)\n",
    "                        #print(\"contig ID: \", contig_id)\n",
    "                        #print(\"sequence:\", hit_id)\n",
    "                        #print(\"length:\", alignment.length)\n",
    "                        #print(\"bit score:\",hsp.score)\n",
    "                        #print(\"e value:\", hsp.expect)\n"
   ]
  },
  {
   "cell_type": "markdown",
   "metadata": {},
   "source": []
  },
  {
   "cell_type": "code",
   "execution_count": null,
   "metadata": {},
   "outputs": [],
   "source": [
    "pprint.pprint(parsing_dict)\n"
   ]
  },
  {
   "cell_type": "code",
   "execution_count": null,
   "metadata": {},
   "outputs": [],
   "source": [
    "for method in all_hits:\n",
    "    print(method)\n",
    "    for contig in all_hits[method]:\n",
    "        for hits in all_hits[method][contig]:\n",
    "            print(hits, \"-- number of HSPs: \",len(all_hits[method][contig][hits]))\n",
    "            for HSP in all_hits[method][contig][hits]:\n",
    "                print(\"HSP ID: \", HSP['ID'])\n",
    "                print(\"HSP Name: \", parsing_dict[HSP['ID']]['name'])\n"
   ]
  },
  {
   "cell_type": "code",
   "execution_count": null,
   "metadata": {},
   "outputs": [],
   "source": []
  }
 ],
 "metadata": {
  "kernelspec": {
   "display_name": "Python 3 (ipykernel)",
   "language": "python",
   "name": "python3"
  },
  "language_info": {
   "codemirror_mode": {
    "name": "ipython",
    "version": 3
   },
   "file_extension": ".py",
   "mimetype": "text/x-python",
   "name": "python",
   "nbconvert_exporter": "python",
   "pygments_lexer": "ipython3",
   "version": "3.9.18"
  },
  "orig_nbformat": 4
 },
 "nbformat": 4,
 "nbformat_minor": 2
}
