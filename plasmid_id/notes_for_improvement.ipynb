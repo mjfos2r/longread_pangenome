{
 "cells": [
  {
   "cell_type": "code",
   "execution_count": null,
   "metadata": {},
   "outputs": [],
   "source": [
    "# Notes from Chaconas 2014\n",
    "#\n",
    "# All plasmids apparently have pf57/62 genes\n",
    "# All plasmids EXCEPT lp5 and cp9 have pf32\n",
    "# All plasmids EXCEPT lp5 and lp17 have pf49\n",
    "# All plasmids EXCEPT lp5, lp17 and lp21 have pf50\n"
   ]
  },
  {
   "cell_type": "code",
   "execution_count": null,
   "metadata": {},
   "outputs": [],
   "source": []
  }
 ],
 "metadata": {
  "language_info": {
   "name": "python"
  }
 },
 "nbformat": 4,
 "nbformat_minor": 2
}
