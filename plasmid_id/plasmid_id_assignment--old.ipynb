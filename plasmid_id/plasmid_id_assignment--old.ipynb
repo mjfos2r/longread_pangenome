{
 "cells": [
  {
   "cell_type": "code",
   "execution_count": 9,
   "metadata": {},
   "outputs": [],
   "source": [
    "import glob\n",
    "import csv\n",
    "import pandas\n",
    "import pprint\n",
    "import csv\n",
    "import re"
   ]
  },
  {
   "cell_type": "code",
   "execution_count": 10,
   "metadata": {},
   "outputs": [],
   "source": [
    "working_directory = '/Users/mf019/bioinformatics/blastDB/BbPlasmid'"
   ]
  },
  {
   "cell_type": "code",
   "execution_count": 15,
   "metadata": {},
   "outputs": [
    {
     "name": "stdout",
     "output_type": "stream",
     "text": [
      "725\n",
      "258\n",
      "410\n"
     ]
    }
   ],
   "source": [
    "filenames_with_dupes = glob.glob('files/*.fa')\n",
    "filenames_without_dupes = glob.glob('files_nodupes/*.fa')\n",
    "files_3 = glob.glob('files_3/*.fa')\n",
    "pprint.pprint(len(filenames_with_dupes))\n",
    "pprint.pprint(len(filenames_without_dupes))\n",
    "pprint.pprint(len(files_3))"
   ]
  },
  {
   "cell_type": "code",
   "execution_count": null,
   "metadata": {},
   "outputs": [],
   "source": [
    "\n",
    "plasmid_dict_dupes = {}\n",
    "i = 0\n",
    "with open('ncbiID_to_plasmid.tsv', 'w', newline='') as tsvfile:\n",
    "    writer = csv.writer(tsvfile, delimiter='\\t', lineterminator='\\n')\n",
    "    for filename in filenames_with_dupes:\n",
    "        for line in open(filename):\n",
    "            if line.startswith(\">\"):\n",
    "                header = line.strip(\">\").replace(\",\",\"\")\n",
    "                # regex madness to tidy up the plasmid IDs\n",
    "                pattern = r'.*?([cl]?p\\d+(?:-?_?\\+?\\d+(?:-?_?\\+?\\d+)?)?(?!\\w))' # ok this is a bit tricky but this is what I need.\n",
    "                matches = re.findall(pattern, header)\n",
    "                print(header, 'matches: ',matches)\n",
    "                if matches == []:\n",
    "                    plasmidID = 'chromosome'\n",
    "                else:\n",
    "                    plasmidID = ' '.join(matches)\n",
    "                print(plasmidID, '\\n')\n",
    "                header = header.split(' ')\n",
    "                NCBI_ID = header[0]\n",
    "                if header[3] == 'strain':\n",
    "                    strainID = header[4]\n",
    "                    #plasmidID = header[6]\n",
    "                else:\n",
    "                    if header[3] == header[5]: # some of these fields are wonky\n",
    "                        strainID = header[3]\n",
    "                        #plasmidID = header[6]\n",
    "                    else:\n",
    "                        strainID = header[3]\n",
    "                        #plasmidID = header[5]\n",
    "\n",
    "                if strainID == ('plasmid' or 'strain' or 'isolate' or 'linear' or 'circular'):\n",
    "                    print(\"something is wrong with this line!!!!!!!\")\n",
    "                    print(header)\n",
    "                    print(\"!!!!!\")\n",
    "\n",
    "                writer.writerow([NCBI_ID, strainID, plasmidID])\n",
    "        if strainID not in plasmid_dict_dupes:\n",
    "            plasmid_dict_dupes[strainID] = []\n",
    "            #print(\"making new key\")\n",
    "        plasmid_dict_dupes[strainID].append((NCBI_ID, plasmidID))\n",
    "        #print(\"appending\")\n",
    "        #print(i)\n",
    "        i += 1\n",
    "\n"
   ]
  },
  {
   "cell_type": "code",
   "execution_count": null,
   "metadata": {},
   "outputs": [],
   "source": [
    "print(len(plasmid_dict_dupes))\n",
    "pprint.pprint(plasmid_dict_dupes)\n",
    "#n plasmid_dict_dupes:\n",
    "#    pprint.pprint(key)"
   ]
  },
  {
   "cell_type": "code",
   "execution_count": null,
   "metadata": {},
   "outputs": [],
   "source": [
    "plasmid_dict_nodupes = {}\n",
    "i = 0\n",
    "with open('ncbiID_to_plasmid2.tsv', 'w', newline='') as tsvfile:\n",
    "    writer = csv.writer(tsvfile, delimiter='\\t', lineterminator='\\n')\n",
    "    for filename in filenames_without_dupes:\n",
    "        for line in open(filename):\n",
    "            if line.startswith(\">\"):\n",
    "                header = line.strip(\">\").replace(\",\",\"\")\n",
    "                # regex madness to tidy up the plasmid IDs\n",
    "                pattern = r'.*?([clp]{1,2}\\d+(?:-?_?\\+?\\d+(?:-?_?\\+?\\d+)?)?(?!\\w))' # ok this is a bit tricky but this is what I need.\n",
    "                matches = re.findall(pattern, header)\n",
    "                print(matches)\n",
    "                if matches is None:\n",
    "                    plasmidID = 'chromosome'\n",
    "                else:\n",
    "                    plasmidID = ' '.join(matches)\n",
    "\n",
    "                header = header.split(' ')\n",
    "                NCBI_ID = header[0]\n",
    "                print(header)\n",
    "                if header[3] == 'strain':\n",
    "                    strainID = header[4]\n",
    "                    #plasmidID = header[6]\n",
    "                else:\n",
    "                    if header[3] == header[5]: # some of these fields are wonky\n",
    "                        strainID = header[3]\n",
    "                        #plasmidID = header[6]\n",
    "                    else:\n",
    "                        strainID = header[3]\n",
    "                        #plasmidID = header[5]\n",
    "                if strainID == 'circular':\n",
    "                    print(\"something is wrong with this line!!!!!!!\")\n",
    "                    print(header)\n",
    "                    print(\"!!!!!\")\n",
    "                #print(\"file: \",filename)\n",
    "                #print(\"NCBI ID: \", header[0])\n",
    "                #print(\"strain: \", strainID)\n",
    "                #print(\"plasmid: \",plasmidID)\n",
    "                #print(\"********\")\n",
    "\n",
    "                writer.writerow([NCBI_ID, strainID, plasmidID])\n",
    "        if strainID not in plasmid_dict_nodupes:\n",
    "            plasmid_dict_nodupes[strainID] = []\n",
    "                #print(\"making new key\")\n",
    "        plasmid_dict_nodupes[strainID].append((NCBI_ID, plasmidID))\n",
    "        #print(\"appending\")\n",
    "        #print(i)\n",
    "        i += 1\n",
    "\n"
   ]
  },
  {
   "cell_type": "code",
   "execution_count": null,
   "metadata": {},
   "outputs": [],
   "source": [
    "pprint.pprint(plasmid_dict_nodupes)"
   ]
  },
  {
   "cell_type": "code",
   "execution_count": null,
   "metadata": {},
   "outputs": [],
   "source": [
    "print(len(plasmid_dict_dupes))\n",
    "for key in plasmid_dict_dupes:\n",
    "    pprint.pprint(key)\n",
    "\n",
    "print(len(plasmid_dict_nodupes))\n",
    "for key in plasmid_dict_nodupes:\n",
    "    pprint.pprint(key)"
   ]
  },
  {
   "cell_type": "code",
   "execution_count": null,
   "metadata": {},
   "outputs": [],
   "source": [
    "plasmids = {strain : [{ NCBI_ID : {plasmid : seq}}, plasmid_matrix]}\n",
    "class plasmid:\n",
    "    plasmids_present = {plasmid1: (yes/no), plasmid2: (yes/no), ...}\n",
    "\n",
    "# ok so first I need to get all of the strains set aside in their own little group.\n",
    "# then I need to get all of the plasmids present for each strain in their group\n",
    "# then I need to identify which are present and then set those into the data object\n",
    "# then use that to identify which strain is present based on construction of a new object given strain assignment.\n",
    "\n",
    "# something like\n",
    "\n",
    "for contig1:\n",
    "    top_hit = hit1\n",
    "    top_hit.score = hit1.score\n",
    "    top_hit.ID = hit1.ID\n",
    "    top_hit.length = hit1.length\n",
    "    top_hit.percentIdent = hit1.percentIdent\n",
    "    # or some iteration of this.\n",
    "    # then take and parse out the top hit, or rather\n",
    "    # look through all hits and then parse the ID given by blast to determine which plasmid it says it is.\n",
    "    # then use the score, length, percent ident, etc to assign some score to the hit\n",
    "    # then use all of the scores to assign probability and then use to determine plasmid assignment\n",
    "    # then after that, use all of the plasmid assignment values to determine strain identification\n",
    "    # would likely need a probability matrix for each strain given the plasmids present.........."
   ]
  }
 ],
 "metadata": {
  "kernelspec": {
   "display_name": "Python 3",
   "language": "python",
   "name": "python3"
  },
  "language_info": {
   "codemirror_mode": {
    "name": "ipython",
    "version": 3
   },
   "file_extension": ".py",
   "mimetype": "text/x-python",
   "name": "python",
   "nbconvert_exporter": "python",
   "pygments_lexer": "ipython3",
   "version": "3.11.4"
  },
  "orig_nbformat": 4
 },
 "nbformat": 4,
 "nbformat_minor": 2
}
