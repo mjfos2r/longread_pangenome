{
 "cells": [
  {
   "cell_type": "code",
   "execution_count": 2,
   "metadata": {},
   "outputs": [],
   "source": [
    "from Bio import SeqIO"
   ]
  },
  {
   "cell_type": "code",
   "execution_count": 11,
   "metadata": {},
   "outputs": [],
   "source": [
    "def rename_fasta_headers(input_file, output_file,table_file, prefix):\n",
    "    header_table = {}  # set up dict for header table for old : new mappings\n",
    "    new_header_counter = 1  # init new header number counter\n",
    "    with open(output_file, \"w\") as out_file:\n",
    "        for record in SeqIO.parse(input_file, \"fasta\"): # parse multifasta record by record\n",
    "            old_header = record.id # pull old header\n",
    "            new_header = f\"{prefix}_{new_header_counter}\" # create new header\n",
    "            record.id = new_header # update header\n",
    "            record.description = new_header # update header\n",
    "            SeqIO.write(record, out_file, \"fasta\") # write renamed multifasta\n",
    "            header_table[old_header] = new_header_counter # update renaming table with current record\n",
    "            new_header_counter += 1 # increment counter\n",
    "    with open(table_file, \"w\") as table_file:\n",
    "        for old_header, new_number in header_table.items(): # loop through header table dict\n",
    "            table_file.write(f\"{old_header}\\t{new_number}\\n\") # write tsv\n"
   ]
  },
  {
   "cell_type": "code",
   "execution_count": 13,
   "metadata": {},
   "outputs": [],
   "source": [
    "input_file = \"Minimal-PF32-testor-set-March2021.faa\"\n",
    "output_file = \"pf32_ref_v1_test_set.faa\"\n",
    "table_file = \"pf32_ref_v1_test_set_header_table.tsv\"\n",
    "prefix = \"TEST\"\n",
    "\n",
    "rename_fasta_headers(input_file, output_file, table_file, prefix)\n"
   ]
  },
  {
   "cell_type": "code",
   "execution_count": null,
   "metadata": {},
   "outputs": [],
   "source": []
  }
 ],
 "metadata": {
  "kernelspec": {
   "display_name": "Python 3",
   "language": "python",
   "name": "python3"
  },
  "language_info": {
   "codemirror_mode": {
    "name": "ipython",
    "version": 3
   },
   "file_extension": ".py",
   "mimetype": "text/x-python",
   "name": "python",
   "nbconvert_exporter": "python",
   "pygments_lexer": "ipython3",
   "version": "3.11.7"
  }
 },
 "nbformat": 4,
 "nbformat_minor": 2
}
