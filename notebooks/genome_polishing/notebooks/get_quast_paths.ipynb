{
 "cells": [
  {
   "cell_type": "code",
   "execution_count": 1,
   "metadata": {},
   "outputs": [],
   "source": [
    "import pandas"
   ]
  },
  {
   "cell_type": "code",
   "execution_count": 7,
   "metadata": {},
   "outputs": [],
   "source": [
    "metadata_csv = '/Users/mf019/bioinformatics/longread_pangenome/notebooks/metadata/cleaned_metadata/longread_metadata_v8.csv'\n",
    "quast_path_root = 'gs://lemieux_lab_sequencing_data/longread-paper/reports/quast/illumina/URI47_200'\n",
    "discrepant_calls = '/Users/mf019/bioinformatics/longread_pangenome/plasmid_id/output/plasmid_calls_V7/discrepancies_v7_wp_pf.csv'"
   ]
  },
  {
   "cell_type": "code",
   "execution_count": 8,
   "metadata": {},
   "outputs": [],
   "source": [
    "metadata_df = pandas.read_csv(metadata_csv, header=0, delimiter=',')\n",
    "discrepancies_df = pandas.read_csv(discrepant_calls, header=0, delimiter=',')"
   ]
  },
  {
   "cell_type": "code",
   "execution_count": 10,
   "metadata": {},
   "outputs": [],
   "source": [
    "renaming_dict = dict(zip(metadata_df['Isolate'], metadata_df['Original_Name']))"
   ]
  },
  {
   "cell_type": "code",
   "execution_count": 11,
   "metadata": {},
   "outputs": [],
   "source": [
    "discrepancies_df['original_name'] = discrepancies_df['name'].map(renaming_dict)"
   ]
  },
  {
   "cell_type": "code",
   "execution_count": 13,
   "metadata": {},
   "outputs": [],
   "source": [
    "discrepancies_df.drop(columns=['Unnamed: 0'], inplace=True)"
   ]
  },
  {
   "cell_type": "code",
   "execution_count": 15,
   "metadata": {},
   "outputs": [],
   "source": [
    "discrepancies_df.to_csv('/Users/mf019/bioinformatics/longread_pangenome/plasmid_id/output/plasmid_calls_V7/discrepancies_v7_wp_pf_fixed.csv')"
   ]
  },
  {
   "cell_type": "code",
   "execution_count": null,
   "metadata": {},
   "outputs": [],
   "source": []
  }
 ],
 "metadata": {
  "kernelspec": {
   "display_name": "Python 3",
   "language": "python",
   "name": "python3"
  },
  "language_info": {
   "codemirror_mode": {
    "name": "ipython",
    "version": 3
   },
   "file_extension": ".py",
   "mimetype": "text/x-python",
   "name": "python",
   "nbconvert_exporter": "python",
   "pygments_lexer": "ipython3",
   "version": "3.11.7"
  }
 },
 "nbformat": 4,
 "nbformat_minor": 2
}
