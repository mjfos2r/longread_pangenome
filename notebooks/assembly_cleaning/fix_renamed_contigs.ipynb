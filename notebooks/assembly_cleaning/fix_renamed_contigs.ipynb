{
 "cells": [
  {
   "cell_type": "code",
   "execution_count": null,
   "id": "bbaa0bb8-8167-42f8-a635-1bab79a023ac",
   "metadata": {},
   "outputs": [],
   "source": [
    "import glob"
   ]
  },
  {
   "cell_type": "code",
   "execution_count": null,
   "id": "35a2576d-73a2-4dcf-99a2-eaf3c470d025",
   "metadata": {},
   "outputs": [],
   "source": [
    "path_to_asms = '/home/mf019/longread_pangenome/longread_analysis/paired_assemblies/paired_only'"
   ]
  },
  {
   "cell_type": "code",
   "execution_count": null,
   "id": "ef8666cd-1cdf-42c8-ae4a-e4c46101a3f3",
   "metadata": {},
   "outputs": [],
   "source": [
    "print(f\"{path_to_asms}/*/annotation/*/*.log\")"
   ]
  },
  {
   "cell_type": "code",
   "execution_count": null,
   "id": "05b683f9-4561-49c0-be2f-2415676d82e3",
   "metadata": {},
   "outputs": [],
   "source": [
    "list_of_logs = glob.glob(f\"{path_to_asms}/*/annotation/*/*.log\")"
   ]
  },
  {
   "cell_type": "code",
   "execution_count": null,
   "id": "5ca9ec20-098e-4990-a0bf-819f2fe685eb",
   "metadata": {},
   "outputs": [],
   "source": [
    "print(list_of_logs)"
   ]
  },
  {
   "cell_type": "code",
   "execution_count": null,
   "id": "cabeb824-c31a-470e-8d9b-49495c377649",
   "metadata": {
    "scrolled": true
   },
   "outputs": [],
   "source": [
    "# Nevermind this is actually not a problem anymore\n",
    "#for file in list_of_logs:\n",
    "#    with open(file, 'r') as infile:\n",
    "#        lines = infile.read()\n",
    "#        for line in lines.split('\\n'):\n",
    "#            if ' - INFO - UTILS - qc: revised sequence:' in line:\n",
    "#                print(line)\n",
    "#            else:\n",
    "#                pass\n",
    "#    break"
   ]
  },
  {
   "cell_type": "code",
   "execution_count": null,
   "id": "1dc006a8-1522-47ed-8346-fb5a45219509",
   "metadata": {},
   "outputs": [],
   "source": []
  }
 ],
 "metadata": {
  "kernelspec": {
   "display_name": "Python 3 (ipykernel)",
   "language": "python",
   "name": "python3"
  },
  "language_info": {
   "codemirror_mode": {
    "name": "ipython",
    "version": 3
   },
   "file_extension": ".py",
   "mimetype": "text/x-python",
   "name": "python",
   "nbconvert_exporter": "python",
   "pygments_lexer": "ipython3",
   "version": "3.12.2"
  }
 },
 "nbformat": 4,
 "nbformat_minor": 5
}
