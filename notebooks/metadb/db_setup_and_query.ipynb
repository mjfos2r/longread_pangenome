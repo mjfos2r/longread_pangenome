{
 "cells": [
  {
   "cell_type": "markdown",
   "metadata": {},
   "source": [
    "# Okay let's make this pangenomic sequence DB with all of the annotations!"
   ]
  },
  {
   "cell_type": "code",
   "execution_count": 7,
   "metadata": {},
   "outputs": [],
   "source": [
    "import sqlite3\n",
    "from Bio import SeqIO, SeqFeature, SeqRecord\n",
    "from collections import defaultdict\n",
    "import pickle\n",
    "import glob"
   ]
  },
  {
   "cell_type": "code",
   "execution_count": 2,
   "metadata": {},
   "outputs": [],
   "source": [
    "# Lets set up our parsing function. This is just the barebones function. I'll expand it with additional helpers\n",
    "# once I reach that point :)\n",
    "# primarily to include the plasmid name for the replicon.\n",
    "# and to\n",
    "def parse_genbank(file_path):\n",
    "    assemblies = SeqIO.parse(file_path, \"genbank\")\n",
    "    genes = []\n",
    "    for record in assemblies:\n",
    "        for feature in record.features:\n",
    "            if feature.type in [\"gene\", \"CDS\", \"mRNA\", \"tRNA\", \"rRNA\"]:\n",
    "                gene_info = {\n",
    "                    \"feature_type\": feature.type,\n",
    "                    \"gene_id\": feature.qualifiers.get(\"gene\", [\"unknown\"])[0],\n",
    "                    \"gene_name\": feature.qualifiers.get(\"gene_synonym\", [\"unknown\"])[0],\n",
    "                    \"gene_family\": feature.qualifiers.get(\"note\", [\"unknown\"])[0],\n",
    "                    \"protein_id\": feature.qualifiers.get(\"protein_id\", [\"unknown\"])[0],\n",
    "                    \"product\": feature.qualifiers.get(\"product\", [\"unknown\"])[0],\n",
    "                    \"sequence\": str(feature.extract(record.seq)),\n",
    "                    \"replicon\": record.id,\n",
    "                    \"genome\": record.annotations.get(\"organism\", \"unknown\"),\n",
    "                    \"start\": feature.location.start,\n",
    "                    \"end\": feature.location.end,\n",
    "                    \"strand\": feature.location.strand\n",
    "                }\n",
    "                genes.append(gene_info)\n",
    "    return genes\n"
   ]
  },
  {
   "cell_type": "code",
   "execution_count": null,
   "metadata": {},
   "outputs": [],
   "source": [
    "assembly_id = os.path.splittext(os.path.basename(file_path))[0]"
   ]
  },
  {
   "cell_type": "code",
   "execution_count": null,
   "metadata": {},
   "outputs": [],
   "source": [
    "list_of_assemblies = glob.glob('assemblies/paired_assemblies/paired_only/*/annotation/*/*.gbff')\n"
   ]
  }
 ],
 "metadata": {
  "kernelspec": {
   "display_name": "Python 3",
   "language": "python",
   "name": "python3"
  },
  "language_info": {
   "codemirror_mode": {
    "name": "ipython",
    "version": 3
   },
   "file_extension": ".py",
   "mimetype": "text/x-python",
   "name": "python",
   "nbconvert_exporter": "python",
   "pygments_lexer": "ipython3",
   "version": "3.11.10"
  }
 },
 "nbformat": 4,
 "nbformat_minor": 2
}
