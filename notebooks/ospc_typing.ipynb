{
 "cells": [
  {
   "cell_type": "code",
   "execution_count": 24,
   "metadata": {},
   "outputs": [],
   "source": [
    "import pandas\n",
    "import glob"
   ]
  },
  {
   "cell_type": "code",
   "execution_count": 20,
   "metadata": {},
   "outputs": [],
   "source": [
    "def load_input_metadata(metadata : str) -> pandas.DataFrame:\n",
    "    input_metadata = pandas.read_csv(metadata)\n",
    "    return input_metadata"
   ]
  },
  {
   "cell_type": "code",
   "execution_count": 22,
   "metadata": {},
   "outputs": [
    {
     "name": "stdout",
     "output_type": "stream",
     "text": [
      "             Isolate OspC_Type\n",
      "0    5A18NP1-JBb08-A       NaN\n",
      "1    5A18NP1-JBb08-B       NaN\n",
      "2             UNY147         J\n",
      "3    5A18NP1-JBb08-C       NaN\n",
      "4    5A18NP1-JBb08-E       NaN\n",
      "..               ...       ...\n",
      "372              K60         A\n",
      "373              K82         K\n",
      "374              K11         K\n",
      "375              K59         K\n",
      "376              K69         A\n",
      "\n",
      "[377 rows x 2 columns]\n"
     ]
    }
   ],
   "source": [
    "\n",
    "metadata = \"longread_metadata_20240227.csv\"\n",
    "\n",
    "input_metadata = load_input_metadata(metadata)\n",
    "known_types = input_metadata[['Isolate', 'OspC_Type']]\n",
    "print(known_types)\n"
   ]
  },
  {
   "cell_type": "code",
   "execution_count": 23,
   "metadata": {},
   "outputs": [
    {
     "name": "stdout",
     "output_type": "stream",
     "text": [
      "             Isolate OspC_Type\n",
      "0    5A18NP1-JBb08-A       NaN\n",
      "1    5A18NP1-JBb08-B       NaN\n",
      "2             UNY147         J\n",
      "3    5A18NP1-JBb08-C       NaN\n",
      "4    5A18NP1-JBb08-E       NaN\n",
      "..               ...       ...\n",
      "372              K60         A\n",
      "373              K82         K\n",
      "374              K11         K\n",
      "375              K59         K\n",
      "376              K69         A\n",
      "\n",
      "[377 rows x 2 columns]\n"
     ]
    }
   ],
   "source": [
    "print(known_types)"
   ]
  },
  {
   "cell_type": "markdown",
   "metadata": {},
   "source": [
    "## Next Steps\n",
    "Ok, so now what we'll do is take the table above, pull all isolates that have a known ospc_type, then pull the ospc annotations from each isolate, then make a tree, then confirm tree layout with known types, then run tree of all known ospc annotations, then use previous labels as classifications for each cluster.\n",
    "\n",
    "> What are the characteristics that differentiate each OspC type.\n",
    ">> Can I use motif scanning? Definitely MSA."
   ]
  }
 ],
 "metadata": {
  "kernelspec": {
   "display_name": "Python 3",
   "language": "python",
   "name": "python3"
  },
  "language_info": {
   "codemirror_mode": {
    "name": "ipython",
    "version": 3
   },
   "file_extension": ".py",
   "mimetype": "text/x-python",
   "name": "python",
   "nbconvert_exporter": "python",
   "pygments_lexer": "ipython3",
   "version": "3.11.7"
  }
 },
 "nbformat": 4,
 "nbformat_minor": 2
}
