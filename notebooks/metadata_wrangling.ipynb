{
 "cells": [
  {
   "cell_type": "code",
   "execution_count": 1,
   "metadata": {},
   "outputs": [],
   "source": [
    "import pandas"
   ]
  },
  {
   "cell_type": "code",
   "execution_count": 2,
   "metadata": {},
   "outputs": [],
   "source": [
    "jupyter_table = pandas.read_csv('renaming_for_jupyter.csv')\n",
    "renaming_table = pandas.read_csv('Renaming_Scheme.csv')\n",
    "list_of_assemblies = pandas.read_csv('list_of_assemblies.csv')\n",
    "longread_hybrid = pandas.read_csv('longread_renaming.csv')\n",
    "alleged_final = pandas.read_csv('allegedly_final_strain_list.csv')"
   ]
  },
  {
   "cell_type": "code",
   "execution_count": 3,
   "metadata": {},
   "outputs": [
    {
     "name": "stdout",
     "output_type": "stream",
     "text": [
      "(379, 2)\n"
     ]
    }
   ],
   "source": [
    "print(list_of_assemblies.shape)\n",
    "list_of_assemblies['sample'] = list_of_assemblies['sample'].str.replace('_200', '')"
   ]
  },
  {
   "cell_type": "code",
   "execution_count": 4,
   "metadata": {},
   "outputs": [
    {
     "name": "stdout",
     "output_type": "stream",
     "text": [
      "(325, 53)\n",
      "(1215, 54)\n",
      "(66, 9)\n",
      "(324, 10)\n"
     ]
    }
   ],
   "source": [
    "\n",
    "print(jupyter_table.shape)\n",
    "print(renaming_table.shape)\n",
    "print(longread_hybrid.shape)\n",
    "print(alleged_final.shape)\n",
    "\n"
   ]
  },
  {
   "cell_type": "code",
   "execution_count": 5,
   "metadata": {},
   "outputs": [
    {
     "name": "stdout",
     "output_type": "stream",
     "text": [
      "Illumina sample IDs:\n",
      "299\n",
      "['UWI246', 'UNY134', 'UNY199', 'ESI313', 'URI48', 'UNY188', 'ESI289', 'URI44', 'URI49', 'UNY179', 'UWI247', 'UNY178', 'URI118', 'UNY184', 'URI117', 'UWI265', 'UNY215', 'UWI277', 'UNY133', 'UWI269', 'UWI264', 'UMA3', 'UNY155', 'UCT31', 'UNY146', 'URI53', 'UNY150', 'URI65', 'UCT74', 'UWI241', 'UWI234', 'UCT104', 'UMA5', 'UWI274', 'UNY205', 'UNY209', 'ESI297', 'ESI311', 'UCT66', 'URI67', 'UCT92', 'URI41', 'UWI231', 'UNY170', 'UNY161', 'URI39', 'ESI318', 'ESI300', 'UNY144', 'URI59', 'UCT30', 'ESI322', 'UNY206', 'UWI242', 'UWI228', 'URI23', 'UNY138', 'UWI223', 'UNY181', 'UWI252', 'UNY175', 'UNY174', 'UWI227', 'URI19', 'UNY140', 'UNY159', 'UWI243', 'UWI262', 'ESI307', 'UMA16', 'URI108', 'UCT109', 'URI97', 'URI47', 'UMA13', 'URI88', 'UNY172', 'URI105', 'UNY166', 'URI56', 'ESI303', 'UNY154', 'URI22', 'URI38', 'UNY147', 'ESI28', 'URI89', 'URI103', 'UCT115', 'UMA11', 'ESI290', 'UWI257', 'UWI268', 'UNY160', 'ESI306', 'UWI282', 'URI86', 'UWI222', 'URI43', 'ESI312', 'ESI315', 'UNY137', 'UNY162', 'UWI251', 'UWI230', 'UCT32', 'ESI308', 'UWI238', 'URI63', 'UNY197', 'ESI320', 'URI70', 'UWI244', 'URI81', 'UMA15', 'URI122', 'UWI240', 'ESI26', 'UWI229', 'UCT50', 'UMA14', 'UNY153', 'URI24', 'UWI248', 'UNY210', 'UWI250', 'URI102', 'UWI281', 'URI72', 'ESI299', 'UWI236', 'URI71', 'URI34', 'UWI258', 'URI85', 'URI91', 'UCT29', 'UNY211', 'UNY136', 'UNY202', 'UCT121', 'UNY193', 'UWI275', 'UWI263', 'ESI285', 'URI42', 'UNY167', 'UCT62', 'UNY151', 'UWI235', 'UMA12', 'UNY142', 'UWI280', 'UWI232', 'UNY135', 'UCT83', 'ESI301', 'UCT51', 'UNY190', 'ESI304', 'URI107', 'UCT110', 'URI61', 'UNY163', 'ESI323', 'UCT76', 'UWI233', 'URI79', 'UNY207', 'UWI253', 'UWI245', 'UNY196', 'URI101', 'UWI256', 'URI77', 'UWI276', 'UNY165', 'ESI286', 'UCT73', 'UWI239', 'UNY204', 'URI100', 'ESI288a', 'UMA1', 'URI40', 'ESI292', 'ESI295', 'UNY187', 'UNY218', 'UWI225', 'URI17', 'UNY131', 'URI52', 'UWI270', 'UWI278', 'UNY195', 'UNY212', 'UNY149', 'URI75', 'UNY177', 'UNY192', 'ESI305', 'UNY182', 'UNY168', 'UNY157', 'UNY156', 'UNY132', 'URI119', 'UMA8', 'UNY169', 'URI114', 'UNY130', 'ESI284', 'UWI237', 'UWI224', 'UNY189', 'UMA7', 'URI90', 'UMA10', 'UNY176', 'URI33', 'UMA4', 'UNY145', 'UNY129', 'ESI316', 'URI60', 'URI68', 'ESI294', 'URI36', 'UMA2', 'UWI267', 'UNY203', 'URI98', 'UNY148', 'URI55', 'UNY200', 'URI64', 'UWI271', 'UWI255', 'URI58', 'UNY143', 'URI112', 'ESI291', 'UNY164', 'UNY213', 'UNY141', 'URI219', 'URI116', 'UWI220', 'URI84', 'UMA9', 'UNY208', 'UWI283', 'UWI249', 'URI54', 'UNY191', 'URI20', 'UWI254', 'UWI261', 'UCT113', 'ESI314', 'UCT69', 'ESI309', 'UWI226', 'UNY183', 'UWI260', 'UWI221', 'UNY201', 'UNY139', 'URI99', 'UCT96', 'UNY171', 'URI93', 'UCT35', 'UNY216', 'UCT106', 'UNY152', 'UNY180', 'UMA127', 'URI87', 'UWI273', 'URI46', 'ESI317', 'ESI287', 'UNY217', 'UNY194', 'UWI279', 'URI120', 'URI111', 'URI57', 'UNY158', 'UNY185', 'UWI272', 'ESI319', 'UNY214', 'URI37', 'URI78', 'URI94', 'UNY173']\n",
      "PacBio sample IDs:\n",
      "20\n",
      "['MR614', 'MC123', 'BL546', 'B356', 'B247', 'MC149', 'B418', 'MR641', 'MC104', 'BL522', 'B348', 'BL206', 'B331', 'BL224', 'B477', 'B500', 'B483', 'MC105', 'BL515', 'MR616']\n",
      "Hybrid sample IDs:\n",
      "47\n",
      "['XD1', 'K84', 'K75', 'K90', 'K10', 'EU57_B190413', 'K72', 'K66', 'K25', 'K21', 'L113', 'K74', 'K2', 'K62', 'K73', 'K58', 'K22', 'K13', 'K86', 'K56', 'K15', 'K24', 'K64', 'K6', 'K18', 'K1', 'K83', 'K19', 'K80', 'K7', 'K12', 'K30', 'EU51_B192411', 'K89', 'K16', 'K17', 'K3', 'EU14_B89613', 'K70', 'K60', 'K57', 'K71', 'K11', 'K59', 'K69', 'K82', 'K76']\n",
      "Nanopore sample IDs:\n",
      "13\n",
      "['BL082_H1', 'BG001_C7', '5A18NP1-JBb08-A', '5A18NP1-JBb08-B', '5A18NP1-JBb08-C', '5A18NP1-JBb08-D', '5A18NP1-JBb08-E', 'BL091_B31E2_erpP', 'B31-K2', 'BB-8', 'HB-19', 'N40_HP', 'B31-5A4']\n"
     ]
    }
   ],
   "source": [
    "sample_ids_illumina = list(list_of_assemblies[list_of_assemblies['method'] == 'illumina']['sample'])\n",
    "sample_ids_illumina = [x.split('_200')[0] for x in sample_ids_illumina]\n",
    "print(\"Illumina sample IDs:\")\n",
    "print(len(sample_ids_illumina))\n",
    "print(sample_ids_illumina)\n",
    "\n",
    "sample_ids_pacbio = list(list_of_assemblies[list_of_assemblies['method'] == 'pacbio']['sample'])\n",
    "print(\"PacBio sample IDs:\")\n",
    "print(len(sample_ids_pacbio))\n",
    "print(sample_ids_pacbio)\n",
    "\n",
    "sample_ids_hybrid = list(list_of_assemblies[list_of_assemblies['method'] == 'hybrid']['sample'])\n",
    "print(\"Hybrid sample IDs:\")\n",
    "print(len(sample_ids_hybrid))\n",
    "print(sample_ids_hybrid)\n",
    "\n",
    "sample_ids_nanopore = list(list_of_assemblies[list_of_assemblies['method'] == 'nanopore']['sample'])\n",
    "print(\"Nanopore sample IDs:\")\n",
    "print(len(sample_ids_nanopore))\n",
    "print(sample_ids_nanopore)\n",
    "\n",
    "sample_ids = sample_ids_illumina + sample_ids_pacbio + sample_ids_hybrid + sample_ids_nanopore\n"
   ]
  },
  {
   "cell_type": "code",
   "execution_count": 6,
   "metadata": {},
   "outputs": [
    {
     "name": "stdout",
     "output_type": "stream",
     "text": [
      "Index(['method', 'sample'], dtype='object')\n",
      "Index(['Rename_A', 'Original_Name', 'Patient Code', 'Origin', 'Location',\n",
      "       'OspC_Type', 'MLST', 'RST_Type', 'OspC_Allele', 'WGS', 'Disseminated',\n",
      "       'Source', 'Multiple_EM(Y/N)', 'skin/blood_pairs', 'Coverage',\n",
      "       '#symptoms', 'Age', 'Sex', 'Year', 'Group', 'Original_Sample_Type',\n",
      "       'Seq_Status', 'Conc.(ng/uL;Qubit)', 'Seq_Date', 'Batch#', 'LaneID',\n",
      "       'Barcode_Index1', 'Genospecies', 'Host', 'Is_Male', 'Is_Female', 'Dx',\n",
      "       'Severity', 'Date_of_initial_EM_exam', 'first', '6m', '12m', 'Species',\n",
      "       'Dissem_binary', 'ACA_binary', 'LNB_binary', 'Notes',\n",
      "       'Additional_Comments_on_Naming', 'Source.1', 'Code', 'Genus',\n",
      "       'Species.1', 'FastQC_1', 'BBDuk', 'FastQC_2', 'Spades', 'BBMerge',\n",
      "       'sp_identification'],\n",
      "      dtype='object')\n",
      "Index(['Rename_A', 'Original_Name', 'Origin', 'Location', 'OspC_Type',\n",
      "       'RST_Type', 'OspC_Allele', 'MLST', 'Disseminated', 'BC + (Y/N)',\n",
      "       'PCR + (Y/N)', 'Source', 'Multiple_EM(Y/N)', 'skin/blood_pairs',\n",
      "       'Coverage', '#symptoms', 'Age', 'Sex', 'Year', 'Group',\n",
      "       'Original_Sample_Type', 'Seq_Status', 'Conc.(ng/uL;Qubit)', 'Seq_Date',\n",
      "       'Batch#', 'LaneID', 'Barcode_Index1', 'Genospecies', 'Host', 'Is_Male',\n",
      "       'Is_Female', 'Severity', 'Dx', 'WGS', 'Date_of_initial_EM_exam',\n",
      "       'first', '6m', '12m', 'Species', 'Dissem_binary', 'ACA_binary',\n",
      "       'LNB_binary', 'Notes', 'Additional_Comments_on_Naming', 'Source.1',\n",
      "       'Code', 'Genus', 'Species.1', 'FastQC_1', 'BBDuk', 'FastQC_2', 'Spades',\n",
      "       'BBMerge', 'sp_identification'],\n",
      "      dtype='object')\n",
      "Index(['New Rename?', 'Rename_A', 'Seq Method?', 'Original_Name', 'Source',\n",
      "       'OspC_Type', 'MLST', 'Disseminated', 'Notes'],\n",
      "      dtype='object')\n",
      "Index(['Rename_A', 'Original_Name', 'Patient Code', 'OspC_Type', 'MLST',\n",
      "       'Location', 'Origin', 'RST_Type', 'OspC_Allele', 'Disseminated'],\n",
      "      dtype='object')\n"
     ]
    }
   ],
   "source": [
    "print(list_of_assemblies.columns)\n",
    "print(jupyter_table.columns)\n",
    "print(renaming_table.columns)\n",
    "print(longread_hybrid.columns)\n",
    "print(alleged_final.columns)\n"
   ]
  },
  {
   "cell_type": "code",
   "execution_count": 20,
   "metadata": {},
   "outputs": [],
   "source": [
    "t0 = jupyter_table[jupyter_table['Original_Name'].isin(sample_ids)]\n",
    "t1 = renaming_table[renaming_table['Original_Name'].isin(sample_ids)]\n",
    "t2 = longread_hybrid[longread_hybrid['Original_Name'].isin(sample_ids)]\n",
    "t3 = alleged_final[(alleged_final['Rename_A'].isin(sample_ids))]"
   ]
  },
  {
   "cell_type": "code",
   "execution_count": 21,
   "metadata": {},
   "outputs": [
    {
     "name": "stdout",
     "output_type": "stream",
     "text": [
      "Index(['Rename_A', 'Original_Name', 'Patient Code', 'OspC_Type', 'MLST',\n",
      "       'Location', 'Origin', 'RST_Type', 'OspC_Allele', 'Disseminated'],\n",
      "      dtype='object')\n",
      "Index(['Original_Name', 'Patient Code', 'OspC_Type', 'MLST', 'Location',\n",
      "       'Origin', 'RST_Type', 'OspC_Allele', 'Disseminated'],\n",
      "      dtype='object')\n"
     ]
    }
   ],
   "source": [
    "print(t3.columns)\n",
    "t3 = t3.drop(columns=['Original_Name']).rename(columns={'Rename_A': 'Original_Name'})\n",
    "print(t3.columns)\n"
   ]
  },
  {
   "cell_type": "code",
   "execution_count": 22,
   "metadata": {},
   "outputs": [
    {
     "name": "stdout",
     "output_type": "stream",
     "text": [
      "(54, 53)\n",
      "(57, 54)\n",
      "(65, 9)\n",
      "(299, 9)\n"
     ]
    }
   ],
   "source": [
    "print(t0.shape)\n",
    "print(t1.shape)\n",
    "print(t2.shape)\n",
    "print(t3.shape)"
   ]
  },
  {
   "cell_type": "code",
   "execution_count": 23,
   "metadata": {},
   "outputs": [
    {
     "name": "stdout",
     "output_type": "stream",
     "text": [
      "Index(['Original_Name', 'MLST', 'OspC_Type', 'RST_Type', 'Source', 'Origin',\n",
      "       'Location', 'skin/blood_pairs', 'Disseminated'],\n",
      "      dtype='object')\n",
      "Index(['Original_Name', 'MLST', 'OspC_Type', 'RST_Type', 'Source', 'Origin',\n",
      "       'Location', 'skin/blood_pairs', 'Disseminated'],\n",
      "      dtype='object')\n",
      "Index(['Original_Name', 'MLST', 'OspC_Type', 'Source', 'Disseminated'], dtype='object')\n",
      "Index(['Original_Name', 'MLST', 'OspC_Type', 'RST_Type', 'Origin', 'Location',\n",
      "       'Disseminated'],\n",
      "      dtype='object')\n"
     ]
    }
   ],
   "source": [
    "columns_to_keep = ['Original_Name','MLST', 'OspC_Type', 'ospC_allele', 'RST_Type','RST','Source', 'Clinical_info', 'Origin', 'Location', 'skin/blood_pairs', 'Multiple_EM','Disseminated']\n",
    "\n",
    "t0 = t0.filter(columns_to_keep)\n",
    "t1 = t1.filter(columns_to_keep)\n",
    "t2 = t2.filter(columns_to_keep)\n",
    "t3 = t3.filter(columns_to_keep)\n",
    "\n",
    "print(t0.columns)\n",
    "print(t1.columns)\n",
    "print(t2.columns)\n",
    "print(t3.columns)"
   ]
  },
  {
   "cell_type": "code",
   "execution_count": 24,
   "metadata": {},
   "outputs": [
    {
     "name": "stdout",
     "output_type": "stream",
     "text": [
      "28        K1\n",
      "29       K11\n",
      "30       K10\n",
      "31       K15\n",
      "32       K16\n",
      "33       K22\n",
      "34       K24\n",
      "35       K25\n",
      "38        K2\n",
      "39        K3\n",
      "40        K6\n",
      "41        K7\n",
      "43       K12\n",
      "44       K13\n",
      "45       K17\n",
      "46       K18\n",
      "47       K19\n",
      "49       K21\n",
      "55       K30\n",
      "85       K56\n",
      "86       K60\n",
      "87       K62\n",
      "88       K64\n",
      "90       K71\n",
      "91       K72\n",
      "92       K73\n",
      "94       K80\n",
      "95       K84\n",
      "100      K57\n",
      "101      K58\n",
      "102      K59\n",
      "106      K66\n",
      "108      K69\n",
      "109      K70\n",
      "110      K74\n",
      "111      K75\n",
      "112      K76\n",
      "116      K82\n",
      "117      K83\n",
      "119      K86\n",
      "123      K90\n",
      "148     B247\n",
      "166     B331\n",
      "168     B348\n",
      "171     B356\n",
      "185     B418\n",
      "192     B477\n",
      "195     B500\n",
      "202    MR616\n",
      "207    MR641\n",
      "246    MC104\n",
      "247    MC105\n",
      "262    MC123\n",
      "282    MC149\n",
      "Name: Original_Name, dtype: object\n",
      "28         K1\n",
      "29        K11\n",
      "30        K10\n",
      "31        K15\n",
      "32        K16\n",
      "33        K22\n",
      "34        K24\n",
      "35        K25\n",
      "38         K2\n",
      "39         K3\n",
      "40         K6\n",
      "41         K7\n",
      "43        K12\n",
      "45        K17\n",
      "46        K18\n",
      "47        K19\n",
      "49        K21\n",
      "55        K30\n",
      "85        K56\n",
      "86        K60\n",
      "87        K62\n",
      "88        K64\n",
      "90        K71\n",
      "91        K72\n",
      "92        K73\n",
      "95        K84\n",
      "100       K57\n",
      "101       K58\n",
      "102       K59\n",
      "106       K66\n",
      "108       K69\n",
      "109       K70\n",
      "110       K74\n",
      "111       K75\n",
      "112       K76\n",
      "116       K82\n",
      "117       K83\n",
      "119       K86\n",
      "148      B247\n",
      "166      B331\n",
      "168      B348\n",
      "171      B356\n",
      "192      B477\n",
      "195      B500\n",
      "202     MR616\n",
      "207     MR641\n",
      "246     MC104\n",
      "247     MC105\n",
      "262     MC123\n",
      "282     MC149\n",
      "990      B483\n",
      "1032    BL206\n",
      "1038    BL224\n",
      "1083    BL515\n",
      "1085    BL522\n",
      "1090    BL546\n",
      "1128    MR614\n",
      "Name: Original_Name, dtype: object\n",
      "0      EU14_B89613\n",
      "1     EU57_B190413\n",
      "2     EU51_B192411\n",
      "3               K1\n",
      "4              K11\n",
      "          ...     \n",
      "60            B348\n",
      "61            B356\n",
      "62            B418\n",
      "63            B477\n",
      "64           BL224\n",
      "Name: Original_Name, Length: 65, dtype: object\n",
      "0        UMA1\n",
      "1        UMA2\n",
      "2        UMA3\n",
      "3        UMA4\n",
      "4        UMA5\n",
      "        ...  \n",
      "318    ESI318\n",
      "319    ESI319\n",
      "320    ESI320\n",
      "322    ESI322\n",
      "323    ESI323\n",
      "Name: Original_Name, Length: 299, dtype: object\n"
     ]
    }
   ],
   "source": [
    "print(t0['Original_Name'])\n",
    "print(t1['Original_Name'])\n",
    "print(t2['Original_Name'])\n",
    "print(t3['Original_Name'])"
   ]
  },
  {
   "cell_type": "code",
   "execution_count": 41,
   "metadata": {},
   "outputs": [
    {
     "name": "stdout",
     "output_type": "stream",
     "text": [
      "13\n",
      "5A18NP1-JBb08-B\n",
      "5A18NP1-JBb08-C\n",
      "BB-8\n",
      "5A18NP1-JBb08-D\n",
      "BL082_H1\n",
      "BG001_C7\n",
      "N40_HP\n",
      "5A18NP1-JBb08-A\n",
      "HB-19\n",
      "B31-K2\n",
      "5A18NP1-JBb08-E\n",
      "BL091_B31E2_erpP\n",
      "B31-5A4\n"
     ]
    }
   ],
   "source": [
    "# Combine the 'Original_Name' columns from all three tables\n",
    "names_so_far = pandas.concat([t0['Original_Name'], t1['Original_Name'], t2['Original_Name'], t3['Original_Name']])\n",
    "\n",
    "# Get the unique sample IDs that are not present in the 'Original_Name' column\n",
    "missing_sample_ids = list(set(sample_ids) - set(names_so_far))\n",
    "\n",
    "# Print the list of missing sample IDs\n",
    "print(len(missing_sample_ids))\n",
    "\n",
    "for id in missing_sample_ids:\n",
    "    print(id)\n"
   ]
  },
  {
   "cell_type": "code",
   "execution_count": 42,
   "metadata": {},
   "outputs": [
    {
     "name": "stdout",
     "output_type": "stream",
     "text": [
      "    Original_Name   MLST OspC_Type  RST_Type Source Origin  Location  \\\n",
      "0              K1      1         A       1.0    NaN     US        CT   \n",
      "1             K11      3         K       2.0    NaN     US        CT   \n",
      "2             K10      1         A       1.0    NaN     US        CT   \n",
      "3             K15      3         K       2.0    NaN     US        CT   \n",
      "4             K16      9         N       2.0    NaN     US        RI   \n",
      "..            ...    ...       ...       ...    ...    ...       ...   \n",
      "361        ESI318  ST545         B       1.0    NaN     EU  Slovenia   \n",
      "362        ESI319   ST24         L       3.0    NaN     EU  Slovenia   \n",
      "363        ESI320    546         Q       1.0    NaN     EU  Slovenia   \n",
      "364        ESI322   ST24         L       3.0    NaN     EU  Slovenia   \n",
      "365        ESI323    799         L       3.0    NaN     EU  Slovenia   \n",
      "\n",
      "    skin/blood_pairs Disseminated  \n",
      "0                NaN            D  \n",
      "1                NaN            D  \n",
      "2                NaN            D  \n",
      "3                NaN            D  \n",
      "4                NaN            D  \n",
      "..               ...          ...  \n",
      "361              NaN          NaN  \n",
      "362              NaN          NaN  \n",
      "363              NaN          NaN  \n",
      "364              NaN          NaN  \n",
      "365              NaN          NaN  \n",
      "\n",
      "[366 rows x 9 columns]\n"
     ]
    }
   ],
   "source": [
    "merged = pandas.concat([t0,t1,t2,t3])\n",
    "#print(merged)\n",
    "merged_no_duplicates = merged.drop_duplicates(keep='first', subset='Original_Name', inplace=False)\n",
    "merged_no_duplicates = merged_no_duplicates.merge(list_of_assemblies, right_on='sample', left_on='Original_Name', how='left')\n",
    "merged_no_duplicates = merged_no_duplicates.drop(columns=['method','sample'])\n",
    "print(merged_no_duplicates)"
   ]
  },
  {
   "cell_type": "code",
   "execution_count": 43,
   "metadata": {},
   "outputs": [
    {
     "name": "stdout",
     "output_type": "stream",
     "text": [
      "             Isolate   ST\n",
      "0    5A18NP1-JBb08-A    1\n",
      "1    5A18NP1-JBb08-B    1\n",
      "2             UNY147  14~\n",
      "3    5A18NP1-JBb08-C    1\n",
      "4    5A18NP1-JBb08-E    1\n",
      "..               ...  ...\n",
      "372              K60   1~\n",
      "373              K82    3\n",
      "374              K11    3\n",
      "375              K59    3\n",
      "376              K69    1\n",
      "\n",
      "[377 rows x 2 columns]\n"
     ]
    }
   ],
   "source": [
    "mlst_results = pandas.read_csv(\"/Users/mf019/bioinformatics/longread_GWAS/longread_analysis/reports/mlst/mlst_results.allele.csv\", delimiter='\\t', header=0)\n",
    "mlst_results = mlst_results[['Isolate', 'ST']]\n",
    "mlst_results['Isolate'] = mlst_results['Isolate'].str.replace('.hybrid.assembly.contigs', '')\n",
    "mlst_results['Isolate'] = mlst_results['Isolate'].str.replace('_200', '')\n",
    "print(mlst_results)"
   ]
  },
  {
   "cell_type": "code",
   "execution_count": 44,
   "metadata": {},
   "outputs": [
    {
     "name": "stdout",
     "output_type": "stream",
     "text": [
      "             Isolate   ST MLST OspC_Type  RST_Type Source Origin Location  \\\n",
      "0    5A18NP1-JBb08-A    1  NaN       NaN       NaN    NaN    NaN      NaN   \n",
      "1    5A18NP1-JBb08-B    1  NaN       NaN       NaN    NaN    NaN      NaN   \n",
      "2             UNY147  14~   34         J       3.0    NaN     US       NY   \n",
      "3    5A18NP1-JBb08-C    1  NaN       NaN       NaN    NaN    NaN      NaN   \n",
      "4    5A18NP1-JBb08-E    1  NaN       NaN       NaN    NaN    NaN      NaN   \n",
      "..               ...  ...  ...       ...       ...    ...    ...      ...   \n",
      "372              K60   1~  NaN         A       1.0    NaN     US       RI   \n",
      "373              K82    3    3         K       2.0    NaN     US       RI   \n",
      "374              K11    3    3         K       2.0    NaN     US       CT   \n",
      "375              K59    3    3         K       2.0    NaN     US       RI   \n",
      "376              K69    1    1         A       1.0    NaN     US       CT   \n",
      "\n",
      "    skin/blood_pairs Disseminated  \n",
      "0                NaN          NaN  \n",
      "1                NaN          NaN  \n",
      "2                NaN            L  \n",
      "3                NaN          NaN  \n",
      "4                NaN          NaN  \n",
      "..               ...          ...  \n",
      "372              NaN            D  \n",
      "373              NaN            L  \n",
      "374              NaN            D  \n",
      "375              NaN            L  \n",
      "376              NaN            L  \n",
      "\n",
      "[377 rows x 10 columns]\n"
     ]
    }
   ],
   "source": [
    "mlst_results = mlst_results.merge(merged_no_duplicates, right_on='Original_Name', left_on='Isolate', how='left')\n",
    "mlst_results = mlst_results.drop(columns=['Original_Name'])\n",
    "print(mlst_results)"
   ]
  },
  {
   "cell_type": "code",
   "execution_count": 45,
   "metadata": {},
   "outputs": [
    {
     "name": "stdout",
     "output_type": "stream",
     "text": [
      "             Isolate MLST OspC_Type  RST_Type Source Origin Location  \\\n",
      "0    5A18NP1-JBb08-A    1       NaN       NaN    NaN    NaN      NaN   \n",
      "1    5A18NP1-JBb08-B    1       NaN       NaN    NaN    NaN      NaN   \n",
      "2             UNY147   34         J       3.0    NaN     US       NY   \n",
      "3    5A18NP1-JBb08-C    1       NaN       NaN    NaN    NaN      NaN   \n",
      "4    5A18NP1-JBb08-E    1       NaN       NaN    NaN    NaN      NaN   \n",
      "..               ...  ...       ...       ...    ...    ...      ...   \n",
      "372              K60    1         A       1.0    NaN     US       RI   \n",
      "373              K82    3         K       2.0    NaN     US       RI   \n",
      "374              K11    3         K       2.0    NaN     US       CT   \n",
      "375              K59    3         K       2.0    NaN     US       RI   \n",
      "376              K69    1         A       1.0    NaN     US       CT   \n",
      "\n",
      "    skin/blood_pairs Disseminated    method  \n",
      "0                NaN          NaN  nanopore  \n",
      "1                NaN          NaN  nanopore  \n",
      "2                NaN            L  illumina  \n",
      "3                NaN          NaN  nanopore  \n",
      "4                NaN          NaN  nanopore  \n",
      "..               ...          ...       ...  \n",
      "372              NaN            D    hybrid  \n",
      "373              NaN            L    hybrid  \n",
      "374              NaN            D    hybrid  \n",
      "375              NaN            L    hybrid  \n",
      "376              NaN            L    hybrid  \n",
      "\n",
      "[377 rows x 10 columns]\n"
     ]
    }
   ],
   "source": [
    "mlst_results['ST'] = mlst_results['ST'].str.replace('~','')\n",
    "mlst_results['MLST'] = mlst_results['MLST'].where(mlst_results['MLST'].notnull(), mlst_results['ST'])\n",
    "mlst_results = mlst_results.drop(columns='ST')\n",
    "mlst_results['MLST'] = mlst_results['MLST'].str.replace('ST','')\n",
    "mlst_results = mlst_results.merge(list_of_assemblies, left_on='Isolate', right_on='sample', how='left')\n",
    "mlst_results = mlst_results.drop(columns='sample')\n",
    "print(mlst_results)\n"
   ]
  },
  {
   "cell_type": "code",
   "execution_count": 46,
   "metadata": {},
   "outputs": [
    {
     "name": "stdout",
     "output_type": "stream",
     "text": [
      "             Isolate MLST OspC_Type  RST_Type   Source Origin Location  \\\n",
      "0    5A18NP1-JBb08-A    1       NaN       NaN  culture     US       MA   \n",
      "1    5A18NP1-JBb08-B    1       NaN       NaN  culture     US       MA   \n",
      "2             UNY147   34         J       3.0      NaN     US       NY   \n",
      "3    5A18NP1-JBb08-C    1       NaN       NaN  culture     US       MA   \n",
      "4    5A18NP1-JBb08-E    1       NaN       NaN  culture     US       MA   \n",
      "..               ...  ...       ...       ...      ...    ...      ...   \n",
      "372              K60    1         A       1.0      NaN     US       RI   \n",
      "373              K82    3         K       2.0      NaN     US       RI   \n",
      "374              K11    3         K       2.0      NaN     US       CT   \n",
      "375              K59    3         K       2.0      NaN     US       RI   \n",
      "376              K69    1         A       1.0      NaN     US       CT   \n",
      "\n",
      "    skin/blood_pairs Disseminated    method  \n",
      "0                NaN          NaN  nanopore  \n",
      "1                NaN          NaN  nanopore  \n",
      "2                NaN            L  illumina  \n",
      "3                NaN          NaN  nanopore  \n",
      "4                NaN          NaN  nanopore  \n",
      "..               ...          ...       ...  \n",
      "372              NaN            D    hybrid  \n",
      "373              NaN            L    hybrid  \n",
      "374              NaN            D    hybrid  \n",
      "375              NaN            L    hybrid  \n",
      "376              NaN            L    hybrid  \n",
      "\n",
      "[377 rows x 10 columns]\n"
     ]
    }
   ],
   "source": [
    "origin = \"US\"\n",
    "location = \"NY\"\n",
    "source = \"culture\"\n",
    "mlst_results.loc[mlst_results['method'] == 'nanopore', 'Origin'] = origin\n",
    "mlst_results.loc[mlst_results['method'] == 'nanopore', 'Location'] = location\n",
    "mlst_results.loc[mlst_results['method'] == 'nanopore', 'Source'] = source\n",
    "print(mlst_results)\n"
   ]
  },
  {
   "cell_type": "code",
   "execution_count": 49,
   "metadata": {},
   "outputs": [],
   "source": [
    "mlst_results.to_csv('longread_metadata_20240228_v2.csv', index=False)\n"
   ]
  },
  {
   "cell_type": "code",
   "execution_count": 32,
   "metadata": {},
   "outputs": [
    {
     "name": "stdout",
     "output_type": "stream",
     "text": [
      "366\n",
      "379\n",
      "377\n"
     ]
    }
   ],
   "source": [
    "#merged_no_duplicates.to_csv('merged_metadata_20240227.csv', index=False, header=True)\n",
    "print(len(merged_no_duplicates)) # all data sans nanopore\n",
    "print(len(list_of_assemblies)) # all data used for pangenome assembly\n",
    "print(len(mlst_results)) # data that was actually MLST typed"
   ]
  },
  {
   "cell_type": "code",
   "execution_count": null,
   "metadata": {},
   "outputs": [],
   "source": []
  },
  {
   "cell_type": "code",
   "execution_count": null,
   "metadata": {},
   "outputs": [],
   "source": []
  }
 ],
 "metadata": {
  "kernelspec": {
   "display_name": "Python 3",
   "language": "python",
   "name": "python3"
  },
  "language_info": {
   "codemirror_mode": {
    "name": "ipython",
    "version": 3
   },
   "file_extension": ".py",
   "mimetype": "text/x-python",
   "name": "python",
   "nbconvert_exporter": "python",
   "pygments_lexer": "ipython3",
   "version": "3.11.7"
  }
 },
 "nbformat": 4,
 "nbformat_minor": 2
}
