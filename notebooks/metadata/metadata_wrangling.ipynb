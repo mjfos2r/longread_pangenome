{
 "cells": [
  {
   "cell_type": "code",
   "execution_count": 1,
   "metadata": {},
   "outputs": [],
   "source": [
    "import pandas"
   ]
  },
  {
   "cell_type": "code",
   "execution_count": 2,
   "metadata": {},
   "outputs": [],
   "source": [
    "jupyter_table = pandas.read_csv('renaming_for_jupyter_20240227.csv')\n",
    "renaming_table = pandas.read_csv('Renaming_Scheme_20240227.csv')\n",
    "list_of_assemblies = pandas.read_csv('list_of_assemblies_v2.csv')\n",
    "longread_hybrid = pandas.read_csv('longread_renaming_20240227.csv')\n",
    "alleged_final = pandas.read_csv('allegedly_final_strain_list_20240227.csv')"
   ]
  },
  {
   "cell_type": "code",
   "execution_count": 3,
   "metadata": {},
   "outputs": [
    {
     "name": "stdout",
     "output_type": "stream",
     "text": [
      "(379, 2)\n",
      "Index(['method', 'sample'], dtype='object')\n"
     ]
    }
   ],
   "source": [
    "print(list_of_assemblies.shape)\n",
    "print(list_of_assemblies.columns)\n"
   ]
  },
  {
   "cell_type": "code",
   "execution_count": 4,
   "metadata": {},
   "outputs": [],
   "source": [
    "list_of_assemblies['sample'] = list_of_assemblies['sample'].str.replace('_200', '')\n",
    "list_of_assemblies['sample'] = list_of_assemblies['sample'].str.replace('.hybrid.assembly.contigs', '')"
   ]
  },
  {
   "cell_type": "code",
   "execution_count": 5,
   "metadata": {},
   "outputs": [
    {
     "name": "stdout",
     "output_type": "stream",
     "text": [
      "(325, 53)\n",
      "(1215, 54)\n",
      "(66, 9)\n",
      "(324, 10)\n"
     ]
    }
   ],
   "source": [
    "\n",
    "print(jupyter_table.shape)\n",
    "print(renaming_table.shape)\n",
    "print(longread_hybrid.shape)\n",
    "print(alleged_final.shape)\n",
    "\n"
   ]
  },
  {
   "cell_type": "code",
   "execution_count": 6,
   "metadata": {},
   "outputs": [
    {
     "name": "stdout",
     "output_type": "stream",
     "text": [
      "Illumina sample IDs:\n",
      "299\n",
      "['ESI26', 'ESI284', 'ESI285', 'ESI286', 'ESI287', 'ESI288a', 'ESI289', 'ESI28', 'ESI290', 'ESI291', 'ESI292', 'ESI294', 'ESI295', 'ESI297', 'ESI299', 'ESI300', 'ESI301', 'ESI303', 'ESI304', 'ESI305', 'ESI306', 'ESI307', 'ESI308', 'ESI309', 'ESI311', 'ESI312', 'ESI313', 'ESI314', 'ESI315', 'ESI316', 'ESI317', 'ESI318', 'ESI319', 'ESI320', 'ESI322', 'ESI323', 'UCT104', 'UCT106', 'UCT109', 'UCT110', 'UCT113', 'UCT115', 'UCT121', 'UCT29', 'UCT30', 'UCT31', 'UCT32', 'UCT35', 'UCT50', 'UCT51', 'UCT62', 'UCT66', 'UCT69', 'UCT73', 'UCT74', 'UCT76', 'UCT83', 'UCT92', 'UCT96', 'UMA10', 'UMA11', 'UMA127', 'UMA12', 'UMA13', 'UMA14', 'UMA15', 'UMA16', 'UMA1', 'UMA2', 'UMA3', 'UMA4', 'UMA5', 'UMA7', 'UMA8', 'UMA9', 'UNY129', 'UNY130', 'UNY131', 'UNY132', 'UNY133', 'UNY134', 'UNY135', 'UNY136', 'UNY137', 'UNY138', 'UNY139', 'UNY140', 'UNY141', 'UNY142', 'UNY143', 'UNY144', 'UNY145', 'UNY146', 'UNY147', 'UNY148', 'UNY149', 'UNY150', 'UNY151', 'UNY152', 'UNY153', 'UNY154', 'UNY155', 'UNY156', 'UNY157', 'UNY158', 'UNY159', 'UNY160', 'UNY161', 'UNY162', 'UNY163', 'UNY164', 'UNY165', 'UNY166', 'UNY167', 'UNY168', 'UNY169', 'UNY170', 'UNY171', 'UNY172', 'UNY173', 'UNY174', 'UNY175', 'UNY176', 'UNY177', 'UNY178', 'UNY179', 'UNY180', 'UNY181', 'UNY182', 'UNY183', 'UNY184', 'UNY185', 'UNY187', 'UNY188', 'UNY189', 'UNY190', 'UNY191', 'UNY192', 'UNY193', 'UNY194', 'UNY195', 'UNY196', 'UNY197', 'UNY199', 'UNY200', 'UNY201', 'UNY202', 'UNY203', 'UNY204', 'UNY205', 'UNY206', 'UNY207', 'UNY208', 'UNY209', 'UNY210', 'UNY211', 'UNY212', 'UNY213', 'UNY214', 'UNY215', 'UNY216', 'UNY217', 'UNY218', 'URI100', 'URI101', 'URI102', 'URI103', 'URI105', 'URI107', 'URI108', 'URI111', 'URI112', 'URI114', 'URI116', 'URI117', 'URI118', 'URI119', 'URI120', 'URI122', 'URI17', 'URI19', 'URI20', 'URI219', 'URI22', 'URI23', 'URI24', 'URI33', 'URI34', 'URI36', 'URI37', 'URI38', 'URI39', 'URI40', 'URI41', 'URI42', 'URI43', 'URI44', 'URI46', 'URI47', 'URI48', 'URI49', 'URI52', 'URI53', 'URI54', 'URI55', 'URI56', 'URI57', 'URI58', 'URI59', 'URI60', 'URI61', 'URI63', 'URI64', 'URI65', 'URI67', 'URI68', 'URI70', 'URI71', 'URI72', 'URI75', 'URI77', 'URI78', 'URI79', 'URI81', 'URI84', 'URI85', 'URI86', 'URI87', 'URI88', 'URI89', 'URI90', 'URI91', 'URI93', 'URI94', 'URI97', 'URI98', 'URI99', 'UWI220', 'UWI221', 'UWI222', 'UWI223', 'UWI224', 'UWI225', 'UWI226', 'UWI227', 'UWI228', 'UWI229', 'UWI230', 'UWI231', 'UWI232', 'UWI233', 'UWI234', 'UWI235', 'UWI236', 'UWI237', 'UWI238', 'UWI239', 'UWI240', 'UWI241', 'UWI242', 'UWI243', 'UWI244', 'UWI245', 'UWI246', 'UWI247', 'UWI248', 'UWI249', 'UWI250', 'UWI251', 'UWI252', 'UWI253', 'UWI254', 'UWI255', 'UWI256', 'UWI257', 'UWI258', 'UWI260', 'UWI261', 'UWI262', 'UWI263', 'UWI264', 'UWI265', 'UWI267', 'UWI268', 'UWI269', 'UWI270', 'UWI271', 'UWI272', 'UWI273', 'UWI274', 'UWI275', 'UWI276', 'UWI277', 'UWI278', 'UWI279', 'UWI280', 'UWI281', 'UWI282', 'UWI283']\n",
      "PacBio sample IDs:\n",
      "19\n",
      "['B247', 'B331', 'B348', 'B356', 'B418', 'B477', 'B483', 'B500', 'BL206', 'BL224', 'BL515', 'BL522', 'BL546', 'MC104', 'MC105', 'MC123', 'MC149', 'MR614', 'MR616']\n",
      "Hybrid sample IDs:\n",
      "47\n",
      "['EU14_B89613', 'EU51_B192411', 'EU57_B190413', 'K1', 'K10', 'K11', 'K12', 'K13', 'K15', 'K16', 'K17', 'K18', 'K19', 'K2', 'K21', 'K22', 'K24', 'K25', 'K3', 'K30', 'K56', 'K57', 'K58', 'K59', 'K6', 'K60', 'K62', 'K64', 'K66', 'K69', 'K7', 'K70', 'K71', 'K72', 'K73', 'K74', 'K75', 'K76', 'K80', 'K82', 'K83', 'K84', 'K86', 'K89', 'K90', 'L113', 'XD1']\n",
      "Nanopore sample IDs:\n",
      "13\n",
      "['5A18NP1-JBb08-A', '5A18NP1-JBb08-B', '5A18NP1-JBb08-C', '5A18NP1-JBb08-D', '5A18NP1-JBb08-E', 'B31-5A4', 'B31-K2', 'BB-8', 'BG001_C7', 'BL082_H1', 'BL091_B31E2_erpP', 'HB-19', 'N40_HP']\n"
     ]
    },
    {
     "data": {
      "text/plain": [
       "378"
      ]
     },
     "execution_count": 6,
     "metadata": {},
     "output_type": "execute_result"
    }
   ],
   "source": [
    "sample_ids_illumina = list(list_of_assemblies[list_of_assemblies['method'] == 'illumina']['sample'])\n",
    "sample_ids_illumina = [x.split('_200')[0] for x in sample_ids_illumina]\n",
    "print(\"Illumina sample IDs:\")\n",
    "print(len(sample_ids_illumina))\n",
    "print(sample_ids_illumina)\n",
    "\n",
    "sample_ids_pacbio = list(list_of_assemblies[list_of_assemblies['method'] == 'pacbio']['sample'])\n",
    "print(\"PacBio sample IDs:\")\n",
    "print(len(sample_ids_pacbio))\n",
    "print(sample_ids_pacbio)\n",
    "\n",
    "sample_ids_hybrid = list(list_of_assemblies[list_of_assemblies['method'] == 'hybrid']['sample'])\n",
    "print(\"Hybrid sample IDs:\")\n",
    "print(len(sample_ids_hybrid))\n",
    "print(sample_ids_hybrid)\n",
    "\n",
    "sample_ids_nanopore = list(list_of_assemblies[list_of_assemblies['method'] == 'nanopore']['sample'])\n",
    "print(\"Nanopore sample IDs:\")\n",
    "print(len(sample_ids_nanopore))\n",
    "print(sample_ids_nanopore)\n",
    "\n",
    "sample_ids = sample_ids_illumina + sample_ids_pacbio + sample_ids_hybrid + sample_ids_nanopore\n",
    "len(sample_ids)\n"
   ]
  },
  {
   "cell_type": "code",
   "execution_count": 56,
   "metadata": {},
   "outputs": [
    {
     "name": "stdout",
     "output_type": "stream",
     "text": [
      "Index(['method', 'sample'], dtype='object')\n",
      "Index(['Rename_A', 'Original_Name', 'Patient Code', 'Origin', 'Location',\n",
      "       'OspC_Type', 'MLST', 'RST_Type', 'OspC_Allele', 'WGS', 'Disseminated',\n",
      "       'Source', 'Multiple_EM(Y/N)', 'skin/blood_pairs', 'Coverage',\n",
      "       '#symptoms', 'Age', 'Sex', 'Year', 'Group', 'Original_Sample_Type',\n",
      "       'Seq_Status', 'Conc.(ng/uL;Qubit)', 'Seq_Date', 'Batch#', 'LaneID',\n",
      "       'Barcode_Index1', 'Genospecies', 'Host', 'Is_Male', 'Is_Female', 'Dx',\n",
      "       'Severity', 'Date_of_initial_EM_exam', 'first', '6m', '12m', 'Species',\n",
      "       'Dissem_binary', 'ACA_binary', 'LNB_binary', 'Notes',\n",
      "       'Additional_Comments_on_Naming', 'Source.1', 'Code', 'Genus',\n",
      "       'Species.1', 'FastQC_1', 'BBDuk', 'FastQC_2', 'Spades', 'BBMerge',\n",
      "       'sp_identification'],\n",
      "      dtype='object')\n",
      "Index(['Rename_A', 'Original_Name', 'Origin', 'Location', 'OspC_Type',\n",
      "       'RST_Type', 'OspC_Allele', 'MLST', 'Disseminated', 'BC + (Y/N)',\n",
      "       'PCR + (Y/N)', 'Source', 'Multiple_EM(Y/N)', 'skin/blood_pairs',\n",
      "       'Coverage', '#symptoms', 'Age', 'Sex', 'Year', 'Group',\n",
      "       'Original_Sample_Type', 'Seq_Status', 'Conc.(ng/uL;Qubit)', 'Seq_Date',\n",
      "       'Batch#', 'LaneID', 'Barcode_Index1', 'Genospecies', 'Host', 'Is_Male',\n",
      "       'Is_Female', 'Severity', 'Dx', 'WGS', 'Date_of_initial_EM_exam',\n",
      "       'first', '6m', '12m', 'Species', 'Dissem_binary', 'ACA_binary',\n",
      "       'LNB_binary', 'Notes', 'Additional_Comments_on_Naming', 'Source.1',\n",
      "       'Code', 'Genus', 'Species.1', 'FastQC_1', 'BBDuk', 'FastQC_2', 'Spades',\n",
      "       'BBMerge', 'sp_identification'],\n",
      "      dtype='object')\n",
      "Index(['New Rename?', 'Rename_A', 'Seq Method?', 'Original_Name', 'Source',\n",
      "       'OspC_Type', 'MLST', 'Disseminated', 'Notes'],\n",
      "      dtype='object')\n",
      "Index(['Rename_A', 'Original_Name', 'Patient Code', 'OspC_Type', 'MLST',\n",
      "       'Location', 'Origin', 'RST_Type', 'OspC_Allele', 'Disseminated'],\n",
      "      dtype='object')\n"
     ]
    }
   ],
   "source": [
    "print(list_of_assemblies.columns)\n",
    "print(jupyter_table.columns)\n",
    "print(renaming_table.columns)\n",
    "print(longread_hybrid.columns)\n",
    "print(alleged_final.columns)\n"
   ]
  },
  {
   "cell_type": "code",
   "execution_count": 57,
   "metadata": {},
   "outputs": [],
   "source": [
    "t0 = jupyter_table[jupyter_table['Original_Name'].isin(sample_ids)]\n",
    "t1 = renaming_table[renaming_table['Original_Name'].isin(sample_ids)]\n",
    "t2 = longread_hybrid[longread_hybrid['Original_Name'].isin(sample_ids)]\n",
    "t3 = alleged_final[(alleged_final['Rename_A'].isin(sample_ids))]"
   ]
  },
  {
   "cell_type": "code",
   "execution_count": 58,
   "metadata": {},
   "outputs": [
    {
     "name": "stdout",
     "output_type": "stream",
     "text": [
      "Index(['Rename_A', 'Original_Name', 'Patient Code', 'OspC_Type', 'MLST',\n",
      "       'Location', 'Origin', 'RST_Type', 'OspC_Allele', 'Disseminated'],\n",
      "      dtype='object')\n",
      "Index(['Original_Name', 'Patient Code', 'OspC_Type', 'MLST', 'Location',\n",
      "       'Origin', 'RST_Type', 'OspC_Allele', 'Disseminated'],\n",
      "      dtype='object')\n"
     ]
    }
   ],
   "source": [
    "print(t3.columns)\n",
    "t3 = t3.drop(columns=['Original_Name']).rename(columns={'Rename_A': 'Original_Name'})\n",
    "print(t3.columns)\n"
   ]
  },
  {
   "cell_type": "code",
   "execution_count": 59,
   "metadata": {},
   "outputs": [
    {
     "name": "stdout",
     "output_type": "stream",
     "text": [
      "(53, 53)\n",
      "(56, 54)\n",
      "(61, 9)\n",
      "(299, 9)\n"
     ]
    }
   ],
   "source": [
    "print(t0.shape)\n",
    "print(t1.shape)\n",
    "print(t2.shape)\n",
    "print(t3.shape)"
   ]
  },
  {
   "cell_type": "code",
   "execution_count": 60,
   "metadata": {},
   "outputs": [
    {
     "name": "stdout",
     "output_type": "stream",
     "text": [
      "Index(['Original_Name', 'MLST', 'OspC_Type', 'RST_Type', 'Source', 'Origin',\n",
      "       'Location', 'skin/blood_pairs', 'Disseminated'],\n",
      "      dtype='object')\n",
      "Index(['Original_Name', 'MLST', 'OspC_Type', 'RST_Type', 'Source', 'Origin',\n",
      "       'Location', 'skin/blood_pairs', 'Disseminated'],\n",
      "      dtype='object')\n",
      "Index(['Original_Name', 'MLST', 'OspC_Type', 'Source', 'Disseminated'], dtype='object')\n",
      "Index(['Original_Name', 'MLST', 'OspC_Type', 'RST_Type', 'Origin', 'Location',\n",
      "       'Disseminated'],\n",
      "      dtype='object')\n"
     ]
    }
   ],
   "source": [
    "columns_to_keep = ['Original_Name','MLST', 'OspC_Type', 'ospC_allele', 'RST_Type','RST','Source', 'Clinical_info', 'Origin', 'Location', 'skin/blood_pairs', 'Multiple_EM','Disseminated']\n",
    "\n",
    "t0 = t0.filter(columns_to_keep)\n",
    "t1 = t1.filter(columns_to_keep)\n",
    "t2 = t2.filter(columns_to_keep)\n",
    "t3 = t3.filter(columns_to_keep)\n",
    "\n",
    "print(t0.columns)\n",
    "print(t1.columns)\n",
    "print(t2.columns)\n",
    "print(t3.columns)"
   ]
  },
  {
   "cell_type": "code",
   "execution_count": 61,
   "metadata": {},
   "outputs": [
    {
     "name": "stdout",
     "output_type": "stream",
     "text": [
      "28        K1\n",
      "29       K11\n",
      "30       K10\n",
      "31       K15\n",
      "32       K16\n",
      "33       K22\n",
      "34       K24\n",
      "35       K25\n",
      "38        K2\n",
      "39        K3\n",
      "40        K6\n",
      "41        K7\n",
      "43       K12\n",
      "44       K13\n",
      "45       K17\n",
      "46       K18\n",
      "47       K19\n",
      "49       K21\n",
      "55       K30\n",
      "85       K56\n",
      "86       K60\n",
      "87       K62\n",
      "88       K64\n",
      "90       K71\n",
      "91       K72\n",
      "92       K73\n",
      "94       K80\n",
      "95       K84\n",
      "100      K57\n",
      "101      K58\n",
      "102      K59\n",
      "106      K66\n",
      "108      K69\n",
      "109      K70\n",
      "110      K74\n",
      "111      K75\n",
      "112      K76\n",
      "116      K82\n",
      "117      K83\n",
      "119      K86\n",
      "123      K90\n",
      "148     B247\n",
      "166     B331\n",
      "168     B348\n",
      "171     B356\n",
      "185     B418\n",
      "192     B477\n",
      "195     B500\n",
      "202    MR616\n",
      "246    MC104\n",
      "247    MC105\n",
      "262    MC123\n",
      "282    MC149\n",
      "Name: Original_Name, dtype: object\n",
      "28         K1\n",
      "29        K11\n",
      "30        K10\n",
      "31        K15\n",
      "32        K16\n",
      "33        K22\n",
      "34        K24\n",
      "35        K25\n",
      "38         K2\n",
      "39         K3\n",
      "40         K6\n",
      "41         K7\n",
      "43        K12\n",
      "45        K17\n",
      "46        K18\n",
      "47        K19\n",
      "49        K21\n",
      "55        K30\n",
      "85        K56\n",
      "86        K60\n",
      "87        K62\n",
      "88        K64\n",
      "90        K71\n",
      "91        K72\n",
      "92        K73\n",
      "95        K84\n",
      "100       K57\n",
      "101       K58\n",
      "102       K59\n",
      "106       K66\n",
      "108       K69\n",
      "109       K70\n",
      "110       K74\n",
      "111       K75\n",
      "112       K76\n",
      "116       K82\n",
      "117       K83\n",
      "119       K86\n",
      "148      B247\n",
      "166      B331\n",
      "168      B348\n",
      "171      B356\n",
      "192      B477\n",
      "195      B500\n",
      "202     MR616\n",
      "246     MC104\n",
      "247     MC105\n",
      "262     MC123\n",
      "282     MC149\n",
      "990      B483\n",
      "1032    BL206\n",
      "1038    BL224\n",
      "1083    BL515\n",
      "1085    BL522\n",
      "1090    BL546\n",
      "1128    MR614\n",
      "Name: Original_Name, dtype: object\n",
      "3        K1\n",
      "4       K11\n",
      "5       K10\n",
      "6       K15\n",
      "7       K16\n",
      "      ...  \n",
      "60     B348\n",
      "61     B356\n",
      "62     B418\n",
      "63     B477\n",
      "64    BL224\n",
      "Name: Original_Name, Length: 61, dtype: object\n",
      "0        UMA1\n",
      "1        UMA2\n",
      "2        UMA3\n",
      "3        UMA4\n",
      "4        UMA5\n",
      "        ...  \n",
      "318    ESI318\n",
      "319    ESI319\n",
      "320    ESI320\n",
      "322    ESI322\n",
      "323    ESI323\n",
      "Name: Original_Name, Length: 299, dtype: object\n"
     ]
    }
   ],
   "source": [
    "print(t0['Original_Name'])\n",
    "print(t1['Original_Name'])\n",
    "print(t2['Original_Name'])\n",
    "print(t3['Original_Name'])"
   ]
  },
  {
   "cell_type": "code",
   "execution_count": null,
   "metadata": {},
   "outputs": [
    {
     "name": "stdout",
     "output_type": "stream",
     "text": [
      "16\n",
      "5A18NP1-JBb08-C\n",
      "N40_HP\n",
      "BB-8\n",
      "B31-5A4\n",
      "EU57_B190413\n",
      "EU51_B192411\n",
      "5A18NP1-JBb08-A\n",
      "5A18NP1-JBb08-D\n",
      "5A18NP1-JBb08-B\n",
      "HB-19\n",
      "B31-K2\n",
      "5A18NP1-JBb08-E\n",
      "EU14_B89613\n",
      "BL082_H1\n",
      "BL091_B31E2_erpP\n",
      "BG001_C7\n"
     ]
    }
   ],
   "source": [
    "# Combine the 'Original_Name' columns from all three tables\n",
    "names_so_far = pandas.concat([t0['Original_Name'], t1['Original_Name'], t2['Original_Name'], t3['Original_Name']])\n",
    "\n",
    "# Get the unique sample IDs that are not present in the 'Original_Name' column\n",
    "missing_sample_ids = list(set(sample_ids) - set(names_so_far))\n",
    "\n",
    "# Print the list of missing sample IDs\n",
    "print(len(missing_sample_ids))\n",
    "\n",
    "for id in missing_sample_ids:\n",
    "    print(id)"
   ]
  },
  {
   "cell_type": "code",
   "execution_count": 63,
   "metadata": {},
   "outputs": [
    {
     "name": "stdout",
     "output_type": "stream",
     "text": [
      "    Original_Name   MLST OspC_Type  RST_Type Source Origin  Location  \\\n",
      "0              K1      1         A       1.0    NaN     US        CT   \n",
      "1             K11      3         K       2.0    NaN     US        CT   \n",
      "2             K10      1         A       1.0    NaN     US        CT   \n",
      "3             K15      3         K       2.0    NaN     US        CT   \n",
      "4             K16      9         N       2.0    NaN     US        RI   \n",
      "..            ...    ...       ...       ...    ...    ...       ...   \n",
      "357        ESI318  ST545         B       1.0    NaN     EU  Slovenia   \n",
      "358        ESI319   ST24         L       3.0    NaN     EU  Slovenia   \n",
      "359        ESI320    546         Q       1.0    NaN     EU  Slovenia   \n",
      "360        ESI322   ST24         L       3.0    NaN     EU  Slovenia   \n",
      "361        ESI323    799         L       3.0    NaN     EU  Slovenia   \n",
      "\n",
      "    skin/blood_pairs Disseminated  \n",
      "0                NaN            D  \n",
      "1                NaN            D  \n",
      "2                NaN            D  \n",
      "3                NaN            D  \n",
      "4                NaN            D  \n",
      "..               ...          ...  \n",
      "357              NaN          NaN  \n",
      "358              NaN          NaN  \n",
      "359              NaN          NaN  \n",
      "360              NaN          NaN  \n",
      "361              NaN          NaN  \n",
      "\n",
      "[362 rows x 9 columns]\n"
     ]
    }
   ],
   "source": [
    "merged = pandas.concat([t0,t1,t2,t3])\n",
    "#print(merged)\n",
    "merged_no_duplicates = merged.drop_duplicates(keep='first', subset='Original_Name', inplace=False)\n",
    "merged_no_duplicates = merged_no_duplicates.merge(list_of_assemblies, right_on='sample', left_on='Original_Name', how='left')\n",
    "merged_no_duplicates = merged_no_duplicates.drop(columns=['method','sample'])\n",
    "print(merged_no_duplicates)"
   ]
  },
  {
   "cell_type": "code",
   "execution_count": 65,
   "metadata": {},
   "outputs": [
    {
     "name": "stdout",
     "output_type": "stream",
     "text": [
      "             Isolate   ST\n",
      "0    5A18NP1-JBb08-A    1\n",
      "1             UNY147  14~\n",
      "2    5A18NP1-JBb08-C    1\n",
      "3    5A18NP1-JBb08-B    1\n",
      "4    5A18NP1-JBb08-E    1\n",
      "..               ...  ...\n",
      "374              K60   1~\n",
      "375              K82    3\n",
      "376              K11    3\n",
      "377              K59    3\n",
      "378              K69    1\n",
      "\n",
      "[379 rows x 2 columns]\n"
     ]
    }
   ],
   "source": [
    "mlst_results = pandas.read_csv(\"mlst_results_allele_v2.csv\", delimiter='\\t', header=0)\n",
    "mlst_results = mlst_results[['Isolate', 'ST']]\n",
    "mlst_results['Isolate'] = mlst_results['Isolate'].str.replace('.hybrid.assembly.contigs', '')\n",
    "mlst_results['Isolate'] = mlst_results['Isolate'].str.replace('_200', '')\n",
    "print(mlst_results)"
   ]
  },
  {
   "cell_type": "code",
   "execution_count": 66,
   "metadata": {},
   "outputs": [
    {
     "name": "stdout",
     "output_type": "stream",
     "text": [
      "             Isolate   ST MLST OspC_Type  RST_Type Source Origin Location  \\\n",
      "0    5A18NP1-JBb08-A    1  NaN       NaN       NaN    NaN    NaN      NaN   \n",
      "1             UNY147  14~   34         J       3.0    NaN     US       NY   \n",
      "2    5A18NP1-JBb08-C    1  NaN       NaN       NaN    NaN    NaN      NaN   \n",
      "3    5A18NP1-JBb08-B    1  NaN       NaN       NaN    NaN    NaN      NaN   \n",
      "4    5A18NP1-JBb08-E    1  NaN       NaN       NaN    NaN    NaN      NaN   \n",
      "..               ...  ...  ...       ...       ...    ...    ...      ...   \n",
      "374              K60   1~  NaN         A       1.0    NaN     US       RI   \n",
      "375              K82    3    3         K       2.0    NaN     US       RI   \n",
      "376              K11    3    3         K       2.0    NaN     US       CT   \n",
      "377              K59    3    3         K       2.0    NaN     US       RI   \n",
      "378              K69    1    1         A       1.0    NaN     US       CT   \n",
      "\n",
      "    skin/blood_pairs Disseminated  \n",
      "0                NaN          NaN  \n",
      "1                NaN            L  \n",
      "2                NaN          NaN  \n",
      "3                NaN          NaN  \n",
      "4                NaN          NaN  \n",
      "..               ...          ...  \n",
      "374              NaN            D  \n",
      "375              NaN            L  \n",
      "376              NaN            D  \n",
      "377              NaN            L  \n",
      "378              NaN            L  \n",
      "\n",
      "[379 rows x 10 columns]\n"
     ]
    }
   ],
   "source": [
    "mlst_results = mlst_results.merge(merged_no_duplicates, right_on='Original_Name', left_on='Isolate', how='left')\n",
    "mlst_results = mlst_results.drop(columns=['Original_Name'])\n",
    "print(mlst_results)"
   ]
  },
  {
   "cell_type": "code",
   "execution_count": 67,
   "metadata": {},
   "outputs": [
    {
     "name": "stdout",
     "output_type": "stream",
     "text": [
      "             Isolate MLST OspC_Type  RST_Type Source Origin Location  \\\n",
      "0    5A18NP1-JBb08-A    1       NaN       NaN    NaN    NaN      NaN   \n",
      "1             UNY147   34         J       3.0    NaN     US       NY   \n",
      "2    5A18NP1-JBb08-C    1       NaN       NaN    NaN    NaN      NaN   \n",
      "3    5A18NP1-JBb08-B    1       NaN       NaN    NaN    NaN      NaN   \n",
      "4    5A18NP1-JBb08-E    1       NaN       NaN    NaN    NaN      NaN   \n",
      "..               ...  ...       ...       ...    ...    ...      ...   \n",
      "374              K60    1         A       1.0    NaN     US       RI   \n",
      "375              K82    3         K       2.0    NaN     US       RI   \n",
      "376              K11    3         K       2.0    NaN     US       CT   \n",
      "377              K59    3         K       2.0    NaN     US       RI   \n",
      "378              K69    1         A       1.0    NaN     US       CT   \n",
      "\n",
      "    skin/blood_pairs Disseminated    method  \n",
      "0                NaN          NaN  nanopore  \n",
      "1                NaN            L  illumina  \n",
      "2                NaN          NaN  nanopore  \n",
      "3                NaN          NaN  nanopore  \n",
      "4                NaN          NaN  nanopore  \n",
      "..               ...          ...       ...  \n",
      "374              NaN            D    hybrid  \n",
      "375              NaN            L    hybrid  \n",
      "376              NaN            D    hybrid  \n",
      "377              NaN            L    hybrid  \n",
      "378              NaN            L    hybrid  \n",
      "\n",
      "[379 rows x 10 columns]\n"
     ]
    }
   ],
   "source": [
    "mlst_results['ST'] = mlst_results['ST'].str.replace('~','')\n",
    "mlst_results['MLST'] = mlst_results['MLST'].where(mlst_results['MLST'].notnull(), mlst_results['ST'])\n",
    "mlst_results = mlst_results.drop(columns='ST')\n",
    "mlst_results['MLST'] = mlst_results['MLST'].str.replace('ST','')\n",
    "mlst_results = mlst_results.merge(list_of_assemblies, left_on='Isolate', right_on='sample', how='left')\n",
    "mlst_results = mlst_results.drop(columns='sample')\n",
    "print(mlst_results)\n"
   ]
  },
  {
   "cell_type": "code",
   "execution_count": 68,
   "metadata": {},
   "outputs": [
    {
     "name": "stdout",
     "output_type": "stream",
     "text": [
      "             Isolate MLST OspC_Type  RST_Type   Source Origin Location  \\\n",
      "0    5A18NP1-JBb08-A    1       NaN       NaN  culture     US       NY   \n",
      "1             UNY147   34         J       3.0      NaN     US       NY   \n",
      "2    5A18NP1-JBb08-C    1       NaN       NaN  culture     US       NY   \n",
      "3    5A18NP1-JBb08-B    1       NaN       NaN  culture     US       NY   \n",
      "4    5A18NP1-JBb08-E    1       NaN       NaN  culture     US       NY   \n",
      "..               ...  ...       ...       ...      ...    ...      ...   \n",
      "374              K60    1         A       1.0      NaN     US       RI   \n",
      "375              K82    3         K       2.0      NaN     US       RI   \n",
      "376              K11    3         K       2.0      NaN     US       CT   \n",
      "377              K59    3         K       2.0      NaN     US       RI   \n",
      "378              K69    1         A       1.0      NaN     US       CT   \n",
      "\n",
      "    skin/blood_pairs Disseminated    method  \n",
      "0                NaN          NaN  nanopore  \n",
      "1                NaN            L  illumina  \n",
      "2                NaN          NaN  nanopore  \n",
      "3                NaN          NaN  nanopore  \n",
      "4                NaN          NaN  nanopore  \n",
      "..               ...          ...       ...  \n",
      "374              NaN            D    hybrid  \n",
      "375              NaN            L    hybrid  \n",
      "376              NaN            D    hybrid  \n",
      "377              NaN            L    hybrid  \n",
      "378              NaN            L    hybrid  \n",
      "\n",
      "[379 rows x 10 columns]\n"
     ]
    }
   ],
   "source": [
    "origin = \"US\"\n",
    "location = \"NY\"\n",
    "source = \"culture\"\n",
    "mlst_results.loc[mlst_results['method'] == 'nanopore', 'Origin'] = origin\n",
    "mlst_results.loc[mlst_results['method'] == 'nanopore', 'Location'] = location\n",
    "mlst_results.loc[mlst_results['method'] == 'nanopore', 'Source'] = source\n",
    "print(mlst_results)\n"
   ]
  },
  {
   "cell_type": "code",
   "execution_count": 69,
   "metadata": {},
   "outputs": [],
   "source": [
    "mlst_results.to_csv('longread_metadata_v2.csv', index=False)\n"
   ]
  },
  {
   "cell_type": "code",
   "execution_count": 70,
   "metadata": {},
   "outputs": [
    {
     "name": "stdout",
     "output_type": "stream",
     "text": [
      "362\n",
      "379\n",
      "379\n"
     ]
    }
   ],
   "source": [
    "#merged_no_duplicates.to_csv('merged_metadata_20240227.csv', index=False, header=True)\n",
    "print(len(merged_no_duplicates)) # all data sans nanopore\n",
    "print(len(list_of_assemblies)) # all data used for pangenome assembly\n",
    "print(len(mlst_results)) # data that was actually MLST typed"
   ]
  },
  {
   "cell_type": "code",
   "execution_count": null,
   "metadata": {},
   "outputs": [],
   "source": []
  },
  {
   "cell_type": "code",
   "execution_count": null,
   "metadata": {},
   "outputs": [],
   "source": []
  }
 ],
 "metadata": {
  "kernelspec": {
   "display_name": "Python 3",
   "language": "python",
   "name": "python3"
  },
  "language_info": {
   "codemirror_mode": {
    "name": "ipython",
    "version": 3
   },
   "file_extension": ".py",
   "mimetype": "text/x-python",
   "name": "python",
   "nbconvert_exporter": "python",
   "pygments_lexer": "ipython3",
   "version": "3.11.7"
  }
 },
 "nbformat": 4,
 "nbformat_minor": 2
}
