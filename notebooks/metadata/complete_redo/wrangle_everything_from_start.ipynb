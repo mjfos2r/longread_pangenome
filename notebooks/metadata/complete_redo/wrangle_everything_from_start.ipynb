{
 "cells": [
  {
   "cell_type": "code",
   "execution_count": 1,
   "metadata": {},
   "outputs": [],
   "source": [
    "# Okay so apparently I'm missing something. I need to start with the list of pacbio assemblies, hybrid assemblies, and then\n",
    "# populate the rest with the corresponding illumina assemblies.\n",
    "\n",
    "# To start, I'm going to need to figure out where those samples are hiding in the numerous csvs.\n",
    "# then pull everything into separate dataframes.\n",
    "# then make sure the renaming is kept consistent,\n",
    "# then merge\n",
    "# then create a sed script to rename all of the hybrid and pacbio files.\n",
    "# then re-run roary/annotate/etc.\n"
   ]
  },
  {
   "cell_type": "code",
   "execution_count": 5,
   "metadata": {},
   "outputs": [],
   "source": [
    "# Lets begin by importing pandas and pulling in all of our metadata tables.\n",
    "\n",
    "import pandas\n",
    "import os\n",
    "import glob"
   ]
  },
  {
   "cell_type": "code",
   "execution_count": 16,
   "metadata": {},
   "outputs": [
    {
     "name": "stdout",
     "output_type": "stream",
     "text": [
      "/Users/mf019/bioinformatics/longread_GWAS/notebooks/metadata/complete_redo\n",
      "['LymeSeq_SampleTrack - Repeated Sequence Sheet.csv', 'LymeSeq_SampleTrack - EUDNA.csv', 'LymeSeq_SampleTrack - Preliminary Dissemination Supplementary Table.csv', 'LymeSeq_SampleTrack - Details on Second Set.csv', 'LymeSeq_SampleTrack - Ira strains_original.csv', 'LymeSeq_SampleTrack - Final Strain List (1).csv', 'LymeSeq_SampleTrack - Whole Genome Sequenced Table (1).csv', 'LymeSeq_SampleTrack - Details on First Set.csv', 'LymeSeq_SampleTrack - Renaming Scheme Table for Jupyter (1).csv', 'LymeSeq_SampleTrack - Sheet3.csv', 'LymeSeq_SampleTrack - Renaming Scheme Table Updated (1).csv', 'LymeSeq_SampleTrack - Missing Info Sheet.csv', 'LymeSeq_SampleTrack - Renaming Scheme Key (1).csv', 'LymeSeq_SampleTrack.xlsx', 'LymeSeq_SampleTrack - Details on Combined Sets.csv', 'LymeSeq_SampleTrack - Final Strain Regions.csv']\n",
      "15\n"
     ]
    }
   ],
   "source": [
    "# now lets get our current path, and then glob a list of all of the csv files.\n",
    "print(os.getcwd())\n",
    "path_to_metadata_files = '../lymeseq_original_sheets'\n",
    "print(os.listdir(path_to_metadata_files))\n",
    "list_of_input_metadata_files = glob.glob(f'{path_to_metadata_files}/*.csv')\n",
    "print(len(list_of_input_metadata_files))"
   ]
  },
  {
   "cell_type": "code",
   "execution_count": 17,
   "metadata": {},
   "outputs": [
    {
     "name": "stdout",
     "output_type": "stream",
     "text": [
      "0 ../lymeseq_original_sheets/LymeSeq_SampleTrack - Repeated Sequence Sheet.csv\n",
      "1 ../lymeseq_original_sheets/LymeSeq_SampleTrack - EUDNA.csv\n",
      "2 ../lymeseq_original_sheets/LymeSeq_SampleTrack - Preliminary Dissemination Supplementary Table.csv\n",
      "3 ../lymeseq_original_sheets/LymeSeq_SampleTrack - Details on Second Set.csv\n",
      "4 ../lymeseq_original_sheets/LymeSeq_SampleTrack - Ira strains_original.csv\n",
      "5 ../lymeseq_original_sheets/LymeSeq_SampleTrack - Final Strain List (1).csv\n",
      "6 ../lymeseq_original_sheets/LymeSeq_SampleTrack - Whole Genome Sequenced Table (1).csv\n",
      "7 ../lymeseq_original_sheets/LymeSeq_SampleTrack - Details on First Set.csv\n",
      "8 ../lymeseq_original_sheets/LymeSeq_SampleTrack - Renaming Scheme Table for Jupyter (1).csv\n",
      "9 ../lymeseq_original_sheets/LymeSeq_SampleTrack - Sheet3.csv\n",
      "10 ../lymeseq_original_sheets/LymeSeq_SampleTrack - Renaming Scheme Table Updated (1).csv\n",
      "11 ../lymeseq_original_sheets/LymeSeq_SampleTrack - Missing Info Sheet.csv\n",
      "12 ../lymeseq_original_sheets/LymeSeq_SampleTrack - Renaming Scheme Key (1).csv\n",
      "13 ../lymeseq_original_sheets/LymeSeq_SampleTrack - Details on Combined Sets.csv\n",
      "14 ../lymeseq_original_sheets/LymeSeq_SampleTrack - Final Strain Regions.csv\n"
     ]
    }
   ],
   "source": [
    "# ok now lets import them all into a big list of dataframes?\n",
    "metadata_dict = {}\n",
    "for index, input_file in enumerate(list_of_input_metadata_files):\n",
    "    print(index, input_file)"
   ]
  },
  {
   "cell_type": "code",
   "execution_count": null,
   "metadata": {},
   "outputs": [],
   "source": []
  }
 ],
 "metadata": {
  "kernelspec": {
   "display_name": "Python 3",
   "language": "python",
   "name": "python3"
  },
  "language_info": {
   "codemirror_mode": {
    "name": "ipython",
    "version": 3
   },
   "file_extension": ".py",
   "mimetype": "text/x-python",
   "name": "python",
   "nbconvert_exporter": "python",
   "pygments_lexer": "ipython3",
   "version": "3.11.7"
  }
 },
 "nbformat": 4,
 "nbformat_minor": 2
}
