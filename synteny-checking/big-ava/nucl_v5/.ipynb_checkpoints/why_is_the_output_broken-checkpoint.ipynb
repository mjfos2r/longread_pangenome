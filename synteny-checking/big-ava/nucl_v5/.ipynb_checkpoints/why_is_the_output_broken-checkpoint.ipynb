{
 "cells": [
  {
   "cell_type": "markdown",
   "id": "e037d48b-7df6-4578-898f-aa56a35652d5",
   "metadata": {},
   "source": [
    "# Looking at ~~v4~~ parsed output to see why it's so BROKEN"
   ]
  },
  {
   "cell_type": "code",
   "execution_count": 10,
   "id": "3a2a0c18-4916-40c8-be61-ba3f6e013e0a",
   "metadata": {},
   "outputs": [],
   "source": [
    "import os\n",
    "import glob\n",
    "from rich.progress import Progress\n",
    "from Bio import SeqIO\n",
    "\n",
    "def process_results(results_dir):\n",
    "    source_assemblies = set()\n",
    "    target_assemblies = set()\n",
    "    source_contigs = set()\n",
    "    target_contigs = set()\n",
    "    result_count = 0\n",
    "\n",
    "    with Progress() as progress:\n",
    "        task = progress.add_task('Getting results', total=len(os.listdir(results_dir)))\n",
    "        for result in os.listdir(results_dir):\n",
    "            source_contig, target_contig = result.split('_vs_')\n",
    "            source_assembly = target_assembly = source_contig.split('_')[0]\n",
    "            \n",
    "            source_assemblies.add(source_assembly)\n",
    "            target_assemblies.add(target_assembly)\n",
    "            source_contigs.add(source_contig)\n",
    "            target_contigs.add(target_contig)\n",
    "            \n",
    "            result_count += 1\n",
    "            progress.update(task, advance=1)\n",
    "        \n",
    "        progress.update(task, total=result_count, completed=result_count, description='Finished processing')\n",
    "    \n",
    "    return source_assemblies, target_assemblies, source_contigs, target_contigs, result_count\n",
    "\n",
    "def check_duplicates(file_path):\n",
    "    matrix_cols = set()\n",
    "    duplicated_contigs = []\n",
    "\n",
    "    with open(file_path, 'r') as infile:\n",
    "        for line in infile:\n",
    "            asm_contig = line.strip()\n",
    "            if asm_contig not in matrix_cols:\n",
    "                matrix_cols.add(asm_contig)\n",
    "            else:\n",
    "                print(f\"DUPLICATE DETECTED!!!!!!{asm_contig}\")\n",
    "                duplicated_contigs.append(asm_contig)\n",
    "    \n",
    "    return matrix_cols, duplicated_contigs\n",
    "\n",
    "def check_matrix_results(matrix_cols):\n",
    "    matrix_source_assemblies = set()\n",
    "    matrix_source_contigs = set()\n",
    "    result_count = 0\n",
    "\n",
    "    with Progress() as progress:\n",
    "        task = progress.add_task('Checking matrix results to determine what broke!!!!', total=len(matrix_cols))\n",
    "        for result in matrix_cols:\n",
    "            source_contig = result.split('_vs_')[0]\n",
    "            source_assembly = source_contig.split('_')[0]\n",
    "            matrix_source_assemblies.add(source_assembly)\n",
    "            matrix_source_contigs.add(source_contig)\n",
    "            result_count += 1\n",
    "            progress.update(task, advance=1)\n",
    "        progress.update(task, total=result_count, completed=result_count, description='Finished checking!!!')\n",
    "    return matrix_source_assemblies, matrix_source_contigs\n",
    "\n",
    "def find_missing_items(source_set, matrix_set):\n",
    "    return source_set - matrix_set\n",
    "\n",
    "def print_missing_contig_lengths(missing_contigs, genbank_dir):\n",
    "    print(\"getting the lengths of those missing contigs:\")\n",
    "    if len(missing_contigs) > 0:\n",
    "        for contig in missing_contigs:\n",
    "            records = list(SeqIO.parse(f'{genbank_dir}/{contig}.gbff', 'genbank'))\n",
    "            for rec in records:\n",
    "                print(f'{contig}, length: {len(rec.seq)}')\n",
    "        print('\\n')\n",
    "    else:\n",
    "        print(\"NO MISSING CONTIGS!!!\\n\")\n",
    "\n",
    "def print_set_lengths(source_assemblies, target_assemblies, source_contigs, target_contigs):\n",
    "    print(f'source_assemblies: {len(source_assemblies)}')\n",
    "    print(f'target_assemblies: {len(target_assemblies)}\\n')\n",
    "    print(f'source_contigs: {len(source_contigs)}')\n",
    "    print(f'target_contigs: {len(target_contigs)}\\n')\n",
    "\n",
    "def print_matrix_lengths(matrix_source_assemblies, matrix_source_contigs):\n",
    "    print(f'Parsed assemblies: {len(matrix_source_assemblies)}')\n",
    "    print(f'Parsed contigs: {len(matrix_source_contigs)}\\n')\n",
    "\n",
    "def print_missing_items(missing_assemblies, missing_contigs):\n",
    "    print(f'missing assemblies: {missing_assemblies}')\n",
    "    print(f'missing contigs: {missing_contigs}\\n')\n",
    "\n",
    "def scuffbuster(results_dir, v4_results_from_parsing, genbank_dir):\n",
    "    # Process results\n",
    "    source_assemblies, target_assemblies, source_contigs, target_contigs, _ = process_results(results_dir)\n",
    "    # Check for duplicates\n",
    "    matrix_cols, duplicated_contigs = check_duplicates(v4_results_from_parsing)\n",
    "    # Print initial results\n",
    "    print_set_lengths(source_assemblies, target_assemblies, source_contigs, target_contigs)\n",
    "    # Check matrix results\n",
    "    matrix_source_assemblies, matrix_source_contigs = check_matrix_results(matrix_cols)\n",
    "    print_matrix_lengths(matrix_source_assemblies, matrix_source_contigs)\n",
    "    # Find missing items\n",
    "    missing_assemblies = find_missing_items(source_assemblies, matrix_source_assemblies)\n",
    "    missing_contigs = find_missing_items(source_contigs, matrix_source_contigs)\n",
    "    print_missing_items(missing_assemblies, missing_contigs)\n",
    "    # Print missing contig lengths\n",
    "    print_missing_contig_lengths(missing_contigs, genbank_dir)"
   ]
  },
  {
   "cell_type": "code",
   "execution_count": 11,
   "id": "63fe0db9-ae1e-4aa5-8586-d50a0392adba",
   "metadata": {},
   "outputs": [
    {
     "data": {
      "application/vnd.jupyter.widget-view+json": {
       "model_id": "181f4d2eaf5a405a86172efe807bcc18",
       "version_major": 2,
       "version_minor": 0
      },
      "text/plain": [
       "Output()"
      ]
     },
     "metadata": {},
     "output_type": "display_data"
    },
    {
     "data": {
      "text/html": [
       "<pre style=\"white-space:pre;overflow-x:auto;line-height:normal;font-family:Menlo,'DejaVu Sans Mono',consolas,'Courier New',monospace\"></pre>\n"
      ],
      "text/plain": []
     },
     "metadata": {},
     "output_type": "display_data"
    },
    {
     "data": {
      "text/html": [
       "<pre style=\"white-space:pre;overflow-x:auto;line-height:normal;font-family:Menlo,'DejaVu Sans Mono',consolas,'Courier New',monospace\">\n",
       "</pre>\n"
      ],
      "text/plain": [
       "\n"
      ]
     },
     "metadata": {},
     "output_type": "display_data"
    },
    {
     "data": {
      "application/vnd.jupyter.widget-view+json": {
       "model_id": "163b2fbacc294481a151875729ab691a",
       "version_major": 2,
       "version_minor": 0
      },
      "text/plain": [
       "Output()"
      ]
     },
     "metadata": {},
     "output_type": "display_data"
    },
    {
     "name": "stdout",
     "output_type": "stream",
     "text": [
      "source_assemblies: 49\n",
      "target_assemblies: 49\n",
      "\n",
      "source_contigs: 2942\n",
      "target_contigs: 2942\n",
      "\n"
     ]
    },
    {
     "data": {
      "text/html": [
       "<pre style=\"white-space:pre;overflow-x:auto;line-height:normal;font-family:Menlo,'DejaVu Sans Mono',consolas,'Courier New',monospace\"></pre>\n"
      ],
      "text/plain": []
     },
     "metadata": {},
     "output_type": "display_data"
    },
    {
     "data": {
      "text/html": [
       "<pre style=\"white-space:pre;overflow-x:auto;line-height:normal;font-family:Menlo,'DejaVu Sans Mono',consolas,'Courier New',monospace\">\n",
       "</pre>\n"
      ],
      "text/plain": [
       "\n"
      ]
     },
     "metadata": {},
     "output_type": "display_data"
    },
    {
     "name": "stdout",
     "output_type": "stream",
     "text": [
      "Parsed assemblies: 49\n",
      "Parsed contigs: 2931\n",
      "\n",
      "missing assemblies: set()\n",
      "missing contigs: {'UCT35H_contig000027', 'UCT35H_contig000025', 'URI48H_contig000022', 'UCT35H_contig000030', 'URI48H_contig000021', 'ESI26H_contig000036', 'UCT35H_contig000032', 'UCT50H_contig000077', 'UCT113H_contig000142', 'UCT113H_contig000183', 'URI36H_contig000037', 'ESI26H_contig000034'}\n",
      "\n",
      "getting the lengths of those missing contigs:\n",
      "UCT35H_contig000027, length: 281\n",
      "UCT35H_contig000025, length: 315\n",
      "URI48H_contig000022, length: 106\n",
      "UCT35H_contig000030, length: 174\n",
      "URI48H_contig000021, length: 108\n",
      "ESI26H_contig000036, length: 376\n",
      "UCT35H_contig000032, length: 152\n",
      "UCT50H_contig000077, length: 142\n",
      "UCT113H_contig000142, length: 182\n",
      "UCT113H_contig000183, length: 139\n",
      "URI36H_contig000037, length: 437\n",
      "ESI26H_contig000034, length: 393\n",
      "\n",
      "\n"
     ]
    }
   ],
   "source": [
    "results_dir = '/mnt/disks/big-results/asms_all_v_all/homology'\n",
    "parsed_v4 = 'v4/ava_homology_np_matrix_labels_v4.txt'\n",
    "parsed_v5 = 'v5/ava_homology_np_matrix_labels_v5.txt'\n",
    "genbanks = '/home/mf019/longread_pangenome/synteny/asm_genbanks'\n",
    "\n",
    "scuffbuster(results_dir, parsed_v4, genbanks)"
   ]
  },
  {
   "cell_type": "code",
   "execution_count": 12,
   "id": "ed18105e-acdf-492e-b2ae-10bbeb32cfed",
   "metadata": {},
   "outputs": [
    {
     "data": {
      "application/vnd.jupyter.widget-view+json": {
       "model_id": "94bd248b10164bc9b8e9960fdc900211",
       "version_major": 2,
       "version_minor": 0
      },
      "text/plain": [
       "Output()"
      ]
     },
     "metadata": {},
     "output_type": "display_data"
    },
    {
     "data": {
      "text/html": [
       "<pre style=\"white-space:pre;overflow-x:auto;line-height:normal;font-family:Menlo,'DejaVu Sans Mono',consolas,'Courier New',monospace\"></pre>\n"
      ],
      "text/plain": []
     },
     "metadata": {},
     "output_type": "display_data"
    },
    {
     "data": {
      "text/html": [
       "<pre style=\"white-space:pre;overflow-x:auto;line-height:normal;font-family:Menlo,'DejaVu Sans Mono',consolas,'Courier New',monospace\">\n",
       "</pre>\n"
      ],
      "text/plain": [
       "\n"
      ]
     },
     "metadata": {},
     "output_type": "display_data"
    },
    {
     "data": {
      "application/vnd.jupyter.widget-view+json": {
       "model_id": "22dadc54ff5c46ef8635355f1fc4630b",
       "version_major": 2,
       "version_minor": 0
      },
      "text/plain": [
       "Output()"
      ]
     },
     "metadata": {},
     "output_type": "display_data"
    },
    {
     "name": "stdout",
     "output_type": "stream",
     "text": [
      "source_assemblies: 49\n",
      "target_assemblies: 49\n",
      "\n",
      "source_contigs: 2942\n",
      "target_contigs: 2942\n",
      "\n"
     ]
    },
    {
     "data": {
      "text/html": [
       "<pre style=\"white-space:pre;overflow-x:auto;line-height:normal;font-family:Menlo,'DejaVu Sans Mono',consolas,'Courier New',monospace\"></pre>\n"
      ],
      "text/plain": []
     },
     "metadata": {},
     "output_type": "display_data"
    },
    {
     "data": {
      "text/html": [
       "<pre style=\"white-space:pre;overflow-x:auto;line-height:normal;font-family:Menlo,'DejaVu Sans Mono',consolas,'Courier New',monospace\">\n",
       "</pre>\n"
      ],
      "text/plain": [
       "\n"
      ]
     },
     "metadata": {},
     "output_type": "display_data"
    },
    {
     "name": "stdout",
     "output_type": "stream",
     "text": [
      "Parsed assemblies: 49\n",
      "Parsed contigs: 2943\n",
      "\n",
      "missing assemblies: set()\n",
      "missing contigs: set()\n",
      "\n",
      "getting the lengths of those missing contigs:\n",
      "NO MISSING CONTIGS!!!\n",
      "\n"
     ]
    }
   ],
   "source": [
    "scuffbuster(results_dir, parsed_v5, genbanks)"
   ]
  },
  {
   "cell_type": "code",
   "execution_count": null,
   "id": "ef9e79e9-8f5b-4449-8555-40e26b2e165b",
   "metadata": {},
   "outputs": [],
   "source": []
  }
 ],
 "metadata": {
  "kernelspec": {
   "display_name": "Python 3 (ipykernel)",
   "language": "python",
   "name": "python3"
  },
  "language_info": {
   "codemirror_mode": {
    "name": "ipython",
    "version": 3
   },
   "file_extension": ".py",
   "mimetype": "text/x-python",
   "name": "python",
   "nbconvert_exporter": "python",
   "pygments_lexer": "ipython3",
   "version": "3.12.2"
  }
 },
 "nbformat": 4,
 "nbformat_minor": 5
}
