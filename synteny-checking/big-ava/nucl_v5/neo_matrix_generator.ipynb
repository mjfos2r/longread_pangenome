{
 "cells": [
  {
   "cell_type": "code",
   "execution_count": 7,
   "metadata": {},
   "outputs": [],
   "source": [
    "import pandas as pd\n",
    "import numpy as np"
   ]
  },
  {
   "cell_type": "code",
   "execution_count": 2,
   "metadata": {},
   "outputs": [],
   "source": [
    "detailed_homology ='ava_homology_detailed_v5.tsv'\n",
    "simple_homology = 'ava_homology_simple_v5.tsv'\n",
    "summary_homology = 'ava_homology_summary_v5.tsv'"
   ]
  },
  {
   "cell_type": "code",
   "execution_count": 27,
   "metadata": {},
   "outputs": [],
   "source": [
    "def create_homology_matrix(detailed_rows):\n",
    "    \"\"\"Creates a homology matrix from the detailed rows.\"\"\"\n",
    "    # Extract all unique contigs\n",
    "    all_contigs = set()\n",
    "    contig_lengths = {}\n",
    "    for row in detailed_rows[1:]:  # Skip header row\n",
    "        asm1_id, asm1_len, asm2_id, asm2_len = row[1], int(row[2]), row[4], int(row[5])\n",
    "        all_contigs.add(asm1_id)\n",
    "        all_contigs.add(asm2_id)\n",
    "        contig_lengths[asm1_id] = asm1_len\n",
    "        contig_lengths[asm2_id] = asm2_len\n",
    "\n",
    "    all_contigs = sorted(list(all_contigs))\n",
    "    n = len(all_contigs)\n",
    "\n",
    "    # Create a mapping of contig names to matrix indices\n",
    "    contig_to_index = {contig: i for i, contig in enumerate(all_contigs)}\n",
    "\n",
    "    # Initialize the matrix with zeros\n",
    "    np_matrix = np.zeros((n, n), dtype=np.int64)\n",
    "\n",
    "    # Fill the diagonal with contig lengths\n",
    "    for i, contig in enumerate(all_contigs):\n",
    "        np_matrix[i, i] = contig_lengths[contig]\n",
    "\n",
    "    # Fill the matrix with homology data\n",
    "    for row in detailed_rows[1:]:  # Skip header row\n",
    "        asm1_id, asm2_id, asm1_total_homology = row[1], row[4], int(row[7])\n",
    "        i, j = contig_to_index[asm1_id], contig_to_index[asm2_id]\n",
    "        np_matrix[i, j] = asm1_total_homology\n",
    "        np_matrix[j, i] = asm1_total_homology  # Ensure symmetry\n",
    "\n",
    "    # Create pandas DataFrame\n",
    "    df_matrix = pd.DataFrame(np_matrix, index=all_contigs, columns=all_contigs)\n",
    "\n",
    "    return np_matrix, df_matrix, all_contigs\n",
    "\n",
    "def check_diagonal_cells_np(np_matrix, contig_labels):\n",
    "    \"\"\"\n",
    "    Check the diagonal cells of the np_homology matrix to ensure none are zero.\n",
    "\n",
    "    Args:\n",
    "    np_matrix (numpy.ndarray): The numpy matrix representing the homology data.\n",
    "    contig_labels (list): List of contig labels corresponding to matrix rows/columns.\n",
    "\n",
    "    Returns:\n",
    "    list: List of contig labels with zero diagonal values, if any.\n",
    "    \"\"\"\n",
    "    zero_diagonals = []\n",
    "    for i, contig in enumerate(contig_labels):\n",
    "        if np_matrix[i, i] == 0:\n",
    "            zero_diagonals.append(contig)\n",
    "\n",
    "    return zero_diagonals\n",
    "\n",
    "def check_diagonal_cells_df(df_matrix):\n",
    "    \"\"\"\n",
    "    Check the diagonal cells of the homology DataFrame to ensure none are zero.\n",
    "\n",
    "    Args:\n",
    "    df_matrix (pd.DataFrame): The pandas DataFrame representing the homology data.\n",
    "\n",
    "    Returns:\n",
    "    list: List of contig labels with zero diagonal values, if any.\n",
    "    \"\"\"\n",
    "    zero_diagonals = []\n",
    "    for contig in df_matrix.index:\n",
    "        if df_matrix.loc[contig, contig] == 0:\n",
    "            zero_diagonals.append(contig)\n",
    "\n",
    "    return zero_diagonals\n",
    "\n",
    "def write_list_to_file(filename, data_list):\n",
    "    with open(filename, 'w') as file:\n",
    "        for item in data_list:\n",
    "            file.write(str(item) + '\\n')"
   ]
  },
  {
   "cell_type": "code",
   "execution_count": 21,
   "metadata": {},
   "outputs": [],
   "source": [
    "detailed_df = pandas.read_csv(detailed_homology, sep='\\t')\n",
    "simple_df = pandas.read_csv(simple_homology, sep='\\t')\n",
    "summary_df = pandas.read_csv(summary_homology, sep='\\t')"
   ]
  },
  {
   "cell_type": "code",
   "execution_count": 5,
   "metadata": {},
   "outputs": [
    {
     "name": "stdout",
     "output_type": "stream",
     "text": [
      "4329153\n",
      "4329153\n"
     ]
    }
   ],
   "source": [
    "drows = []\n",
    "num_rows = len(detailed_df)\n",
    "print(num_rows)\n",
    "for index, row in detailed_df.iterrows():\n",
    "    drows.append(row.to_list())\n",
    "print(len(drows))\n"
   ]
  },
  {
   "cell_type": "code",
   "execution_count": 8,
   "metadata": {},
   "outputs": [],
   "source": [
    "np_matrix, df_matrix, all_contigs = create_homology_matrix(drows)"
   ]
  },
  {
   "cell_type": "code",
   "execution_count": 26,
   "metadata": {},
   "outputs": [
    {
     "name": "stdout",
     "output_type": "stream",
     "text": [
      "All np contigs have non-zero lengths (diagonal values).\n",
      "All df contigs have non-zero lengths (diagonal values).\n"
     ]
    }
   ],
   "source": [
    "# Usage example:\n",
    "zero_contigs_np = check_diagonal_cells_np(np_matrix, all_contigs)\n",
    "zero_contigs_df = check_diagonal_cells_df(df_matrix)\n",
    "\n",
    "if zero_contigs_np:\n",
    "    print(f\"The following np contigs have zero length (diagonal value): {', '.join(zero_contigs_np)}\")\n",
    "else:\n",
    "    print(\"All np contigs have non-zero lengths (diagonal values).\")\n",
    "\n",
    "if zero_contigs_df:\n",
    "    print(f\"The following df contigs have zero length (diagonal value): {', '.join(zero_contigs_df)}\")\n",
    "else:\n",
    "    print(\"All df contigs have non-zero lengths (diagonal values).\")"
   ]
  },
  {
   "cell_type": "code",
   "execution_count": 29,
   "metadata": {},
   "outputs": [
    {
     "name": "stdout",
     "output_type": "stream",
     "text": [
      "[] []\n"
     ]
    }
   ],
   "source": [
    "print(zero_contigs_np, zero_contigs_df)"
   ]
  },
  {
   "cell_type": "code",
   "execution_count": 30,
   "metadata": {},
   "outputs": [],
   "source": [
    "np_matrix.tofile('ava_homology_np_matrix_v5.1.tsv', sep='\\t')\n",
    "df_matrix.to_csv('ava_homology_pd_matrix_labeled_v5.1.tsv', sep='\\t')\n",
    "write_list_to_file('ava_homology_np_matrix_labels_v5.1.txt', all_contigs)"
   ]
  },
  {
   "cell_type": "code",
   "execution_count": null,
   "metadata": {},
   "outputs": [],
   "source": []
  }
 ],
 "metadata": {
  "kernelspec": {
   "display_name": "Python 3",
   "language": "python",
   "name": "python3"
  },
  "language_info": {
   "codemirror_mode": {
    "name": "ipython",
    "version": 3
   },
   "file_extension": ".py",
   "mimetype": "text/x-python",
   "name": "python",
   "nbconvert_exporter": "python",
   "pygments_lexer": "ipython3",
   "version": "3.11.7"
  }
 },
 "nbformat": 4,
 "nbformat_minor": 2
}
