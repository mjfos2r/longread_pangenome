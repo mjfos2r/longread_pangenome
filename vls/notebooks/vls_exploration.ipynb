{
 "cells": [
  {
   "cell_type": "code",
   "execution_count": 49,
   "metadata": {},
   "outputs": [],
   "source": [
    "import os\n",
    "import sys\n",
    "import pandas\n",
    "import glob\n",
    "from Bio import SeqIO\n",
    "from Bio import SeqRecord\n",
    "from Bio import SeqFeature"
   ]
  },
  {
   "cell_type": "code",
   "execution_count": 30,
   "metadata": {},
   "outputs": [],
   "source": [
    "# lets set our paths for the assemblies\n",
    "assemblies_path = '/Users/mf019/bioinformatics/longread_GWAS/assemblies'\n",
    "annotations_path = f'{assemblies_path}/paired_assemblies/annotation'\n",
    "# and get a list of the genbank files we have.\n",
    "list_of_genbank_paths = glob.glob(f'{annotations_path}/genbank/*.gbff')"
   ]
  },
  {
   "cell_type": "code",
   "execution_count": 46,
   "metadata": {},
   "outputs": [
    {
     "data": {
      "text/plain": [
       "['__add__',\n",
       " '__bool__',\n",
       " '__bytes__',\n",
       " '__class__',\n",
       " '__contains__',\n",
       " '__delattr__',\n",
       " '__dict__',\n",
       " '__dir__',\n",
       " '__doc__',\n",
       " '__eq__',\n",
       " '__format__',\n",
       " '__ge__',\n",
       " '__getattribute__',\n",
       " '__getitem__',\n",
       " '__getstate__',\n",
       " '__gt__',\n",
       " '__hash__',\n",
       " '__init__',\n",
       " '__init_subclass__',\n",
       " '__iter__',\n",
       " '__le__',\n",
       " '__len__',\n",
       " '__lt__',\n",
       " '__module__',\n",
       " '__ne__',\n",
       " '__new__',\n",
       " '__radd__',\n",
       " '__reduce__',\n",
       " '__reduce_ex__',\n",
       " '__repr__',\n",
       " '__setattr__',\n",
       " '__sizeof__',\n",
       " '__str__',\n",
       " '__subclasshook__',\n",
       " '__weakref__',\n",
       " '_set_per_letter_annotations',\n",
       " '_set_seq',\n",
       " 'count',\n",
       " 'format',\n",
       " 'islower',\n",
       " 'isupper',\n",
       " 'letter_annotations',\n",
       " 'lower',\n",
       " 'reverse_complement',\n",
       " 'seq',\n",
       " 'translate',\n",
       " 'upper']"
      ]
     },
     "execution_count": 46,
     "metadata": {},
     "output_type": "execute_result"
    }
   ],
   "source": [
    "dir(SeqIO.SeqRecord)"
   ]
  },
  {
   "cell_type": "code",
   "execution_count": null,
   "metadata": {},
   "outputs": [],
   "source": [
    "# this is the dictionary structure for what we want to end up with.\n",
    "dict_format: dict = {\n",
    "    isolate : {\n",
    "        'shortread' : { # UNY123\n",
    "            assembly_path : 'path/to/assembly',\n",
    "          annotation_path : 'path/to/annotation',\n",
    "                  seq_obj : 'seq_dict' # see below\n",
    "            },\n",
    "         'longread' : { # UNY123H/P\n",
    "            assembly_path : 'path/to/assembly',\n",
    "          annotation_path : 'path/to/annotation',\n",
    "                  seq_obj : 'seq_dict' # see below\n",
    "            }\n",
    "        }\n",
    "}\n",
    "\n",
    "seq_dict: dict = {\n",
    "    'metadata' : {\n",
    "            'file' : 'path/to/file', # put the path to the file here\n",
    "        'filedate' : 'date', # date of the file creation\n",
    "       'parsedate' : 'date', # date of the file parsing (or the date of the creation of this object)\n",
    "      'filesource' : 'source', # where in the world did this file come from?\n",
    "          'origin' : 'origin', # where in the world did this organism come from?\n",
    "        'organism' : 'organism', # species name\n",
    "          'strain' : 'strain', # strain name\n",
    "          'length' : 'length', # how long is everything all together?\n",
    "     'num_records' : 'number of records', # count our contigs or replicons or chromosomes or plasmids or whatever a record is to you.\n",
    "    'num_features' : 'number of features', # count our features (genes and whatnot)\n",
    "      'additional' : [], # here is where we can put whatever else is needed.\n",
    "    },\n",
    "    'records' : {\n",
    "        'record_id' : { # this is contigs, replicons, chromosomes, plasmids, etc.\n",
    "              'seq' : 'actual_sequence', # this is nucleotide sequence of the forward strand, is a Seq() object which is basically a string with some extra methods :)\n",
    "         'features' : { # this is a dictionary of features parsed with biopython\n",
    "                  'name' : 'feature_name', # name of the feature\n",
    "              'location' : 'feature_location', # coordinates of the feature. (THIS SHOULD BE DIRECTLY USEABLE BY BIOPYTHON METHODS SUCH AS .extract() or .reverse_complement() or .complement() or .translate() or .seq)!\n",
    "                  'type' : 'feature_type', # what type of genetic feature is this (CDS, gene, rRNA, tRNA, etc)\n",
    "            'qualifiers' : 'feature_qualifiers' # any additional information about the feature from the genbank file? (Perhaps I could put my own notes here from lipopredict or something like that?)\n",
    "         }\n",
    "        },\n",
    "    },\n",
    "}"
   ]
  },
  {
   "cell_type": "code",
   "execution_count": 43,
   "metadata": {},
   "outputs": [
    {
     "name": "stderr",
     "output_type": "stream",
     "text": [
      "2024-04-18 11:31:37,072 - Level 2 - Found 105 genbank files\n"
     ]
    },
    {
     "ename": "TypeError",
     "evalue": "unbound method dict.setdefault() needs an argument",
     "output_type": "error",
     "traceback": [
      "\u001b[0;31m---------------------------------------------------------------------------\u001b[0m",
      "\u001b[0;31mTypeError\u001b[0m                                 Traceback (most recent call last)",
      "Cell \u001b[0;32mIn[43], line 3\u001b[0m\n\u001b[1;32m      1\u001b[0m \u001b[38;5;66;03m# lets count our annotation files:\u001b[39;00m\n\u001b[1;32m      2\u001b[0m log_message(\u001b[38;5;124mf\u001b[39m\u001b[38;5;124m'\u001b[39m\u001b[38;5;124mFound \u001b[39m\u001b[38;5;132;01m{\u001b[39;00m\u001b[38;5;28mlen\u001b[39m(list_of_genbank_paths)\u001b[38;5;132;01m}\u001b[39;00m\u001b[38;5;124m genbank files\u001b[39m\u001b[38;5;124m'\u001b[39m,\u001b[38;5;241m2\u001b[39m)\n\u001b[0;32m----> 3\u001b[0m all_assemblies \u001b[38;5;241m=\u001b[39m \u001b[38;5;28;43mdict\u001b[39;49m\u001b[38;5;241;43m.\u001b[39;49m\u001b[43msetdefault\u001b[49m\u001b[43m(\u001b[49m\u001b[43m)\u001b[49m\n\u001b[1;32m      4\u001b[0m \u001b[38;5;28;01mfor\u001b[39;00m file \u001b[38;5;129;01min\u001b[39;00m list_of_genbank_paths:\n\u001b[1;32m      5\u001b[0m     log_message(\u001b[38;5;124mf\u001b[39m\u001b[38;5;124m'\u001b[39m\u001b[38;5;124mProcessing \u001b[39m\u001b[38;5;132;01m{\u001b[39;00mfile\u001b[38;5;132;01m}\u001b[39;00m\u001b[38;5;124m'\u001b[39m,\u001b[38;5;241m2\u001b[39m) \u001b[38;5;66;03m# loggin\u001b[39;00m\n",
      "\u001b[0;31mTypeError\u001b[0m: unbound method dict.setdefault() needs an argument"
     ]
    }
   ],
   "source": [
    "# lets count our annotation files:\n",
    "log_message(f'Found {len(list_of_genbank_paths)} genbank files',2)\n",
    "all_assemblies = {}\n",
    "for file in list_of_genbank_paths:\n",
    "    log_message(f'Processing {file}',2) # loggin\n",
    "    basename = os.path.basename(file) # and strip the extension\n",
    "    basename = os.path.splitext(basename)[0]\n",
    "    all_assemblies[basename] = {}\n",
    "    records = SeqIO.parse(file, \"genbank\") # parse the multirecord genbank file!\n",
    "    for record in records:\n",
    "        features = [f for f in record.features if f.type == 'CDS']\n",
    "        log_message(f'Found {len(features)} features in {record.id} from file: {basename}',3)\n",
    "\n",
    "\n",
    "\n"
   ]
  },
  {
   "cell_type": "code",
   "execution_count": null,
   "metadata": {},
   "outputs": [],
   "source": []
  }
 ],
 "metadata": {
  "kernelspec": {
   "display_name": "Python 3",
   "language": "python",
   "name": "python3"
  },
  "language_info": {
   "codemirror_mode": {
    "name": "ipython",
    "version": 3
   },
   "file_extension": ".py",
   "mimetype": "text/x-python",
   "name": "python",
   "nbconvert_exporter": "python",
   "pygments_lexer": "ipython3",
   "version": "3.11.7"
  }
 },
 "nbformat": 4,
 "nbformat_minor": 2
}
