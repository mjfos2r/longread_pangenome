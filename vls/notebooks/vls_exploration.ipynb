{
 "cells": [
  {
   "cell_type": "code",
   "execution_count": 3,
   "metadata": {},
   "outputs": [],
   "source": [
    "import os\n",
    "import sys\n",
    "import pandas\n",
    "import glob\n",
    "from Bio import SeqIO\n",
    "from Bio import SeqRecord\n",
    "from Bio import SeqFeature"
   ]
  },
  {
   "cell_type": "code",
   "execution_count": 4,
   "metadata": {},
   "outputs": [],
   "source": [
    "# lets set our paths for the assemblies\n",
    "assemblies_path = '/Users/mf019/bioinformatics/longread_GWAS/assemblies'\n",
    "annotations_path = f'{assemblies_path}/paired_assemblies/annotation'\n",
    "# and get a list of the genbank files we have.\n",
    "list_of_genbank_paths = glob.glob(f'{annotations_path}/genbank/*.gbff')"
   ]
  },
  {
   "cell_type": "markdown",
   "metadata": {},
   "source": [
    "### this is the dictionary structure for what we want to end up with.\n",
    "```\n",
    "dict_format: dict = {\n",
    "    isolate : {\n",
    "        'shortread' : { # UNY123\n",
    "            assembly_path : 'path/to/assembly',\n",
    "          annotation_path : 'path/to/annotation',\n",
    "                  seq_obj : 'seq_dict' # see below\n",
    "            },\n",
    "         'longread' : { # UNY123H/P\n",
    "            assembly_path : 'path/to/assembly',\n",
    "          annotation_path : 'path/to/annotation',\n",
    "                  seq_obj : 'seq_dict' # see below\n",
    "            }\n",
    "        }\n",
    "}\n",
    "\n",
    "seq_dict: dict = {\n",
    "    'metadata' : {\n",
    "            'file' : 'path/to/file', # put the path to the file here\n",
    "        'filedate' : 'date', # date of the file creation\n",
    "       'parsedate' : 'date', # date of the file parsing (or the date of the creation of this object)\n",
    "      'filesource' : 'source', # where in the world did this file come from?\n",
    "          'origin' : 'origin', # where in the world did this organism come from?\n",
    "        'organism' : 'organism', # species name\n",
    "          'strain' : 'strain', # strain name\n",
    "          'length' : 'length', # how long is everything all together?\n",
    "     'num_records' : 'number of records', # count our contigs or replicons or chromosomes or plasmids or whatever a record is to you.\n",
    "    'num_features' : 'number of features', # count our features (genes and whatnot)\n",
    "      'additional' : [], # here is where we can put whatever else is needed.\n",
    "    },\n",
    "    'records' : {\n",
    "        'record_id' : { # this is contigs, replicons, chromosomes, plasmids, etc.\n",
    "              'seq' : 'actual_sequence', # this is nucleotide sequence of the forward strand, is a Seq() object which is basically a string with some extra methods :)\n",
    "         'features' : { # this is a dictionary of features parsed with biopython\n",
    "                  'name' : 'feature_name', # name of the feature\n",
    "              'location' : 'feature_location', # coordinates of the feature. (THIS SHOULD BE DIRECTLY USEABLE BY BIOPYTHON METHODS SUCH AS .extract() or .reverse_complement() or .complement() or .translate() or .seq)!\n",
    "                  'type' : 'feature_type', # what type of genetic feature is this (CDS, gene, rRNA, tRNA, etc)\n",
    "            'qualifiers' : 'feature_qualifiers' # any additional information about the feature from the genbank file? (Perhaps I could put my own notes here from lipopredict or something like that?)\n",
    "         }\n",
    "        },\n",
    "    },\n",
    "}\n",
    "```"
   ]
  },
  {
   "cell_type": "markdown",
   "metadata": {},
   "source": [
    "# ok let's pull out our VLS now."
   ]
  },
  {
   "cell_type": "code",
   "execution_count": 5,
   "metadata": {},
   "outputs": [],
   "source": [
    "# lets count our annotation files:\n",
    "all_assemblies = {}\n",
    "for file in list_of_genbank_paths:\n",
    "    basename = os.path.basename(file) # and strip the extension\n",
    "    basename = os.path.splitext(basename)[0]\n",
    "    all_assemblies[basename] = {}\n",
    "    records = SeqIO.parse(file, \"genbank\") # parse the multirecord genbank file!\n",
    "    for record in records:\n",
    "        features = [f for f in record.features if f.type == 'CDS']"
   ]
  },
  {
   "cell_type": "code",
   "execution_count": null,
   "metadata": {},
   "outputs": [],
   "source": []
  }
 ],
 "metadata": {
  "kernelspec": {
   "display_name": "Python 3",
   "language": "python",
   "name": "python3"
  },
  "language_info": {
   "codemirror_mode": {
    "name": "ipython",
    "version": 3
   },
   "file_extension": ".py",
   "mimetype": "text/x-python",
   "name": "python",
   "nbconvert_exporter": "python",
   "pygments_lexer": "ipython3",
   "version": "3.11.7"
  }
 },
 "nbformat": 4,
 "nbformat_minor": 2
}
