{
 "cells": [
  {
   "cell_type": "code",
   "execution_count": 1,
   "metadata": {},
   "outputs": [],
   "source": [
    "path1 = \"/home/mf019/edirect:/home/mf019/sratoolkit/bin:/home/mf019/bin:/home/mf019/miniconda3/bin:/home/mf019/miniconda3/condabin:/usr/local/bin:/usr/bin:/bin:/usr/local/games:/usr/games:/usr/local/go/bin:/home/mf019/miniconda3/bin:/bin/mauve/Mauve:/home/mf019/mmseqs/bin/\"\n",
    "path2 = \"/home/mf019/edirect:/home/mf019/sratoolkit/bin:/home/mf019/bin:/home/mf019/miniconda3/envs/RNAseq/bin:/home/mf019/miniconda3/condabin:/usr/local/bin:/usr/bin:/bin:/usr/local/games:/usr/games:/usr/local/go/bin:/home/mf019/miniconda3/bin:/bin/mauve/Mauve:/home/mf019/mmseqs/bin:/home/mf019/RNAseq_progs/bbmap/\""
   ]
  },
  {
   "cell_type": "code",
   "execution_count": 7,
   "metadata": {},
   "outputs": [],
   "source": [
    "paths1 = set(path1.split(\":\"))\n",
    "paths2 = set(path2.split(\":\"))"
   ]
  },
  {
   "cell_type": "code",
   "execution_count": 15,
   "metadata": {},
   "outputs": [
    {
     "name": "stdout",
     "output_type": "stream",
     "text": [
      "/usr/local/bin\n",
      "/bin/mauve/Mauve\n",
      "/bin\n",
      "/home/mf019/RNAseq_progs/bbmap/\n",
      "/home/mf019/sratoolkit/bin\n",
      "/usr/local/go/bin\n",
      "/home/mf019/miniconda3/condabin\n",
      "/home/mf019/miniconda3/envs/RNAseq/bin\n",
      "/home/mf019/mmseqs/bin\n",
      "/usr/bin\n",
      "/home/mf019/edirect\n",
      "/home/mf019/bin\n",
      "/home/mf019/mmseqs/bin/\n",
      "/usr/local/games\n",
      "/home/mf019/miniconda3/bin\n",
      "/usr/games\n"
     ]
    }
   ],
   "source": [
    "paths_unique = paths2.union(paths1)\n",
    "for item in paths_unique:\n",
    "    print(item)"
   ]
  },
  {
   "cell_type": "code",
   "execution_count": 16,
   "metadata": {},
   "outputs": [],
   "source": [
    "cleaned_paths = [\"/bin/mauve/Mauve\",\n",
    "\"/usr/bin\",\n",
    "\"/usr/local/bin\",\n",
    "\"/usr/local/go/bin\",\n",
    "\"/home/mf019/bin\",\n",
    "\"/home/mf019/bin/bbmap/\",\n",
    "\"/home/mf019/bin/sratoolkit/bin\",\n",
    "\"/home/mf019/bin/mmseqs/bin\",\n",
    "\"/home/mf019/miniconda3/bin\",\n",
    "\"/home/mf019/miniconda3/condabin\",\n",
    "\"/home/mf019/miniconda3/envs/RNAseq/bin\",\n",
    "\"/home/mf019/edirect\"]\n"
   ]
  },
  {
   "cell_type": "code",
   "execution_count": 17,
   "metadata": {},
   "outputs": [
    {
     "data": {
      "text/plain": [
       "'/bin/mauve/Mauve:/usr/bin:/usr/local/bin:/usr/local/go/bin:/home/mf019/bin:/home/mf019/bin/bbmap/:/home/mf019/bin/sratoolkit/bin:/home/mf019/bin/mmseqs/bin:/home/mf019/miniconda3/bin:/home/mf019/miniconda3/condabin:/home/mf019/miniconda3/envs/RNAseq/bin:/home/mf019/edirect'"
      ]
     },
     "execution_count": 17,
     "metadata": {},
     "output_type": "execute_result"
    }
   ],
   "source": [
    "\":\".join(cleaned_paths)"
   ]
  },
  {
   "cell_type": "code",
   "execution_count": null,
   "metadata": {},
   "outputs": [],
   "source": [
    "# >>> conda initialize >>>\n",
    "# !! Contents within this block are managed by 'conda init' !!\n",
    "__conda_setup=\"$('/home/mf019/bin/miniconda3/bin/conda' 'shell.bash' 'hook' 2> /dev/null)\"\n",
    "if [ $? -eq 0 ]; then\n",
    "    eval \"$__conda_setup\"\n",
    "else\n",
    "    if [ -f \"/home/mf019/bin/miniconda3/etc/profile.d/conda.sh\" ]; then\n",
    "        . \"/home/mf019/bin/miniconda3/etc/profile.d/conda.sh\"\n",
    "    else\n",
    "        export PATH=\"/home/mf019/bin/miniconda3/bin:$PATH\"\n",
    "    fi\n",
    "fi\n",
    "unset __conda_setup\n",
    "# <<< conda initialize <<<"
   ]
  }
 ],
 "metadata": {
  "kernelspec": {
   "display_name": "Python 3",
   "language": "python",
   "name": "python3"
  },
  "language_info": {
   "codemirror_mode": {
    "name": "ipython",
    "version": 3
   },
   "file_extension": ".py",
   "mimetype": "text/x-python",
   "name": "python",
   "nbconvert_exporter": "python",
   "pygments_lexer": "ipython3",
   "version": "3.11.10"
  }
 },
 "nbformat": 4,
 "nbformat_minor": 2
}
